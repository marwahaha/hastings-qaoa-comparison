{
 "cells": [
  {
   "cell_type": "markdown",
   "metadata": {},
   "source": [
    "# Hastings"
   ]
  },
  {
   "cell_type": "markdown",
   "metadata": {},
   "source": [
    "https://arxiv.org/pdf/1905.07047.pdf"
   ]
  },
  {
   "cell_type": "markdown",
   "metadata": {},
   "source": [
    "The goal is to reproduce the classical algorithm in the paper."
   ]
  },
  {
   "cell_type": "markdown",
   "metadata": {},
   "source": [
    "threshold algorithm -- working with D-regular graphs, N nodes\n",
    "\n",
    "As explained in that reference, the algorithm consists of randomly assigning each spin to a cut.  Then,for each spin, if sufficiently many neighborsagreewith the spin (i.e., are in the same cut), the given spin changes towhich cut it is assigned.  The study of this algorithm requires optimizing a single parameter, the threshold at whichthe  spin  changes  to  which  cut  it  is  assigned.   This  threshold  is  denotedτ.   We  will  refer  to  this  algorithm  as  the“threshold algorithm” below."
   ]
  },
  {
   "cell_type": "markdown",
   "metadata": {},
   "source": [
    "Way to estimate is\n",
    "$$\n",
    "(1/2+0.177/\\sqrt{D})M = (1/2 + 0.177/\\sqrt{D})DN/2,\n",
    "$$\n",
    "M is number of edges => DN/2"
   ]
  },
  {
   "cell_type": "code",
   "execution_count": null,
   "metadata": {},
   "outputs": [],
   "source": []
  },
  {
   "cell_type": "markdown",
   "metadata": {},
   "source": [
    "questions\n",
    "* what's the best way to implement graphs?\n",
    "    * adjacency matrix (will only have nk/n^2 nonzero entries..)?\n",
    "    * node to nodes lookup? (not bad...) ** WILL TRY THIS ONE **\n",
    "* how to simulate\n",
    "    * could use random graphs (networkx...)\n",
    "    * could enumerate all cases (all possible triangle-free D-regular graphs...)"
   ]
  },
  {
   "cell_type": "markdown",
   "metadata": {},
   "source": [
    "## Code"
   ]
  },
  {
   "cell_type": "code",
   "execution_count": 1,
   "metadata": {},
   "outputs": [],
   "source": [
    "import networkx as nx\n",
    "import random"
   ]
  },
  {
   "cell_type": "code",
   "execution_count": 2,
   "metadata": {},
   "outputs": [],
   "source": [
    "n = 100\n",
    "d = 4"
   ]
  },
  {
   "cell_type": "code",
   "execution_count": 3,
   "metadata": {},
   "outputs": [
    {
     "name": "stdout",
     "output_type": "stream",
     "text": [
      "took 299 times\n"
     ]
    }
   ],
   "source": [
    "# not that effective at finding triangle-free graphs\n",
    "times = 0\n",
    "while True:\n",
    "    times+=1\n",
    "    g = nx.random_regular_graph(d, n)\n",
    "    num_triangles = sum(nx.triangles(g).values())/3\n",
    "    if num_triangles == 0:\n",
    "        print(\"took %s times\" % times)\n",
    "        break"
   ]
  },
  {
   "cell_type": "code",
   "execution_count": 4,
   "metadata": {},
   "outputs": [],
   "source": [
    "# label nodes \"0\" or \"1\" randomly, uniformly\n",
    "for i in range(n):\n",
    "    g.nodes[i]['color'] = random.sample(range(2), 1)[0]"
   ]
  },
  {
   "cell_type": "code",
   "execution_count": 5,
   "metadata": {},
   "outputs": [],
   "source": [
    "def get_color(g, node):\n",
    "    return g.nodes[node]['color']\n",
    "\n",
    "def get_cut_fraction(g):\n",
    "    return len([i for i in list(g.edges()) if get_color(g, i[0]) != get_color(g, i[1])]) / len(g.edges())"
   ]
  },
  {
   "cell_type": "code",
   "execution_count": 6,
   "metadata": {},
   "outputs": [
    {
     "data": {
      "text/plain": [
       "0.48"
      ]
     },
     "execution_count": 6,
     "metadata": {},
     "output_type": "execute_result"
    }
   ],
   "source": [
    "get_cut_fraction(g)"
   ]
  },
  {
   "cell_type": "markdown",
   "metadata": {},
   "source": [
    "## July 7 2020 Goal: Reproduce Hastings result"
   ]
  },
  {
   "cell_type": "markdown",
   "metadata": {},
   "source": [
    "* D-regular graph\n",
    "* for each node, compute binomial probability of X/D agreeing for all X\n",
    "* use it to compute chance of any edge flipping\n",
    "* use it to compute max cut count"
   ]
  },
  {
   "cell_type": "markdown",
   "metadata": {},
   "source": [
    "$<Z_i Z_j> = 1/2 (\\sum_k P(k) q(k+1))^2 - 1/2 (\\sum_k P(k) q(k))^2$\n",
    "* q(k) is switch or stay, based on threshold (or other fn)\n",
    "* P(k) is binomial, from 0 to D-1 (neighbors not including j)"
   ]
  },
  {
   "cell_type": "code",
   "execution_count": 7,
   "metadata": {},
   "outputs": [],
   "source": [
    "import numpy as np\n",
    "import matplotlib.pyplot as plt\n",
    "from scipy.special import binom"
   ]
  },
  {
   "cell_type": "code",
   "execution_count": 8,
   "metadata": {},
   "outputs": [
    {
     "data": {
      "text/plain": [
       "array([ 1, -1, -1])"
      ]
     },
     "execution_count": 8,
     "metadata": {},
     "output_type": "execute_result"
    }
   ],
   "source": [
    "1-(np.array([1, 2, 3]) >= 2)*2 "
   ]
  },
  {
   "cell_type": "code",
   "execution_count": 9,
   "metadata": {},
   "outputs": [],
   "source": [
    "def q(k, threshold):\n",
    "    return 1-(k >= threshold)*2\n",
    "#     return -1 if k >= threshold else 1"
   ]
  },
  {
   "cell_type": "code",
   "execution_count": 10,
   "metadata": {},
   "outputs": [],
   "source": [
    "assert q(2, 3) == 1, \"testing q\"\n",
    "assert q(3, 3) == -1, \"testing q\"\n",
    "assert q(3, 2) == -1, \"testing q\"\n",
    "assert np.all(q(np.array([2,3,4]), 3) == np.array([1, -1, -1])), \"list of q\""
   ]
  },
  {
   "cell_type": "code",
   "execution_count": 11,
   "metadata": {},
   "outputs": [
    {
     "data": {
      "text/plain": [
       "array([  1.,  10.,  45., 120., 210., 252., 210., 120.,  45.,  10.])"
      ]
     },
     "execution_count": 11,
     "metadata": {},
     "output_type": "execute_result"
    }
   ],
   "source": [
    "# in case I need vector ops\n",
    "binom(10, range(10))"
   ]
  },
  {
   "cell_type": "code",
   "execution_count": 12,
   "metadata": {},
   "outputs": [],
   "source": [
    "def plot_T(D, outs):\n",
    "    plt.plot(range(len(outs)), outs)\n",
    "    plt.xlabel(\"min threshold to switch\")\n",
    "    plt.ylabel(\"improvement\")"
   ]
  },
  {
   "cell_type": "code",
   "execution_count": 13,
   "metadata": {},
   "outputs": [],
   "source": [
    "def calc_improvement(D, T):\n",
    "    \"\"\"This reproduces Hastings' thresholding algorithm. It calculates -1/2 <Z_i Z_j>\"\"\"\n",
    "    s1 = 0\n",
    "    s2 = 0\n",
    "    # go through # agreeing neighbors, from 0 through D-1\n",
    "    for i in range(D):\n",
    "        # factor out 2^-X\n",
    "        s1 += binom(D-1, i)*q(i+1, T)\n",
    "        s2 += binom(D-1, i)*q(i, T)\n",
    "    return -0.5 * 0.5 * (s1**2 - s2**2) * 2**(-2*(D-1))"
   ]
  },
  {
   "cell_type": "code",
   "execution_count": 14,
   "metadata": {},
   "outputs": [],
   "source": [
    "def gen_pts(D, fn):\n",
    "    \"\"\"Gets improvement over threshold, returns all results\"\"\"\n",
    "    outs = []\n",
    "    ## output should be minimized over T in [0,D+1]\n",
    "    for T in range(D+2):\n",
    "        outs.append(fn(D, T))\n",
    "    return outs\n",
    "\n",
    "def print_best(D, outs):\n",
    "    print(\"D =\", D, \"T =\", outs.index(max(outs)), \"improvement =\", max(outs))"
   ]
  },
  {
   "cell_type": "code",
   "execution_count": 15,
   "metadata": {},
   "outputs": [
    {
     "name": "stdout",
     "output_type": "stream",
     "text": [
      "D = 7 T = 5 improvement = 0.128173828125\n"
     ]
    },
    {
     "data": {
      "image/png": "[encoded data removed]",
      "text/plain": [
       "<Figure size 432x288 with 1 Axes>"
      ]
     },
     "metadata": {
      "needs_background": "light"
     },
     "output_type": "display_data"
    }
   ],
   "source": [
    "## 07-07-2020\n",
    "## working example of thresholding\n",
    "## reproduces hastings' table 1 !! Woohoo!\n",
    "D=7\n",
    "outs = gen_pts(D, calc_improvement)\n",
    "print_best(D, outs)\n",
    "plot_T(D, outs)"
   ]
  },
  {
   "cell_type": "markdown",
   "metadata": {},
   "source": [
    "#### 07-07-2020\n",
    "#### thresholding, admitting at least one triangle\n",
    "$ <Z_i Z_j> = 1/4 \\big( (\\sum_k P(k) q(k+2))^2 + (\\sum_k P(k) q(k+1))^2 -2 (\\sum_k P(k) q(k))(\\sum_k P(k) q(k+1))\\big) $"
   ]
  },
  {
   "cell_type": "code",
   "execution_count": 16,
   "metadata": {},
   "outputs": [],
   "source": [
    "def calc_improvement_one_triangle(D, T):\n",
    "    \"\"\"This reproduces Hastings' thresholding algorithm including one triangle. It calculates -1/2 <Z_i Z_j>\"\"\"\n",
    "    s1 = 0\n",
    "    s2 = 0\n",
    "    s3 = 0\n",
    "    # go through # agreeing neighbors, from 0 through D-2\n",
    "    for i in range(D-1):\n",
    "        # factor out 2^-X\n",
    "        s1 += binom(D-2, i)*q(i+2, T)\n",
    "        s2 += binom(D-2, i)*q(i+1, T)\n",
    "        s3 += binom(D-2, i)*q(i, T)\n",
    "    return -0.5 * 0.25 * (s1**2 + s2**2 - 2*s2*s3) * 2**(-2*(D-2))"
   ]
  },
  {
   "cell_type": "code",
   "execution_count": 21,
   "metadata": {},
   "outputs": [
    {
     "name": "stdout",
     "output_type": "stream",
     "text": [
      "D = 12 T = 8 improvement = 0.0986623764038086\n",
      "D = 12 T = 8 improvement = 0.08471488952636719\n"
     ]
    },
    {
     "data": {
      "image/png": "[encoded data removed]",
      "text/plain": [
       "<Figure size 432x288 with 1 Axes>"
      ]
     },
     "metadata": {
      "needs_background": "light"
     },
     "output_type": "display_data"
    }
   ],
   "source": [
    "## regular vs with a triangle\n",
    "D=12\n",
    "outs = gen_pts(D, calc_improvement)\n",
    "outs2 = gen_pts(D, calc_improvement_one_triangle)\n",
    "print_best(D, outs)\n",
    "print_best(D, outs2)\n",
    "plot_T(D, outs)\n",
    "plot_T(D, outs2)"
   ]
  },
  {
   "cell_type": "markdown",
   "metadata": {},
   "source": [
    "#### N triangles\n",
    "each term where i=j and term where i!= j, there are l neighbor triangles aligned with i\n",
    "\n",
    "$ <Z_i Z_j> = \\sum_{l=0}^N 0.5 P(l) \\Big( \\big( \\sum_{k=0}^{D-1-N} P(k) q(k+l+1) \\big)^2  \n",
    "-  \\big( \\sum_{k=0}^{D-1-N} P(k) q(k+l) \\big)\\big( \\sum_{k=0}^{D-1-N} P(k) q(k+N-l) \\big ) \\Big)$"
   ]
  },
  {
   "cell_type": "code",
   "execution_count": 22,
   "metadata": {},
   "outputs": [],
   "source": [
    "def calc_improvement_n_triangles(D, T, N):\n",
    "    p_k_vec = binom(D-1-N, range(D-N))\n",
    "    out=0\n",
    "    for l in range(0, N+1):\n",
    "        q_kl1_vec = q(np.array(range(l+1, D-N + l+1)), T)\n",
    "        q_kl_vec = q(np.array(range(l, D-N + l)), T)\n",
    "        q_knl_vec = q(np.array(range(N-l, D-N + N-l)), T)\n",
    "        l_out = sum(p_k_vec * q_kl1_vec)**2 - sum(p_k_vec * q_kl_vec)*sum(p_k_vec * q_knl_vec)\n",
    "        l_out *= binom(N, l)\n",
    "        out += l_out\n",
    "    return -0.5 * out * 2**(-N - 1) * 2**((-2*(D - 1 - N)))"
   ]
  },
  {
   "cell_type": "code",
   "execution_count": 23,
   "metadata": {},
   "outputs": [
    {
     "data": {
      "text/plain": [
       "-0.15625"
      ]
     },
     "execution_count": 23,
     "metadata": {},
     "output_type": "execute_result"
    }
   ],
   "source": [
    "calc_improvement(5, 2)"
   ]
  },
  {
   "cell_type": "code",
   "execution_count": 24,
   "metadata": {},
   "outputs": [
    {
     "data": {
      "text/plain": [
       "-0.1953125"
      ]
     },
     "execution_count": 24,
     "metadata": {},
     "output_type": "execute_result"
    }
   ],
   "source": [
    "calc_improvement_one_triangle(5, 2)"
   ]
  },
  {
   "cell_type": "code",
   "execution_count": 25,
   "metadata": {},
   "outputs": [
    {
     "data": {
      "text/plain": [
       "-0.15625"
      ]
     },
     "execution_count": 25,
     "metadata": {},
     "output_type": "execute_result"
    }
   ],
   "source": [
    "calc_improvement_n_triangles(5, 2, 0)"
   ]
  },
  {
   "cell_type": "code",
   "execution_count": 26,
   "metadata": {},
   "outputs": [
    {
     "data": {
      "text/plain": [
       "-0.1953125"
      ]
     },
     "execution_count": 26,
     "metadata": {},
     "output_type": "execute_result"
    }
   ],
   "source": [
    "calc_improvement_n_triangles(5, 2, 1)"
   ]
  },
  {
   "cell_type": "code",
   "execution_count": 27,
   "metadata": {},
   "outputs": [],
   "source": [
    "def calc_improvement_n_triangles_curried(n):\n",
    "    return lambda d, t: calc_improvement_n_triangles(d, t, n)"
   ]
  },
  {
   "cell_type": "code",
   "execution_count": 30,
   "metadata": {},
   "outputs": [
    {
     "name": "stdout",
     "output_type": "stream",
     "text": [
      "D = 7 T = 5 improvement = 0.128173828125\n",
      "D = 7 T = 5 improvement = 0.068359375\n"
     ]
    },
    {
     "data": {
      "image/png": "[encoded data removed]",
      "text/plain": [
       "<Figure size 432x288 with 1 Axes>"
      ]
     },
     "metadata": {
      "needs_background": "light"
     },
     "output_type": "display_data"
    }
   ],
   "source": [
    "## regular vs with a triangle\n",
    "D=7\n",
    "N=2\n",
    "outs = gen_pts(D, calc_improvement)\n",
    "outs2 = gen_pts(D, calc_improvement_n_triangles_curried(N))\n",
    "print_best(D, outs)\n",
    "print_best(D, outs2)\n",
    "plot_T(D, outs)\n",
    "plot_T(D, outs2)"
   ]
  },
  {
   "cell_type": "code",
   "execution_count": null,
   "metadata": {},
   "outputs": [],
   "source": []
  }
 ],
 "metadata": {
  "kernelspec": {
   "display_name": "Python 3",
   "language": "python",
   "name": "python3"
  },
  "language_info": {
   "codemirror_mode": {
    "name": "ipython",
    "version": 3
   },
   "file_extension": ".py",
   "mimetype": "text/x-python",
   "name": "python",
   "nbconvert_exporter": "python",
   "pygments_lexer": "ipython3",
   "version": "3.7.4"
  }
 },
 "nbformat": 4,
 "nbformat_minor": 4
}
