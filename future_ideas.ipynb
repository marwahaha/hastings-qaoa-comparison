{
 "cells": [
  {
   "cell_type": "markdown",
   "metadata": {},
   "source": [
    "## Goal 4: Extend max cut algorithm to p=2\n",
    "* start with triangle-free graphs\n",
    "* will need to find a reference for QAOA"
   ]
  },
  {
   "cell_type": "markdown",
   "metadata": {},
   "source": [
    "for triangle and square free, you can replace $P_\\delta(k) = (0.5 - \\delta)^k (0.5 + \\delta)^{(n-k)} {n \\choose k}$\n",
    "since every edge has identical chance of agreeing or disagreeing, with probability $1/2 - \\delta$\n",
    "\n",
    "since $\\delta = -0.5 <Z_i Z_j>$, we could use $0.5 \\mp \\delta = (1 \\pm <Z_i Z_j>)/2$ so\n",
    "$$\n",
    "P_\\delta(k) = (1 + <Z_i Z_j>)^k (1 - <Z_i Z_j>)^{(n-k)} P_0(k)\n",
    "$$\n",
    "where $P(k) = P_0(k)$"
   ]
  },
  {
   "cell_type": "code",
   "execution_count": null,
   "metadata": {},
   "outputs": [],
   "source": []
  },
  {
   "cell_type": "code",
   "execution_count": null,
   "metadata": {},
   "outputs": [],
   "source": []
  },
  {
   "cell_type": "markdown",
   "metadata": {},
   "source": [
    "---"
   ]
  },
  {
   "cell_type": "markdown",
   "metadata": {},
   "source": [
    "## Goal 5: Modify Hastings thresholding algorithm to do better with triangles.\n",
    "* What if you only looked at neighbors that weren't shared with other nodes?"
   ]
  },
  {
   "cell_type": "code",
   "execution_count": null,
   "metadata": {},
   "outputs": [],
   "source": []
  }
 ],
 "metadata": {
  "kernelspec": {
   "display_name": "Python 3",
   "language": "python",
   "name": "python3"
  },
  "language_info": {
   "codemirror_mode": {
    "name": "ipython",
    "version": 3
   },
   "file_extension": ".py",
   "mimetype": "text/x-python",
   "name": "python",
   "nbconvert_exporter": "python",
   "pygments_lexer": "ipython3",
   "version": "3.7.4"
  }
 },
 "nbformat": 4,
 "nbformat_minor": 4
}
