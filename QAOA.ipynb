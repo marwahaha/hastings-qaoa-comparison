{
 "cells": [
  {
   "cell_type": "markdown",
   "metadata": {},
   "source": [
    "## QAOA analysis"
   ]
  },
  {
   "cell_type": "markdown",
   "metadata": {},
   "source": [
    "https://ntrs.nasa.gov/archive/nasa/casi.ntrs.nasa.gov/20180001595.pdf\n",
    "\n",
    "See theorem 1"
   ]
  },
  {
   "cell_type": "markdown",
   "metadata": {},
   "source": [
    "$$\n",
    "〈Cuv〉(d,e,f)  =1/2+1/4sin 4βsinγ(cos^dγ+cos^eγ)−1/4sin^2βcos^{(d+e−2f)}γ(1−cos^f2γ)\n",
    "$$\n",
    "\n",
    "where u, v has number of vertices d+1, e+1 with f triangles."
   ]
  },
  {
   "cell_type": "markdown",
   "metadata": {},
   "source": [
    "* analysis was taken by Hastings when f=0, d=e (d+1 - triangle-free graph)\n",
    "$$\n",
    "<Cuv> = 1/2( 1 + sin(4 \\beta) sin(\\gamma) cos^d(\\gamma))\n",
    "$$\n",
    "\n",
    "Optimal value (WHY?)\n",
    "$$\n",
    "1/2 (1 + (1/\\sqrt{d})(d/D)^{D/2})\n",
    "$$\n",
    "\n",
    "Where D is maximum vertex degree --> so for regular graphs, I guess it's $$1/2 (1 + (1/\\sqrt{d})(\\dfrac{d}{d+1})^{(d+1)/2})$$?\n",
    "\n",
    "$$\n",
    "1/\\sqrt{d}$$ or $$ 1/\\sqrt{d+1}?$$"
   ]
  },
  {
   "cell_type": "code",
   "execution_count": 3,
   "metadata": {},
   "outputs": [],
   "source": [
    "def f(D):\n",
    "    return ((D-1)/D)**((D-1)/2)"
   ]
  },
  {
   "cell_type": "code",
   "execution_count": 20,
   "metadata": {},
   "outputs": [
    {
     "data": {
      "text/plain": [
       "[<matplotlib.lines.Line2D at 0x7f1fafc0a2d0>]"
      ]
     },
     "execution_count": 20,
     "metadata": {},
     "output_type": "execute_result"
    },
    {
     "data": {
      "image/png": "[encoded data removed]",
      "text/plain": [
       "<Figure size 432x288 with 1 Axes>"
      ]
     },
     "metadata": {
      "needs_background": "light"
     },
     "output_type": "display_data"
    }
   ],
   "source": [
    "import matplotlib.pyplot as plt\n",
    "inputs = range(1, 1000)\n",
    "plt.plot(inputs, [f(i) for i in inputs])"
   ]
  },
  {
   "cell_type": "code",
   "execution_count": 22,
   "metadata": {},
   "outputs": [],
   "source": [
    "from math import log, e"
   ]
  },
  {
   "cell_type": "code",
   "execution_count": 19,
   "metadata": {},
   "outputs": [
    {
     "data": {
      "text/plain": [
       "0.6931471805599453"
      ]
     },
     "execution_count": 19,
     "metadata": {},
     "output_type": "execute_result"
    }
   ],
   "source": [
    "log(2)"
   ]
  },
  {
   "cell_type": "code",
   "execution_count": 30,
   "metadata": {},
   "outputs": [
    {
     "data": {
      "text/plain": [
       "0.2567309695367395"
      ]
     },
     "execution_count": 30,
     "metadata": {},
     "output_type": "execute_result"
    }
   ],
   "source": [
    "ln"
   ]
  },
  {
   "cell_type": "code",
   "execution_count": 36,
   "metadata": {},
   "outputs": [],
   "source": [
    "def test1(n, k):\n",
    "    return (1 + k/n)**n"
   ]
  },
  {
   "cell_type": "code",
   "execution_count": 43,
   "metadata": {},
   "outputs": [
    {
     "data": {
      "text/plain": [
       "[<matplotlib.lines.Line2D at 0x7f1faf8c22d0>]"
      ]
     },
     "execution_count": 43,
     "metadata": {},
     "output_type": "execute_result"
    },
    {
     "data": {
      "image/png": "[encoded data removed]",
      "text/plain": [
       "<Figure size 432x288 with 1 Axes>"
      ]
     },
     "metadata": {
      "needs_background": "light"
     },
     "output_type": "display_data"
    }
   ],
   "source": [
    "# test1 series converges at e^k\n",
    "k=4\n",
    "import matplotlib.pyplot as plt\n",
    "inputs = range(1, 1000)\n",
    "plt.plot(inputs, [test1(i, k) for i in inputs])\n",
    "plt.plot(inputs, [e**k]*len(inputs))"
   ]
  },
  {
   "cell_type": "code",
   "execution_count": 45,
   "metadata": {},
   "outputs": [
    {
     "data": {
      "text/plain": [
       "0.6065306597126334"
      ]
     },
     "execution_count": 45,
     "metadata": {},
     "output_type": "execute_result"
    }
   ],
   "source": [
    "e**-0.5"
   ]
  },
  {
   "cell_type": "code",
   "execution_count": 50,
   "metadata": {},
   "outputs": [
    {
     "data": {
      "text/plain": [
       "-0.500215444653975"
      ]
     },
     "execution_count": 50,
     "metadata": {},
     "output_type": "execute_result"
    }
   ],
   "source": [
    "log(0.6064)"
   ]
  },
  {
   "cell_type": "markdown",
   "metadata": {},
   "source": [
    "What about with triangles? but d=e"
   ]
  },
  {
   "cell_type": "code",
   "execution_count": 69,
   "metadata": {},
   "outputs": [],
   "source": [
    "from numpy import sin, cos, linspace, pi\n",
    "import numpy as np"
   ]
  },
  {
   "cell_type": "code",
   "execution_count": 113,
   "metadata": {},
   "outputs": [
    {
     "data": {
      "text/plain": [
       "0.2255134058981312"
      ]
     },
     "execution_count": 113,
     "metadata": {},
     "output_type": "execute_result"
    }
   ],
   "source": [
    "d=20\n"
   ]
  },
  {
   "cell_type": "code",
   "execution_count": 154,
   "metadata": {},
   "outputs": [],
   "source": [
    "def triangles(beta, gamma, d, f):\n",
    "    return 0.5 + \\\n",
    "            0.5*sin(4*beta)*sin(gamma)*(cos(gamma)**d) - \\\n",
    "            0.25*sin(beta)*sin(beta)*(cos(gamma)**(2*d-2*f))*(1 - cos(2*gamma)**f)"
   ]
  },
  {
   "cell_type": "code",
   "execution_count": 155,
   "metadata": {},
   "outputs": [],
   "source": [
    "def get_max(d, f):\n",
    "    reses = []\n",
    "    for beta in linspace(0, 2*pi, 64):\n",
    "        res = []\n",
    "#         for gamma in linspace(0, 2*pi, 64):\n",
    "#             out = triangles(beta, gamma, d, f)\n",
    "#             res.append(out)\n",
    "        # try optimal for triangle-free\n",
    "        res.append(triangles(beta, np.arctan((1/d)**0.5), d, f))\n",
    "        reses += res\n",
    "    return max(reses)\n"
   ]
  },
  {
   "cell_type": "code",
   "execution_count": 156,
   "metadata": {},
   "outputs": [
    {
     "data": {
      "text/plain": [
       "0.5935783166279349"
      ]
     },
     "execution_count": 156,
     "metadata": {},
     "output_type": "execute_result"
    }
   ],
   "source": [
    "get_max(10, 0)"
   ]
  },
  {
   "cell_type": "code",
   "execution_count": 157,
   "metadata": {},
   "outputs": [
    {
     "data": {
      "text/plain": [
       "[<matplotlib.lines.Line2D at 0x7f1faebe15d0>]"
      ]
     },
     "execution_count": 157,
     "metadata": {},
     "output_type": "execute_result"
    },
    {
     "data": {
      "image/png": "[encoded data removed]",
      "text/plain": [
       "<Figure size 432x288 with 1 Axes>"
      ]
     },
     "metadata": {
      "needs_background": "light"
     },
     "output_type": "display_data"
    }
   ],
   "source": [
    "# should reproduce previous work by hastings and wang\n",
    "# it doesn't. why not?\n",
    "f=0\n",
    "inputs = range(2, 100)\n",
    "plt.plot(inputs, [get_max(d, f) for d in inputs])"
   ]
  },
  {
   "cell_type": "code",
   "execution_count": null,
   "metadata": {},
   "outputs": [],
   "source": []
  },
  {
   "cell_type": "code",
   "execution_count": null,
   "metadata": {},
   "outputs": [],
   "source": []
  }
 ],
 "metadata": {
  "kernelspec": {
   "display_name": "Python 3",
   "language": "python",
   "name": "python3"
  },
  "language_info": {
   "codemirror_mode": {
    "name": "ipython",
    "version": 3
   },
   "file_extension": ".py",
   "mimetype": "text/x-python",
   "name": "python",
   "nbconvert_exporter": "python",
   "pygments_lexer": "ipython3",
   "version": "3.7.4"
  }
 },
 "nbformat": 4,
 "nbformat_minor": 4
}
