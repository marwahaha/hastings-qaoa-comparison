{
 "cells": [
  {
   "cell_type": "markdown",
   "metadata": {},
   "source": [
    "## QAOA analysis"
   ]
  },
  {
   "cell_type": "markdown",
   "metadata": {},
   "source": [
    "https://ntrs.nasa.gov/archive/nasa/casi.ntrs.nasa.gov/20180001595.pdf\n",
    "\n",
    "See theorem 1"
   ]
  },
  {
   "cell_type": "markdown",
   "metadata": {},
   "source": [
    "$$\n",
    "〈Cuv〉(d,e,f)  =1/2+1/4sin 4βsinγ(cos^dγ+cos^eγ)−1/4sin^2βcos^{(d+e−2f)}γ(1−cos^f2γ)\n",
    "$$\n",
    "\n",
    "where u, v has number of vertices d+1, e+1 with f triangles."
   ]
  },
  {
   "cell_type": "markdown",
   "metadata": {},
   "source": [
    "* analysis was taken by Hastings when f=0, d=e (d+1 - triangle-free graph)\n",
    "$$\n",
    "<Cuv> = 1/2( 1 + sin(4 \\beta) sin(\\gamma) cos^d(\\gamma))\n",
    "$$\n",
    "\n",
    "Optimal value (WHY?)\n",
    "$$\n",
    "1/2 (1 + (1/\\sqrt{d})(d/D)^{D/2})\n",
    "$$\n",
    "\n",
    "Where D is maximum vertex degree --> so for regular graphs, I guess it's $$1/2 (1 + (1/\\sqrt{d})(\\dfrac{d}{d+1})^{(d+1)/2})$$?\n",
    "\n",
    "$$\n",
    "1/\\sqrt{d}$$ or $$ 1/\\sqrt{d+1}?$$"
   ]
  },
  {
   "cell_type": "code",
   "execution_count": 281,
   "metadata": {},
   "outputs": [],
   "source": [
    "def best(D):\n",
    "    return ((D-1)/D)**((D-1)/2)"
   ]
  },
  {
   "cell_type": "code",
   "execution_count": 293,
   "metadata": {},
   "outputs": [
    {
     "data": {
      "text/plain": [
       "[<matplotlib.lines.Line2D at 0x7f1fadf59a10>]"
      ]
     },
     "execution_count": 293,
     "metadata": {},
     "output_type": "execute_result"
    },
    {
     "data": {
      "image/png": "[encoded data removed]",
      "text/plain": [
       "<Figure size 432x288 with 1 Axes>"
      ]
     },
     "metadata": {
      "needs_background": "light"
     },
     "output_type": "display_data"
    }
   ],
   "source": [
    "import matplotlib.pyplot as plt\n",
    "inputs = range(1, 50)\n",
    "plt.plot(inputs, [best(i) for i in inputs])\n",
    "plt.plot(inputs, [0.5 + 0.5*(i**-0.5)*best(i) for i in inputs])"
   ]
  },
  {
   "cell_type": "code",
   "execution_count": 22,
   "metadata": {},
   "outputs": [],
   "source": [
    "from math import log, e"
   ]
  },
  {
   "cell_type": "code",
   "execution_count": 19,
   "metadata": {},
   "outputs": [
    {
     "data": {
      "text/plain": [
       "0.6931471805599453"
      ]
     },
     "execution_count": 19,
     "metadata": {},
     "output_type": "execute_result"
    }
   ],
   "source": [
    "log(2)"
   ]
  },
  {
   "cell_type": "code",
   "execution_count": 30,
   "metadata": {},
   "outputs": [
    {
     "data": {
      "text/plain": [
       "0.2567309695367395"
      ]
     },
     "execution_count": 30,
     "metadata": {},
     "output_type": "execute_result"
    }
   ],
   "source": [
    "ln"
   ]
  },
  {
   "cell_type": "code",
   "execution_count": 36,
   "metadata": {},
   "outputs": [],
   "source": [
    "def test1(n, k):\n",
    "    return (1 + k/n)**n"
   ]
  },
  {
   "cell_type": "code",
   "execution_count": 43,
   "metadata": {},
   "outputs": [
    {
     "data": {
      "text/plain": [
       "[<matplotlib.lines.Line2D at 0x7f1faf8c22d0>]"
      ]
     },
     "execution_count": 43,
     "metadata": {},
     "output_type": "execute_result"
    },
    {
     "data": {
      "image/png": "[encoded data removed]",
      "text/plain": [
       "<Figure size 432x288 with 1 Axes>"
      ]
     },
     "metadata": {
      "needs_background": "light"
     },
     "output_type": "display_data"
    }
   ],
   "source": [
    "# test1 series converges at e^k\n",
    "k=4\n",
    "import matplotlib.pyplot as plt\n",
    "inputs = range(1, 1000)\n",
    "plt.plot(inputs, [test1(i, k) for i in inputs])\n",
    "plt.plot(inputs, [e**k]*len(inputs))"
   ]
  },
  {
   "cell_type": "code",
   "execution_count": 45,
   "metadata": {},
   "outputs": [
    {
     "data": {
      "text/plain": [
       "0.6065306597126334"
      ]
     },
     "execution_count": 45,
     "metadata": {},
     "output_type": "execute_result"
    }
   ],
   "source": [
    "e**-0.5"
   ]
  },
  {
   "cell_type": "code",
   "execution_count": 50,
   "metadata": {},
   "outputs": [
    {
     "data": {
      "text/plain": [
       "-0.500215444653975"
      ]
     },
     "execution_count": 50,
     "metadata": {},
     "output_type": "execute_result"
    }
   ],
   "source": [
    "log(0.6064)"
   ]
  },
  {
   "cell_type": "markdown",
   "metadata": {},
   "source": [
    "What about with triangles? but d=e"
   ]
  },
  {
   "cell_type": "code",
   "execution_count": 69,
   "metadata": {},
   "outputs": [],
   "source": [
    "from numpy import sin, cos, linspace, pi\n",
    "import numpy as np"
   ]
  },
  {
   "cell_type": "code",
   "execution_count": 113,
   "metadata": {},
   "outputs": [
    {
     "data": {
      "text/plain": [
       "0.2255134058981312"
      ]
     },
     "execution_count": 113,
     "metadata": {},
     "output_type": "execute_result"
    }
   ],
   "source": [
    "d=20\n"
   ]
  },
  {
   "cell_type": "code",
   "execution_count": 190,
   "metadata": {},
   "outputs": [
    {
     "data": {
      "text/plain": [
       "0.6209213230591554"
      ]
     },
     "execution_count": 190,
     "metadata": {},
     "output_type": "execute_result"
    }
   ],
   "source": [
    "cos(np.arctan((1/10)**0.5))**10"
   ]
  },
  {
   "cell_type": "code",
   "execution_count": 217,
   "metadata": {},
   "outputs": [
    {
     "data": {
      "text/plain": [
       "0.5095876953523788"
      ]
     },
     "execution_count": 217,
     "metadata": {},
     "output_type": "execute_result"
    }
   ],
   "source": [
    "# losing precision here, I think. how do I calculate cos(x)**d without losing digits?\n",
    "d=1000\n",
    "gamma=np.arctan((1/d)**0.5)\n",
    "# cos(gamma)\n",
    "0.5 + 0.5*sin(gamma)*e**(log(cos(gamma))*d)"
   ]
  },
  {
   "cell_type": "code",
   "execution_count": 221,
   "metadata": {},
   "outputs": [],
   "source": [
    "def triangles(beta, gamma, d, f):\n",
    "    return 0.5 + \\\n",
    "            0.5*sin(4*beta)*sin(gamma)*(cos(gamma)**d) - \\\n",
    "            0.25*sin(beta)*sin(beta)*(cos(gamma)**(2*d-2*f))*(1 - cos(2*gamma)**f)"
   ]
  },
  {
   "cell_type": "code",
   "execution_count": 305,
   "metadata": {},
   "outputs": [],
   "source": [
    "def get_max(d, f):\n",
    "    reses = []\n",
    "    for beta in linspace(0, 2*pi, 128):\n",
    "        res = []\n",
    "        for gamma in linspace(0, 2*pi, 128):\n",
    "            out = triangles(beta, gamma, d, f)\n",
    "            res.append(out)\n",
    "        # try optimal for triangle-free\n",
    "#         res.append(triangles(beta, np.arctan((1/d)**0.5), d, f))\n",
    "        reses += res\n",
    "    return max(reses)\n"
   ]
  },
  {
   "cell_type": "markdown",
   "metadata": {},
   "source": [
    "experimental idea"
   ]
  },
  {
   "cell_type": "code",
   "execution_count": 306,
   "metadata": {},
   "outputs": [
    {
     "data": {
      "text/plain": [
       "0.5546875"
      ]
     },
     "execution_count": 306,
     "metadata": {},
     "output_type": "execute_result"
    },
    {
     "data": {
      "image/png": "[encoded data removed]",
      "text/plain": [
       "<Figure size 432x288 with 1 Axes>"
      ]
     },
     "metadata": {
      "needs_background": "light"
     },
     "output_type": "display_data"
    }
   ],
   "source": [
    "inputs = linspace(0, 2*pi, 512)\n",
    "outs = [sin(4*i) - (sin(i)**2) for i in inputs]\n",
    "\n",
    "plt.plot(inputs, outs)\n",
    "plt.plot(inputs, [1-sin(pi/8)**2]*len(inputs))\n",
    "outs.index(max(outs))/512"
   ]
  },
  {
   "cell_type": "code",
   "execution_count": 307,
   "metadata": {},
   "outputs": [
    {
     "data": {
      "text/plain": [
       "0.5475105835565296"
      ]
     },
     "execution_count": 307,
     "metadata": {},
     "output_type": "execute_result"
    }
   ],
   "source": [
    "get_max(40, 0)"
   ]
  },
  {
   "cell_type": "code",
   "execution_count": 308,
   "metadata": {},
   "outputs": [
    {
     "data": {
      "text/plain": [
       "0.1464466094067267"
      ]
     },
     "execution_count": 308,
     "metadata": {},
     "output_type": "execute_result"
    }
   ],
   "source": [
    "sin(15*pi/8)**2"
   ]
  },
  {
   "cell_type": "markdown",
   "metadata": {},
   "source": [
    "vet to make sure this matches optimal for triangle-free"
   ]
  },
  {
   "cell_type": "code",
   "execution_count": 309,
   "metadata": {},
   "outputs": [
    {
     "data": {
      "text/plain": [
       "[<matplotlib.lines.Line2D at 0x7f1fadb6d650>]"
      ]
     },
     "execution_count": 309,
     "metadata": {},
     "output_type": "execute_result"
    },
    {
     "data": {
      "image/png": "[encoded data removed]",
      "text/plain": [
       "<Figure size 432x288 with 1 Axes>"
      ]
     },
     "metadata": {
      "needs_background": "light"
     },
     "output_type": "display_data"
    }
   ],
   "source": [
    "# should reproduce previous work by hastings and wang\n",
    "# want to see how it varies with f, and see if it gets better or worse with triangles\n",
    "f=0\n",
    "inputs = range(2, 100)\n",
    "plt.plot(inputs, [(get_max(d, f)-0.5)*2*(d+1)**0.5 for d in inputs])\n",
    "plt.plot(inputs, [best(i) for i in inputs])"
   ]
  },
  {
   "cell_type": "markdown",
   "metadata": {},
   "source": [
    "Gets worse with more triangles"
   ]
  },
  {
   "cell_type": "code",
   "execution_count": 315,
   "metadata": {},
   "outputs": [
    {
     "data": {
      "text/plain": [
       "[<matplotlib.lines.Line2D at 0x7f1fae01ff50>]"
      ]
     },
     "execution_count": 315,
     "metadata": {},
     "output_type": "execute_result"
    },
    {
     "data": {
      "image/png": "[encoded data removed]",
      "text/plain": [
       "<Figure size 432x288 with 1 Axes>"
      ]
     },
     "metadata": {
      "needs_background": "light"
     },
     "output_type": "display_data"
    }
   ],
   "source": [
    "# should reproduce previous work by hastings and wang\n",
    "# want to see how it varies with f, and see if it gets better or worse with triangles\n",
    "f=10\n",
    "inputs = range(2, 40)\n",
    "plt.plot(inputs, [(get_max(d, f)-0.5)*2*(d+1)**0.5 for d in inputs])\n",
    "plt.plot(inputs, [best(i) for i in inputs])"
   ]
  },
  {
   "cell_type": "code",
   "execution_count": 321,
   "metadata": {},
   "outputs": [
    {
     "data": {
      "text/plain": [
       "[<matplotlib.lines.Line2D at 0x7f1fad8864d0>]"
      ]
     },
     "execution_count": 321,
     "metadata": {},
     "output_type": "execute_result"
    },
    {
     "data": {
      "image/png": "[encoded data removed]",
      "text/plain": [
       "<Figure size 432x288 with 1 Axes>"
      ]
     },
     "metadata": {
      "needs_background": "light"
     },
     "output_type": "display_data"
    }
   ],
   "source": [
    "# should reproduce previous work by hastings and wang\n",
    "# want to see how it varies with f, and see if it gets better or worse with triangles\n",
    "f=10\n",
    "inputs = range(2, 40)\n",
    "plt.plot(inputs, [get_max(d, f) for d in inputs])\n",
    "plt.plot(inputs, [0.5 + 0.5*(i**-0.5)*best(i) for i in inputs])"
   ]
  },
  {
   "cell_type": "markdown",
   "metadata": {},
   "source": [
    "Could try to solve this analytically for f=1, or f=2, etc"
   ]
  },
  {
   "cell_type": "markdown",
   "metadata": {},
   "source": [
    "could compare these results with hastings with triangles... each f=** value (that's how triangles works, f is number of triangles)"
   ]
  },
  {
   "cell_type": "code",
   "execution_count": null,
   "metadata": {},
   "outputs": [],
   "source": []
  }
 ],
 "metadata": {
  "kernelspec": {
   "display_name": "Python 3",
   "language": "python",
   "name": "python3"
  },
  "language_info": {
   "codemirror_mode": {
    "name": "ipython",
    "version": 3
   },
   "file_extension": ".py",
   "mimetype": "text/x-python",
   "name": "python",
   "nbconvert_exporter": "python",
   "pygments_lexer": "ipython3",
   "version": "3.7.4"
  }
 },
 "nbformat": 4,
 "nbformat_minor": 4
}
