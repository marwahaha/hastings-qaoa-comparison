{
 "cells": [
  {
   "cell_type": "markdown",
   "metadata": {},
   "source": [
    "This was a failed attempt at trying to reproduce the results in the paper by actually simulating graphs.\n",
    "Hastings uses a simpler analysis just looking at $<Z_iZ_j>$ for a particular subgraph, then combining using linearity of expectation (all subgraphs are identical)."
   ]
  },
  {
   "cell_type": "markdown",
   "metadata": {},
   "source": [
    "My attempt is below."
   ]
  },
  {
   "cell_type": "markdown",
   "metadata": {},
   "source": [
    "* what's the best way to implement graphs?\n",
    "    * adjacency matrix? (nk/n^2 nonzero entries)\n",
    "    * node to node lookup? Trying it below\n",
    "* how to simulate\n",
    "    * could use random graphs (networkx)\n",
    "    * could enumerate all graphs"
   ]
  },
  {
   "cell_type": "markdown",
   "metadata": {},
   "source": [
    "## Code"
   ]
  },
  {
   "cell_type": "code",
   "execution_count": 1,
   "metadata": {},
   "outputs": [],
   "source": [
    "import networkx as nx\n",
    "import random"
   ]
  },
  {
   "cell_type": "code",
   "execution_count": 2,
   "metadata": {},
   "outputs": [],
   "source": [
    "n = 100\n",
    "d = 4"
   ]
  },
  {
   "cell_type": "code",
   "execution_count": 3,
   "metadata": {},
   "outputs": [
    {
     "name": "stdout",
     "output_type": "stream",
     "text": [
      "took 299 times\n"
     ]
    }
   ],
   "source": [
    "# not that effective at finding triangle-free graphs\n",
    "times = 0\n",
    "while True:\n",
    "    times+=1\n",
    "    g = nx.random_regular_graph(d, n)\n",
    "    num_triangles = sum(nx.triangles(g).values())/3\n",
    "    if num_triangles == 0:\n",
    "        print(\"took %s times\" % times)\n",
    "        break"
   ]
  },
  {
   "cell_type": "code",
   "execution_count": 4,
   "metadata": {},
   "outputs": [],
   "source": [
    "# label nodes \"0\" or \"1\" randomly, uniformly\n",
    "for i in range(n):\n",
    "    g.nodes[i]['color'] = random.sample(range(2), 1)[0]"
   ]
  },
  {
   "cell_type": "code",
   "execution_count": 5,
   "metadata": {},
   "outputs": [],
   "source": [
    "def get_color(g, node):\n",
    "    return g.nodes[node]['color']\n",
    "\n",
    "def get_cut_fraction(g):\n",
    "    return len([i for i in list(g.edges()) if get_color(g, i[0]) != get_color(g, i[1])]) / len(g.edges())"
   ]
  },
  {
   "cell_type": "code",
   "execution_count": 6,
   "metadata": {},
   "outputs": [
    {
     "data": {
      "text/plain": [
       "0.48"
      ]
     },
     "execution_count": 6,
     "metadata": {},
     "output_type": "execute_result"
    }
   ],
   "source": [
    "get_cut_fraction(g)"
   ]
  }
 ],
 "metadata": {
  "kernelspec": {
   "display_name": "Python 3",
   "language": "python",
   "name": "python3"
  },
  "language_info": {
   "codemirror_mode": {
    "name": "ipython",
    "version": 3
   },
   "file_extension": ".py",
   "mimetype": "text/x-python",
   "name": "python",
   "nbconvert_exporter": "python",
   "pygments_lexer": "ipython3",
   "version": "3.7.4"
  }
 },
 "nbformat": 4,
 "nbformat_minor": 4
}
