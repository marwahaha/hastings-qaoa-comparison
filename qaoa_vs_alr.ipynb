{
 "cells": [
  {
   "cell_type": "markdown",
   "id": "sublime-federation",
   "metadata": {},
   "source": [
    "## Imports"
   ]
  },
  {
   "cell_type": "code",
   "execution_count": 16,
   "id": "combined-concentration",
   "metadata": {},
   "outputs": [],
   "source": [
    "import numpy as np\n",
    "from scipy.io import loadmat\n",
    "import scipy\n",
    "import networkx as nx\n",
    "import matplotlib.pyplot as plt\n",
    "from functools import lru_cache"
   ]
  },
  {
   "cell_type": "markdown",
   "id": "earlier-excess",
   "metadata": {},
   "source": [
    "## working with Leo's data"
   ]
  },
  {
   "cell_type": "code",
   "execution_count": 17,
   "id": "lovely-regular",
   "metadata": {},
   "outputs": [
    {
     "name": "stdout",
     "output_type": "stream",
     "text": [
      "dict_keys(['__header__', '__version__', '__globals__', 'DataFourier', 'DataFourierRP', 'Ns', 'maxP', 'GraphData', 'numGraphs'])\n"
     ]
    }
   ],
   "source": [
    "annots = loadmat('/home/kunal/Downloads/MaxCut_Fourier_u3R.mat')\n",
    "print(annots.keys())"
   ]
  },
  {
   "cell_type": "code",
   "execution_count": 18,
   "id": "robust-wallace",
   "metadata": {},
   "outputs": [
    {
     "data": {
      "text/plain": [
       "[(20, 100), (20, 100), (20, 2, 100), (20, 100)]"
      ]
     },
     "execution_count": 18,
     "metadata": {},
     "output_type": "execute_result"
    }
   ],
   "source": [
    "# fields: ratio, param, overlaps, userTime\n",
    "[annots['DataFourierRP'][0][0][i].shape for i in range(len(annots['DataFourierRP'][0][0]))]"
   ]
  },
  {
   "cell_type": "code",
   "execution_count": 19,
   "id": "written-crime",
   "metadata": {},
   "outputs": [],
   "source": [
    "Ns = annots['Ns'][0]\n",
    "num_graphs = annots['numGraphs'][0]\n",
    "maxP = annots['maxP'][0][0]"
   ]
  },
  {
   "cell_type": "markdown",
   "id": "ordinary-lighting",
   "metadata": {},
   "source": [
    "## generate max cut"
   ]
  },
  {
   "cell_type": "markdown",
   "id": "relative-island",
   "metadata": {},
   "source": [
    "leo's method:"
   ]
  },
  {
   "cell_type": "code",
   "execution_count": 20,
   "id": "buried-roller",
   "metadata": {},
   "outputs": [],
   "source": [
    "@lru_cache(maxsize=None)\n",
    "def get_kron(N,i,j):\n",
    "    sz = [1,-1]\n",
    "    L = 2**(i-1)\n",
    "    M = 2**(j-i-1)\n",
    "    R = 2**(N-j)\n",
    "    outT1 = np.kron(np.ones(L), sz)\n",
    "    outT2 = np.kron(outT1, np.ones(M))\n",
    "    outT3 = np.kron(outT2, sz)\n",
    "    out = np.kron(outT3, np.ones(R))\n",
    "    return out"
   ]
  },
  {
   "cell_type": "code",
   "execution_count": 21,
   "id": "round-cartridge",
   "metadata": {},
   "outputs": [],
   "source": [
    "def get_H(N, edges):\n",
    "    H = np.zeros(2**N)\n",
    "    for i,j in edges:\n",
    "        H = H + (1 - get_kron(N, i, j))/2\n",
    "    return H"
   ]
  },
  {
   "cell_type": "code",
   "execution_count": 22,
   "id": "boolean-tissue",
   "metadata": {},
   "outputs": [],
   "source": [
    "## old method: powerset\n",
    "\n",
    "# from itertools import chain, combinations\n",
    "\n",
    "# def powerset(iterable):\n",
    "#     \"powerset([1,2,3]) --> () (1,) (2,) (3,) (1,2) (1,3) (2,3) (1,2,3)\"\n",
    "#     s = list(iterable)\n",
    "#     return chain.from_iterable(combinations(s, r) for r in range(len(s)+1))"
   ]
  },
  {
   "cell_type": "markdown",
   "id": "alpha-repository",
   "metadata": {},
   "source": [
    "## alr algorithm"
   ]
  },
  {
   "cell_type": "code",
   "execution_count": 23,
   "id": "brown-longitude",
   "metadata": {},
   "outputs": [],
   "source": [
    "def ALR(g):\n",
    "    # Get adjacency matrix and eigenvectors\n",
    "    nodes = sorted(g.nodes())\n",
    "    n = len(nodes)\n",
    "    m = nx.linalg.graphmatrix.adjacency_matrix(g, nodelist=nodes).asfptype().T.toarray()\n",
    "    w, v = scipy.linalg.eig(m)\n",
    "    \n",
    "    min_eig_idxs = np.where(w == np.min(w))[0]\n",
    "    cut = 0\n",
    "    for idx in min_eig_idxs:\n",
    "    # average over minimum eigenvectors (there are multiple when graph is disconnected, for example)\n",
    "        eigvec = v[:, idx]\n",
    "        # normalize eigenvector\n",
    "        eigvec = eigvec * n**0.5 / np.linalg.norm(eigvec)\n",
    "\n",
    "        # make cut from sign of eigenvector\n",
    "        signs = np.sign(eigvec)\n",
    "        S = [n for n, x in zip(nodes, signs) if x >= 0]\n",
    "        cut += nx.cut_size(g, S)\n",
    "    cut = cut/len(min_eig_idxs)\n",
    "    return cut"
   ]
  },
  {
   "cell_type": "markdown",
   "id": "violent-catalog",
   "metadata": {},
   "source": [
    "## run process"
   ]
  },
  {
   "cell_type": "code",
   "execution_count": 24,
   "id": "packed-cancer",
   "metadata": {},
   "outputs": [],
   "source": [
    "from functools import lru_cache\n",
    "\n",
    "@lru_cache(maxsize=None)\n",
    "def script(N, p, graph_num, show_prints=True):\n",
    "    pr = print if show_prints else lambda *x: x\n",
    "        \n",
    "    assert N in Ns, \"choose N from 8, 10, 12, 14, 16, 18, 20, 22\"\n",
    "    idx = np.where(Ns == N)[0][0]\n",
    "    assert annots['GraphData'][0][idx][0] == N\n",
    "    assert annots['GraphData'][0][idx][2] == 'u3R'\n",
    "    assert annots['GraphData'][0][idx][1].size == num_graphs[idx]\n",
    "    pr(\"N:\", N)\n",
    "    pr(\"number of graphs:\", num_graphs[idx])\n",
    "    \n",
    "    assert graph_num < num_graphs[idx], \"graph_num must be less than \" + str(num_graphs[idx])\n",
    "    assert 1 <= p and p <= maxP, \"must be p in 1-\" + str(maxP)\n",
    "    pr(\"p:\", p)\n",
    "    pr(\"graph num:\", graph_num)\n",
    "    \n",
    "    ratio = annots['DataFourierRP'][0][idx][0][p-1][graph_num]\n",
    "    pr(\"approx ratio:\", ratio)\n",
    "    \n",
    "    graph_edges = annots['GraphData'][0][idx][1][0][graph_num]\n",
    "    G = nx.parse_edgelist([str(e[0]) + \" \" + str(e[1]) for e in graph_edges], nodetype = int)\n",
    "    G = nx.convert_node_labels_to_integers(G, first_label=1)\n",
    "    # get max cut\n",
    "    max_cut = max(get_H(N, G.edges()))\n",
    "# #     # CThis matches leo's method for all N=8 and 10...\n",
    "#     all_subsets = powerset(list(G.nodes()))\n",
    "#     all_cut_sizes = [nx.cut_size(G, S) for S in all_subsets]\n",
    "#     max_cut_2 = max(all_cut_sizes)\n",
    "#     pr(\"max cut:\", max_cut, max_cut_2)\n",
    "#     return max_cut != max_cut_2\n",
    "\n",
    "    pr(\"total number of edges:\", len(graph_edges))\n",
    "    pr(\"max cut:\", max_cut)\n",
    "    qaoa_average_cut = ratio*max_cut\n",
    "    pr(\"qaoa average cut:\", qaoa_average_cut)\n",
    "    alr_cut = ALR(G)\n",
    "    pr(\"ALR cut:\", alr_cut)\n",
    "    return alr_cut >= qaoa_average_cut"
   ]
  },
  {
   "cell_type": "markdown",
   "id": "intermediate-stewart",
   "metadata": {},
   "source": [
    "## testing it out"
   ]
  },
  {
   "cell_type": "code",
   "execution_count": 29,
   "id": "dirty-rally",
   "metadata": {},
   "outputs": [],
   "source": [
    "# Edit these values\n",
    "N = 16\n",
    "p = 3\n",
    "graph_num = 20"
   ]
  },
  {
   "cell_type": "code",
   "execution_count": 30,
   "id": "upper-competition",
   "metadata": {},
   "outputs": [
    {
     "data": {
      "text/plain": [
       "True"
      ]
     },
     "execution_count": 30,
     "metadata": {},
     "output_type": "execute_result"
    }
   ],
   "source": [
    "script(N, p, graph_num, show_prints=True)"
   ]
  },
  {
   "cell_type": "code",
   "execution_count": 33,
   "id": "muslim-certification",
   "metadata": {},
   "outputs": [
    {
     "name": "stdout",
     "output_type": "stream",
     "text": [
      "N = 8\n",
      "N = 10\n",
      "N = 12\n",
      "N = 14\n",
      "N = 16\n",
      "N = 18\n",
      "CPU times: user 1min 25s, sys: 334 ms, total: 1min 26s\n",
      "Wall time: 1min 26s\n"
     ]
    },
    {
     "data": {
      "image/png": "[encoded data removed]",
      "text/plain": [
       "<Figure size 432x288 with 1 Axes>"
      ]
     },
     "metadata": {
      "needs_background": "light"
     },
     "output_type": "display_data"
    },
    {
     "data": {
      "image/png": "[encoded data removed]",
      "text/plain": [
       "<Figure size 432x288 with 1 Axes>"
      ]
     },
     "metadata": {
      "needs_background": "light"
     },
     "output_type": "display_data"
    },
    {
     "data": {
      "image/png": "[encoded data removed]",
      "text/plain": [
       "<Figure size 432x288 with 1 Axes>"
      ]
     },
     "metadata": {
      "needs_background": "light"
     },
     "output_type": "display_data"
    },
    {
     "data": {
      "image/png": "[encoded data removed]",
      "text/plain": [
       "<Figure size 432x288 with 1 Axes>"
      ]
     },
     "metadata": {
      "needs_background": "light"
     },
     "output_type": "display_data"
    },
    {
     "data": {
      "image/png": "[encoded data removed]",
      "text/plain": [
       "<Figure size 432x288 with 1 Axes>"
      ]
     },
     "metadata": {
      "needs_background": "light"
     },
     "output_type": "display_data"
    },
    {
     "data": {
      "image/png": "[encoded data removed]",
      "text/plain": [
       "<Figure size 432x288 with 1 Axes>"
      ]
     },
     "metadata": {
      "needs_background": "light"
     },
     "output_type": "display_data"
    }
   ],
   "source": [
    "%%time\n",
    "for N in [8,10,12,14,16,18]:\n",
    "    print(\"N =\", N)\n",
    "    plt.figure()\n",
    "    ps = range(1, 21)\n",
    "    fracs = [sum([script(N, p, i, show_prints=False) for i in range(100)])/100 for p in ps]\n",
    "    plt.scatter(ps, fracs)\n",
    "    plt.xlabel(\"p\")\n",
    "    plt.ylabel(\"fraction of graphs, classical >= QAOA$_p$\")\n",
    "    plt.title(\"N=\" + str(N))\n",
    "    plt.grid()\n",
    "    plt.savefig('N=' + str(N) + '.png')"
   ]
  },
  {
   "cell_type": "code",
   "execution_count": null,
   "id": "fitted-reviewer",
   "metadata": {},
   "outputs": [],
   "source": [
    "#nx.draw"
   ]
  },
  {
   "cell_type": "code",
   "execution_count": null,
   "id": "victorian-depression",
   "metadata": {},
   "outputs": [],
   "source": []
  }
 ],
 "metadata": {
  "kernelspec": {
   "display_name": "Python 3",
   "language": "python",
   "name": "python3"
  },
  "language_info": {
   "codemirror_mode": {
    "name": "ipython",
    "version": 3
   },
   "file_extension": ".py",
   "mimetype": "text/x-python",
   "name": "python",
   "nbconvert_exporter": "python",
   "pygments_lexer": "ipython3",
   "version": "3.8.8"
  }
 },
 "nbformat": 4,
 "nbformat_minor": 5
}
