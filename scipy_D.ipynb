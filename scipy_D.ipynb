{
 "cells": [
  {
   "cell_type": "markdown",
   "metadata": {},
   "source": [
    "code is copied in hastings-2step"
   ]
  },
  {
   "cell_type": "code",
   "execution_count": 1,
   "metadata": {},
   "outputs": [],
   "source": [
    "from numba import jit"
   ]
  },
  {
   "cell_type": "code",
   "execution_count": 2,
   "metadata": {},
   "outputs": [],
   "source": [
    "from numpy import cos, sin, pi\n",
    "from scipy.optimize import minimize\n",
    "from random import random\n",
    "\n",
    "@jit(nopython=True, nogil=True)\n",
    "def qaoa2(beta_2, gamma_2, beta_1, gamma_1, D):\n",
    "    \"\"\"Cut fraction with p=2 QAOA on D-regular girth > 5 graphs\"\"\"\n",
    "    c = cos(2*beta_2)\n",
    "    s = sin(2*beta_2)\n",
    "    m = cos(gamma_2)\n",
    "    n = sin(gamma_2)\n",
    "    r = cos(2*beta_1)\n",
    "    t = sin(2*beta_1)\n",
    "    G = cos(gamma_1)\n",
    "    H = sin(gamma_1)\n",
    "\n",
    "    A = -2*c*c*r*t*H*G**(D-1)\n",
    "    bpt1 = 0.5*s*c*(\n",
    "        (1 + r)*(-m*r*H - n*G)*((m*G - n*r*H)**(D-1))\n",
    "        + (1 - r)*(m*r*H - n*G)*((m*G + n*r*H)**(D-1))\n",
    "    )\n",
    "    bpt2 = 0.5*s*c*t*(\n",
    "        (m*t*(G**(D-1))*H + (1j)*n)*((m + (1j)*n*t*(G**(D-1))*H)**(D-1))\n",
    "        + (m*t*(G**(D-1))*H - (1j)*n)*((m - (1j)*n*t*(G**(D-1))*H)**(D-1))\n",
    "    )\n",
    "    Ea = s*s*t*H * 0.5 * \\\n",
    "        ((1+r)*(m*G - n*H*r)**(D-1) - (1-r)*(m*G + n*H*r)**(D-1))\n",
    "    Eb = (m + (1j)*n * G**(D-1) * H*t)**(D-1) + \\\n",
    "        (m - (1j)*n * G**(D-1) * H*t)**(D-1)\n",
    "    return 0.5 - 0.5 * (A + 2*(bpt1 + bpt2) + Ea*Eb)"
   ]
  },
  {
   "cell_type": "code",
   "execution_count": 3,
   "metadata": {},
   "outputs": [],
   "source": [
    "qaoa2_d_deg = lambda i, d: -qaoa2(*i, d).real"
   ]
  },
  {
   "cell_type": "code",
   "execution_count": 4,
   "metadata": {},
   "outputs": [],
   "source": [
    "def get_best(d):\n",
    "    best = None\n",
    "    iter_times = 100 if d < 500 else 200\n",
    "    for _ in range(iter_times):\n",
    "        init_val = [random()*(i % 2 + 1)*pi for i in range(4)]\n",
    "        result = minimize(qaoa2_d_deg, init_val, args=(d), options={'fatol': 1e-20}, method='Nelder-Mead')\n",
    "        if not best or result.fun < best.fun:\n",
    "            best = result\n",
    "    return best"
   ]
  },
  {
   "cell_type": "code",
   "execution_count": 5,
   "metadata": {},
   "outputs": [],
   "source": [
    "ds = range(2, 1000 + 1)"
   ]
  },
  {
   "cell_type": "code",
   "execution_count": 6,
   "metadata": {},
   "outputs": [],
   "source": [
    "import multiprocessing\n",
    "pool = multiprocessing.Pool(4)"
   ]
  },
  {
   "cell_type": "code",
   "execution_count": 7,
   "metadata": {},
   "outputs": [
    {
     "name": "stdout",
     "output_type": "stream",
     "text": [
      "CPU times: user 162 ms, sys: 44.8 ms, total: 206 ms\n",
      "Wall time: 5min 24s\n"
     ]
    }
   ],
   "source": [
    "%%time\n",
    "results = pool.map(get_best, ds)"
   ]
  },
  {
   "cell_type": "code",
   "execution_count": 8,
   "metadata": {},
   "outputs": [],
   "source": [
    "out = {d: -r.fun - 0.5 for d, r in zip(ds, results)}"
   ]
  },
  {
   "cell_type": "code",
   "execution_count": 9,
   "metadata": {},
   "outputs": [],
   "source": [
    "pool.close()"
   ]
  },
  {
   "cell_type": "code",
   "execution_count": 14,
   "metadata": {},
   "outputs": [
    {
     "data": {
      "text/plain": [
       "(0.4, 0.4745933547367115)"
      ]
     },
     "execution_count": 14,
     "metadata": {},
     "output_type": "execute_result"
    },
    {
     "data": {
      "image/png": "[encoded data removed]",
      "text/plain": [
       "<Figure size 432x288 with 1 Axes>"
      ]
     },
     "metadata": {
      "needs_background": "light"
     },
     "output_type": "display_data"
    }
   ],
   "source": [
    "import matplotlib.pyplot as plt\n",
    "plt.plot([k for k in sorted(out)], [out[k]*k**0.5 for k in sorted(out)])\n",
    "plt.grid()\n",
    "plt.xlabel(\"D\")\n",
    "plt.ylabel(\"Delta * $\\sqrt {D} $ \")\n",
    "plt.ylim(0.4)"
   ]
  },
  {
   "cell_type": "code",
   "execution_count": 11,
   "metadata": {},
   "outputs": [
    {
     "data": {
      "text/plain": [
       "0"
      ]
     },
     "execution_count": 11,
     "metadata": {},
     "output_type": "execute_result"
    }
   ],
   "source": [
    "import numpy as np \n",
    "sum (  np.array([out[k]*k**0.5 for k in sorted(out)]) < 0.405 )"
   ]
  },
  {
   "cell_type": "code",
   "execution_count": 20,
   "metadata": {},
   "outputs": [
    {
     "data": {
      "text/plain": [
       "array([0.40762859, 0.40762851, 0.40762843, 0.40762834, 0.40762826,\n",
       "       0.40762817, 0.40762809, 0.40762801, 0.40762792, 0.40762784])"
      ]
     },
     "execution_count": 20,
     "metadata": {},
     "output_type": "execute_result"
    }
   ],
   "source": [
    "np.array([out[k]*k**0.5 for k in sorted(out)])[-10:]"
   ]
  },
  {
   "cell_type": "code",
   "execution_count": null,
   "metadata": {},
   "outputs": [],
   "source": []
  }
 ],
 "metadata": {
  "kernelspec": {
   "display_name": "Python 3",
   "language": "python",
   "name": "python3"
  },
  "language_info": {
   "codemirror_mode": {
    "name": "ipython",
    "version": 3
   },
   "file_extension": ".py",
   "mimetype": "text/x-python",
   "name": "python",
   "nbconvert_exporter": "python",
   "pygments_lexer": "ipython3",
   "version": "3.7.4"
  }
 },
 "nbformat": 4,
 "nbformat_minor": 4
}
