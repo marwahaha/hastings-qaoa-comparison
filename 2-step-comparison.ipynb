{
 "cells": [
  {
   "cell_type": "code",
   "execution_count": 1,
   "metadata": {},
   "outputs": [],
   "source": [
    "from numba import jit\n",
    "from numpy import cos, sin, pi\n",
    "from random import random\n",
    "from scipy.optimize import minimize\n",
    "from scipy.special import binom\n",
    "import functools\n",
    "import itertools\n",
    "import itertools\n",
    "import collections\n",
    "import matplotlib.pyplot as plt\n",
    "import multiprocessing\n",
    "import numpy as np\n",
    "import time"
   ]
  },
  {
   "cell_type": "markdown",
   "metadata": {},
   "source": [
    "# Performance of 2-step threshold algorithm"
   ]
  },
  {
   "cell_type": "code",
   "execution_count": 2,
   "metadata": {},
   "outputs": [],
   "source": [
    "def make_qfn(T):\n",
    "    def f(x):\n",
    "        \"\"\"This function can handle vectorized operations\"\"\"\n",
    "        return (x < T)*2 - 1\n",
    "    return f\n",
    "#     return lambda x: 1 if x < T else -1\n",
    "\n",
    "qfns = [make_qfn(T) for T in range(10000)]"
   ]
  },
  {
   "cell_type": "code",
   "execution_count": 3,
   "metadata": {},
   "outputs": [],
   "source": [
    "# This now inputs an array, so it cannot be cached with functools.\n",
    "# @functools.lru_cache(maxsize=int(1e7))\n",
    "def binompmf(tot, times, p):\n",
    "    return p**times * (1 - p)**(tot-times) * binom(tot, times) "
   ]
  },
  {
   "cell_type": "code",
   "execution_count": 4,
   "metadata": {},
   "outputs": [],
   "source": [
    "@functools.lru_cache(maxsize=4096)\n",
    "def Z1plus(qf, n):\n",
    "    return 2**(-n)*np.sum([qf(m+1)*binom(n, m) for m in range(0, n+1)])\n",
    "\n",
    "@functools.lru_cache(maxsize=4096)\n",
    "def Z1minus(qf, n):\n",
    "    return (-1)*2**(-n)*np.sum([binom(n, m)*qf(m) for m in range(0, n+1)])\n",
    "\n",
    "@functools.lru_cache(maxsize=int(5e7))\n",
    "def bigQ(qf, n, l, r, a, b):\n",
    "    return qf((n-l-r)*(1-a)/2 + (l+r)*(1+a)/2 + (1+b)/2)"
   ]
  },
  {
   "cell_type": "code",
   "execution_count": 5,
   "metadata": {},
   "outputs": [],
   "source": [
    "def bigQ_all(qf, n, l_max, r_max, a, b):\n",
    "    vals = np.meshgrid(range(l_max), range(r_max))\n",
    "    def bigQ_f(lr):\n",
    "        l = lr[0]\n",
    "        r = lr[1]\n",
    "        return qf((n-l-r)*(1-a)/2 + (l+r)*(1+a)/2 + (1+b)/2)\n",
    "    return bigQ_f(vals)"
   ]
  },
  {
   "cell_type": "code",
   "execution_count": 6,
   "metadata": {},
   "outputs": [],
   "source": [
    "@functools.lru_cache(maxsize=int(1e7))\n",
    "def Z2(Z1, Z0, match, q2, n, k, p_plus, p_minus):\n",
    "    bp_minus = binompmf(n-k, np.arange(n-k+1), p_minus)\n",
    "    bp_plus = binompmf(k, np.arange(k+1), p_plus)\n",
    "    \n",
    "    bq_all = bigQ_all(q2, n, k+1, n-k+1, Z1*Z0, match)\n",
    "    inter = np.sum(bq_all*bp_plus, axis=1)\n",
    "    out = np.sum(bp_minus*inter)\n",
    "\n",
    "    return Z1*out"
   ]
  },
  {
   "cell_type": "code",
   "execution_count": 7,
   "metadata": {},
   "outputs": [],
   "source": [
    "def final(n, T1, T2):\n",
    "    \"\"\"\n",
    "    Calculates -1/2 * <Z_i Z_j>.\n",
    "    It should be odd function over the midpoint. Both T=0 and T> n+1 should be 0 (i.e. no improvement).\n",
    "    Recall that n = D-1, so this expression is for a (n+1)-regular graph.\n",
    "    \"\"\"\n",
    "    out = 0\n",
    "    q1 = qfns[T1]\n",
    "    q2 = qfns[T2]\n",
    "    p_plus = (1 + Z1plus(q1, n))/2\n",
    "    p_minus = (1 + Z1minus(q1, n))/2\n",
    "    \n",
    "    binom_n = np.array([binom(n, k) for k in range(n+1)])\n",
    "    \n",
    "    med = []\n",
    "    for k in range(n+1):\n",
    "        inter = []\n",
    "        for u in range(n+1):\n",
    "            equal = Z2(q1(k+1), 1, q1(k+1)*q1(u+1), q2, n, k, p_plus, p_minus) * Z2(q1(u+1), 1, q1(k+1)*q1(u+1), q2, n, k, p_plus, p_minus)\n",
    "            unequal = Z2(q1(k), 1, -q1(k)*q1(u),q2, n, k, p_plus, p_minus) * Z2(-q1(u), -1, -q1(k)*q1(u), q2, n, k, p_plus, p_minus)\n",
    "            inter.append( 0.5 * (equal + unequal))\n",
    "            \n",
    "        med.append(np.sum(binom_n * inter))\n",
    "        \n",
    "    out = np.sum(binom_n * med)\n",
    "    return -0.5 * 2**(-2*n) * out"
   ]
  },
  {
   "cell_type": "markdown",
   "metadata": {},
   "source": [
    "### Finding the best threshold"
   ]
  },
  {
   "cell_type": "markdown",
   "metadata": {},
   "source": [
    "Let's confirm the best range of threshold. Notice the pattern in optimal threshold value in the below plot:"
   ]
  },
  {
   "cell_type": "markdown",
   "metadata": {},
   "source": [
    "TODO include this in the paper"
   ]
  },
  {
   "cell_type": "code",
   "execution_count": 8,
   "metadata": {},
   "outputs": [
    {
     "data": {
      "text/plain": [
       "<matplotlib.legend.Legend at 0x7fc854ed17d0>"
      ]
     },
     "execution_count": 8,
     "metadata": {},
     "output_type": "execute_result"
    },
    {
     "data": {
      "image/png": "[encoded data removed]",
      "text/plain": [
       "<Figure size 720x432 with 1 Axes>"
      ]
     },
     "metadata": {
      "needs_background": "light"
     },
     "output_type": "display_data"
    }
   ],
   "source": [
    "plt.figure(figsize=(10, 6))\n",
    "for D in [5, 10, 20, 30, 40]:\n",
    "    xs = np.arange(0, D)\n",
    "    plt.scatter((xs - D/2)*D**-0.5, [D**0.5 * final(D-1, t, t) for t in xs], label=\"D = %i\" % D)\n",
    "plt.grid()\n",
    "plt.xlabel(\"($τ$ - 0.5 D) /  $\\sqrt{D}$\")\n",
    "plt.ylabel(\"Improvement above random * $\\sqrt{D}$\")\n",
    "plt.legend()"
   ]
  },
  {
   "cell_type": "markdown",
   "metadata": {},
   "source": [
    "This gives me confidence that the optimal threshold value is between $D/2$ and $D/2 + \\sqrt{D}$."
   ]
  },
  {
   "cell_type": "code",
   "execution_count": 9,
   "metadata": {},
   "outputs": [
    {
     "data": {
      "text/plain": [
       "<matplotlib.legend.Legend at 0x7fc854ca8490>"
      ]
     },
     "execution_count": 9,
     "metadata": {},
     "output_type": "execute_result"
    },
    {
     "data": {
      "image/png": "[encoded data removed]",
      "text/plain": [
       "<Figure size 720x432 with 1 Axes>"
      ]
     },
     "metadata": {
      "needs_background": "light"
     },
     "output_type": "display_data"
    }
   ],
   "source": [
    "plt.figure(figsize=(10, 6))\n",
    "for D in [50, 100, 150, 200]:\n",
    "    xs = np.arange(int(D/2), int(D/2) + int(D**0.5) + 1)\n",
    "    plt.scatter((xs - D/2)*D**-0.5, [D**0.5*final(D-1, t, t) for t in xs], label=\"D = %i\" % D)\n",
    "plt.grid()\n",
    "plt.xlabel(\"($τ$ - 0.5 D) /  $\\sqrt{D}$\")\n",
    "plt.ylabel(\"Improvement above random * $\\sqrt{D}$\")\n",
    "plt.legend()"
   ]
  },
  {
   "cell_type": "markdown",
   "metadata": {},
   "source": [
    "From the above plot, I expect the optimal threshold to be approximately $D/2 + 0.4 \\sqrt{D}$ at large values of $D$."
   ]
  },
  {
   "cell_type": "markdown",
   "metadata": {},
   "source": [
    "### Computing for D < 500"
   ]
  },
  {
   "cell_type": "code",
   "execution_count": 10,
   "metadata": {},
   "outputs": [],
   "source": [
    "def get_max_final(d):\n",
    "    \"\"\"\n",
    "    This finds the optimal threshold assuming tau_1 = tau_2.\n",
    "    To speed this up, I limit my search to roughly (D/2 + k_min \\sqrt{D}, D/2 + k_max \\sqrt{D}).\n",
    "    I expect the optimal k to be approximately 0.4 - 0.5.\n",
    "    \"\"\"\n",
    "    k_min, k_max = 0, 1.5\n",
    "    if d > 150:\n",
    "        k_min, k_max = 0.25, 0.52\n",
    "    elif d > 60:\n",
    "        k_min, k_max = 0.25, 0.6\n",
    "  \n",
    "    inps = range(int((d-1)/2 + k_min*(d-1)**0.5 ), int((d-1)/2 + max(10, k_max*(d-1)**0.5 + 1)))\n",
    "    vals = [final(d-1, t, t) for t in inps]\n",
    "    return max(vals), inps[vals.index(max(vals))]"
   ]
  },
  {
   "cell_type": "code",
   "execution_count": 11,
   "metadata": {},
   "outputs": [],
   "source": [
    "# The multiprocessing library will make this run much faster.\n",
    "pool = multiprocessing.Pool(4)\n",
    "ds = range(2, 500 + 1)"
   ]
  },
  {
   "cell_type": "code",
   "execution_count": null,
   "metadata": {},
   "outputs": [],
   "source": [
    "%%time\n",
    "deltas = pool.map(get_max_final, ds)\n",
    "pool.close()"
   ]
  },
  {
   "cell_type": "code",
   "execution_count": null,
   "metadata": {},
   "outputs": [],
   "source": [
    "for _ in [Z2, bigQ, Z1minus, Z1plus]:\n",
    "    print(_.__name__, _.cache_info())"
   ]
  },
  {
   "cell_type": "code",
   "execution_count": null,
   "metadata": {},
   "outputs": [],
   "source": [
    "plt.figure(figsize=(10, 6))\n",
    "deltas2 = [d**0.5 * delt[0] for d, delt in zip(ds, deltas)]\n",
    "plt.plot(ds[:len(deltas2)], deltas2, label=\"2-step, girth > 5\")\n",
    "plt.grid()"
   ]
  },
  {
   "cell_type": "code",
   "execution_count": null,
   "metadata": {},
   "outputs": [],
   "source": [
    "# the last few values, to get a sense of the value at large D\n",
    "deltas2[-5:]"
   ]
  },
  {
   "cell_type": "code",
   "execution_count": null,
   "metadata": {},
   "outputs": [],
   "source": [
    "ts = [i[1] for i in deltas]\n",
    "# t = d/2 + ksqrtd\n",
    "# (t - d/2)**2 = k**2 d\n",
    "plt.figure(figsize=(10, 6))\n",
    "plt.plot(ds, ((np.array(ts) - np.array(ds)/2)* (np.array(ds))**-.5))\n",
    "plt.ylim(0)\n",
    "plt.xlabel(\"D (of a D-regular graph)\")\n",
    "plt.ylabel(\"Optimal $k$, given $τ= D/2 + k \\sqrt{D}$\")\n",
    "plt.grid()\n",
    "plt.savefig(\"2step_optimalt.png\")"
   ]
  },
  {
   "cell_type": "markdown",
   "metadata": {},
   "source": [
    "### Code optimization"
   ]
  },
  {
   "cell_type": "markdown",
   "metadata": {},
   "source": [
    "On Dec 24 2020, I worked on optimizing this code. A few notes:\n",
    "* cython doesn't work with functools\n",
    "* I couldn't get numba_scipy to work; I couldn't find the right versions of np, scipy, numba that were all compatible.\n",
    "* In the binompmf using np.arange is incompatible with lru_cache, but the np.arange is a bit faster\n",
    "* I tried an scipy.optimize.minimize guess, but it wasn't that accurate.\n"
   ]
  },
  {
   "cell_type": "code",
   "execution_count": null,
   "metadata": {},
   "outputs": [],
   "source": [
    "# # these code profilers really helped.\n",
    "# %load_ext line_profiler\n",
    "# %lprun -f Z2 get_max_final(21)\n",
    "# %prun get_max_final(508)"
   ]
  },
  {
   "cell_type": "markdown",
   "metadata": {},
   "source": [
    "### Unequal thresholds"
   ]
  },
  {
   "cell_type": "code",
   "execution_count": null,
   "metadata": {},
   "outputs": [],
   "source": [
    "def get_max_final_2(d):\n",
    "    \"\"\"\n",
    "    This finds the optimal threshold for any tau_1 and tau_2.\n",
    "    This looks over all tau > (d-1)/2 to find the best threshold.\n",
    "    \"\"\"\n",
    "    assert d < 50, \"this takes a very long time\"\n",
    "  \n",
    "    inps = range(int((d-1)/2), int(d+2))\n",
    "    vals = [final(d-1, t, t2) for t in inps for t2 in inps]\n",
    "    \n",
    "    best = vals.index(max(vals))\n",
    "    return max(vals), inps[best // len(inps)], inps[best % len(inps)]"
   ]
  },
  {
   "cell_type": "markdown",
   "metadata": {},
   "source": [
    "Let's find the optimal threshold for D < 50."
   ]
  },
  {
   "cell_type": "code",
   "execution_count": null,
   "metadata": {},
   "outputs": [],
   "source": [
    "%%time\n",
    "unequal_thresholds = [get_max_final_2(i) for i in range(2, 50)]"
   ]
  },
  {
   "cell_type": "markdown",
   "metadata": {},
   "source": [
    "Printing out the best results for D < 20:"
   ]
  },
  {
   "cell_type": "code",
   "execution_count": null,
   "metadata": {},
   "outputs": [],
   "source": [
    "for i in range(2, 20):\n",
    "    print(i, get_max_final(i), get_max_final_2(i))"
   ]
  },
  {
   "cell_type": "markdown",
   "metadata": {},
   "source": [
    "# Performance of QAOA$_2$"
   ]
  },
  {
   "cell_type": "code",
   "execution_count": null,
   "metadata": {},
   "outputs": [],
   "source": [
    "# the just-in-time compilation massively improves the runtime of this function.\n",
    "@jit(nopython=True, nogil=True)\n",
    "def qaoa2(beta_2, gamma_2, beta_1, gamma_1, D):\n",
    "    \"\"\"Cut fraction with p=2 QAOA on D-regular girth > 5 graphs\"\"\"\n",
    "    c = cos(2*beta_2)\n",
    "    s = sin(2*beta_2)\n",
    "    m = cos(gamma_2)\n",
    "    n = sin(gamma_2)\n",
    "    r = cos(2*beta_1)\n",
    "    t = sin(2*beta_1)\n",
    "    G = cos(gamma_1)\n",
    "    H = sin(gamma_1)\n",
    "\n",
    "    A = -2*c*c*r*t*H*G**(D-1)\n",
    "    bpt1 = 0.5*s*c*(\n",
    "        (1 + r)*(-m*r*H - n*G)*((m*G - n*r*H)**(D-1))\n",
    "        + (1 - r)*(m*r*H - n*G)*((m*G + n*r*H)**(D-1))\n",
    "    )\n",
    "    bpt2 = 0.5*s*c*t*(\n",
    "        (m*t*(G**(D-1))*H + (1j)*n)*((m + (1j)*n*t*(G**(D-1))*H)**(D-1))\n",
    "        + (m*t*(G**(D-1))*H - (1j)*n)*((m - (1j)*n*t*(G**(D-1))*H)**(D-1))\n",
    "    )\n",
    "    Ea = s*s*t*H * 0.5 * \\\n",
    "        ((1+r)*(m*G - n*H*r)**(D-1) - (1-r)*(m*G + n*H*r)**(D-1))\n",
    "    Eb = (m + (1j)*n * G**(D-1) * H*t)**(D-1) + \\\n",
    "        (m - (1j)*n * G**(D-1) * H*t)**(D-1)\n",
    "    return 0.5 - 0.5 * (A + 2*(bpt1 + bpt2) + Ea*Eb)"
   ]
  },
  {
   "cell_type": "code",
   "execution_count": null,
   "metadata": {},
   "outputs": [],
   "source": [
    "qaoa2_d_deg = lambda i, d: -qaoa2(*i, d).real\n",
    "\n",
    "def get_best(d):\n",
    "    \"\"\"This runs the optimization 100 times, or 150 times if d < 20, and takes the best value.\"\"\"\n",
    "    best = None\n",
    "    val = 0\n",
    "    i = 0\n",
    "    while i < 100 or (d < 20 and i < 150):\n",
    "        i += 1\n",
    "        init_val = [random()*(i % 2 + 1)*pi for i in range(4)]\n",
    "        result = minimize(qaoa2_d_deg, init_val, args=(d), options={'fatol': 1e-20}, method='Nelder-Mead')\n",
    "        if not best or result.fun < best.fun:\n",
    "            best = result\n",
    "            val = d**0.5 * (-best.fun - 0.5)\n",
    "    return best"
   ]
  },
  {
   "cell_type": "code",
   "execution_count": null,
   "metadata": {},
   "outputs": [],
   "source": [
    "%%time\n",
    "pool = multiprocessing.Pool(4)\n",
    "results = pool.map(get_best, ds)\n",
    "pool.close()"
   ]
  },
  {
   "cell_type": "code",
   "execution_count": null,
   "metadata": {},
   "outputs": [],
   "source": [
    "out = {d: -r.fun - 0.5 for d, r in zip(ds, results)}\n",
    "qaoavals = np.array([out[k]*k**0.5 for k in sorted(out)])\n",
    "\n",
    "print(sum (qaoavals[:-1] < qaoavals[1:]), \"values that are not descending\")\n",
    "assert sum ( qaoavals < 0.407) == 0, \"all values should be at least 0.407\"\n",
    "# the last few values, to get a sense of the value at large D\n",
    "print(qaoavals[-5:])"
   ]
  },
  {
   "cell_type": "code",
   "execution_count": null,
   "metadata": {},
   "outputs": [],
   "source": [
    "import matplotlib.pyplot as plt\n",
    "plt.figure(figsize=(12, 5))\n",
    "plt.plot([k for k in sorted(out)], qaoavals)\n",
    "plt.grid()\n",
    "plt.xlabel(\"D (of a D-regular graph)\")\n",
    "plt.ylabel(\"Scaled performance of QAOA$_2$\")\n",
    "plt.ylim(0.4)"
   ]
  },
  {
   "cell_type": "markdown",
   "metadata": {},
   "source": [
    "### Confirming known results"
   ]
  },
  {
   "cell_type": "markdown",
   "metadata": {},
   "source": [
    "I confirm the results for $D=2$ (5/6 cut fraction) and $D=3$ (0.7559 cut fraction):"
   ]
  },
  {
   "cell_type": "code",
   "execution_count": null,
   "metadata": {},
   "outputs": [],
   "source": [
    "for D in range(2, 4):\n",
    "    print(\"D=%i\" % D, \"cut fraction:\", -results[ds.index(D)].fun, \"input angles in degrees:\", 180/pi*results[ds.index(D)].x)"
   ]
  },
  {
   "cell_type": "markdown",
   "metadata": {},
   "source": [
    "For $D=3$, the input angles match the values listed in Table I of Wurtz 2020, up to degeneracy in the input ($\\pi/2$ in $\\beta$). Other input angles will also achieve this maximum; for example, consider the angles $(\\beta_2, \\gamma_2, \\beta_1, \\gamma_1) = (16.8^{\\circ},51.4^{\\circ}, 31.8^{\\circ}, 28.0^{\\circ}$):"
   ]
  },
  {
   "cell_type": "code",
   "execution_count": null,
   "metadata": {},
   "outputs": [],
   "source": [
    "qaoa2(*np.array([16.8, 51.4, 31.8, 28.0])*pi/180, 3).real"
   ]
  },
  {
   "cell_type": "markdown",
   "metadata": {},
   "source": [
    "For $D=2$, I verify with SymPy that the formulas are in fact equal:"
   ]
  },
  {
   "cell_type": "code",
   "execution_count": null,
   "metadata": {},
   "outputs": [],
   "source": [
    "def f2(beta_1, gamma_1, beta_2, gamma_2):\n",
    "    c = cos(2*beta_2)\n",
    "    s = sin(2*beta_2)\n",
    "    m = cos(gamma_2)\n",
    "    n = sin(gamma_2)\n",
    "    r = cos(2*beta_1)\n",
    "    t = sin(2*beta_1)\n",
    "    G = cos(gamma_1)\n",
    "    H = sin(gamma_1)\n",
    "    pt1 = c*c*r*t*G*H\n",
    "    pt2 = -s*c*m*n*(r*r*H*H - G*G)\n",
    "    pt3 = -s*c*G*H*(t*t - r*r)*(m*m - n*n)\n",
    "    pt4 = -s*s*t*H*m*r*(m*G - n*H)\n",
    "    return 0.5 + pt1 + pt2 + pt3 + pt4\n",
    "    \n",
    "def ring(beta_1, gamma_1_input, beta_2, gamma_2_input):\n",
    "    gamma_1 = -gamma_1_input/2\n",
    "    gamma_2 = -gamma_2_input/2\n",
    "    Fbyn = 1/64 * (\n",
    "        -7*cos(4*beta_1 + 4*beta_2 + 4*gamma_1 + 4*gamma_2)\n",
    "        -6*cos(4*beta_1 + 4*beta_2 + 4*gamma_1)\n",
    "        +3*cos(4*beta_1 + 4*beta_2 - 4*gamma_1 + 4*gamma_2)\n",
    "        +4*cos(4*beta_1 + 4*beta_2 + 4*gamma_2)\n",
    "        +3*cos(4*beta_1 - 4*beta_2 + 4*gamma_1 + 4*gamma_2)\n",
    "        -6*cos(4*beta_1 - 4*beta_2 + 4*gamma_1)\n",
    "        -3*cos(4*beta_1 - 4*beta_2 - 4*gamma_1 + 4*gamma_2)\n",
    "        +4*cos(4*beta_1 + 4*gamma_1 + 4*gamma_2)\n",
    "        -4*cos(4*beta_1 + 4*gamma_1)\n",
    "        -4*cos(4*beta_1 + 4*gamma_2)\n",
    "        -3*cos(-4*beta_1 + 4*beta_2 + 4*gamma_1 + 4*gamma_2)\n",
    "        +6*cos(-4*beta_1 + 4*beta_2 + 4*gamma_1)\n",
    "        +3*cos(-4*beta_1 + 4*beta_2 - 4*gamma_1 + 4*gamma_2)\n",
    "        +7*cos(-4*beta_1 - 4*beta_2 + 4*gamma_1 + 4*gamma_2)\n",
    "        +6*cos(-4*beta_1 - 4*beta_2 + 4*gamma_1)\n",
    "        -3*cos(-4*beta_1 - 4*beta_2 - 4*gamma_1 + 4*gamma_2)\n",
    "        -4*cos(-4*beta_1 - 4*beta_2 + 4*gamma_2)\n",
    "        -4*cos(-4*beta_1 + 4*gamma_1 + 4*gamma_2)\n",
    "        +4*cos(-4*beta_1 + 4*gamma_1)\n",
    "        +4*cos(-4*beta_1 + 4*gamma_2)\n",
    "        -6*cos(4*beta_2 + 4*gamma_1 + 4*gamma_2)\n",
    "        -6*cos(4*beta_2 - 4*gamma_1 + 4*gamma_2)\n",
    "        -4*cos(4*beta_2 + 4*gamma_2)\n",
    "        +6*cos(-4*beta_2 + 4*gamma_1 + 4*gamma_2)\n",
    "        +6*cos(-4*beta_2 - 4*gamma_1 + 4*gamma_2)\n",
    "        +4*cos(-4*beta_2 + 4*gamma_2)\n",
    "    )\n",
    "    return 0.5 * (1 - Fbyn)"
   ]
  },
  {
   "cell_type": "code",
   "execution_count": null,
   "metadata": {},
   "outputs": [],
   "source": [
    "# evaluates to 0\n",
    "from sympy import symbols, simplify, collect, expand, expand_trig, cos, sin\n",
    "b1, g1, b2, g2 = symbols('b1 g1 b2 g2')\n",
    "result = simplify(\n",
    "    collect(\n",
    "        expand(expand_trig(f2(b1, g1, b2, g2))) - expand(expand_trig(ring(b1, g1, b2, g2)))\n",
    "    , cos(b1))\n",
    ")\n",
    "print(result)\n",
    "assert result == 0"
   ]
  },
  {
   "cell_type": "markdown",
   "metadata": {},
   "source": [
    "# Performance of 1-step algorithms"
   ]
  },
  {
   "cell_type": "markdown",
   "metadata": {},
   "source": [
    "This reproduces work done by Wang et al 2018 and Hastings 2019."
   ]
  },
  {
   "cell_type": "code",
   "execution_count": null,
   "metadata": {},
   "outputs": [],
   "source": [
    "def q(k, threshold):\n",
    "    \"\"\"Works for numpy arrays\"\"\"\n",
    "    return (1-(k >= threshold)*2)\n",
    "\n",
    "def calc_performance(D, T):\n",
    "    \"\"\"\n",
    "    This calculates the performance over random after 1 step of Hastings' thresholding algorithm. \n",
    "    Precisely, returns delta = -1/2 <Z_i Z_j> for D-regular graphs with threshold T.\n",
    "    \"\"\"\n",
    "    s1 = 0\n",
    "    s2 = 0\n",
    "    # go through # of agreeing neighbors, from 0 through D-1\n",
    "    for i in range(D):\n",
    "        # factor out two copies of 2^-n, n=D-1\n",
    "        s1 += binom(D-1, i)*q(i+1, T)\n",
    "        s2 += binom(D-1, i)*q(i, T)\n",
    "    return -0.5 * 0.5 * (s1**2 - s2**2) * 2**(-2*(D-1))\n",
    "\n",
    "hrss_1 = [D**0.5*max([calc_performance(D, int((D-1)/2+k)) for k in range(0, max(int(D**0.5 + 1), 10))]) for D in ds]"
   ]
  },
  {
   "cell_type": "code",
   "execution_count": null,
   "metadata": {},
   "outputs": [],
   "source": [
    "def qaoa1(D):\n",
    "    \"\"\"Best QAOA1 performance on triangle-free graphs.\"\"\"\n",
    "    d = D-1\n",
    "    return 0.5 * (d/(d+1))**(d/2)\n",
    "qaoa_1 = [qaoa1(D) for D in ds]"
   ]
  },
  {
   "cell_type": "markdown",
   "metadata": {},
   "source": [
    "# Comparison plots"
   ]
  },
  {
   "cell_type": "code",
   "execution_count": null,
   "metadata": {},
   "outputs": [],
   "source": [
    "plt.figure(figsize=(10, 6))\n",
    "diff_thresholds = [x[0]*d**0.5 for x, d in zip(unequal_thresholds, ds[:len(unequal_thresholds)])]\n",
    "plt.plot(ds[:len(diff_thresholds)], diff_thresholds, label=\"Best of 2-step threshold\")\n",
    "plt.plot(ds, deltas2, label=\"Best of 2-step threshold where $τ_1 = τ_2$\")\n",
    "plt.plot(ds, qaoavals, label=\"Best of QAOA$_2$\")\n",
    "plt.plot(ds, hrss_1, label=\"Best of 1-step threshold\")\n",
    "plt.plot(ds, qaoa_1, label=\"Best of QAOA$_1$\")\n",
    "plt.grid()\n",
    "plt.xlim(0, 500)\n",
    "plt.xlabel(\"D (of a D-regular graph)\")\n",
    "plt.ylabel(\"Scaled performance\")\n",
    "plt.legend()\n",
    "plt.savefig(\"all_results.png\")"
   ]
  },
  {
   "cell_type": "markdown",
   "metadata": {},
   "source": [
    "QAOA$_2$ does win in a few cases:"
   ]
  },
  {
   "cell_type": "code",
   "execution_count": null,
   "metadata": {},
   "outputs": [],
   "source": [
    "print(\"D where qaoa wins\")\n",
    "weirds = np.array(ds)[qaoavals > deltas2]\n",
    "print(weirds)\n",
    "print(\"total:\", len(weirds))"
   ]
  },
  {
   "cell_type": "code",
   "execution_count": null,
   "metadata": {},
   "outputs": [],
   "source": [
    "print(\"D where qaoa wins even with unequal thresholds\")\n",
    "weirds = np.array(ds)[:len(diff_thresholds)][qaoavals[:len(diff_thresholds)] > diff_thresholds]\n",
    "print(weirds)\n",
    "print(\"total:\", len(weirds))"
   ]
  },
  {
   "cell_type": "markdown",
   "metadata": {},
   "source": [
    "# Small-degree local classical algorithms"
   ]
  },
  {
   "cell_type": "code",
   "execution_count": null,
   "metadata": {},
   "outputs": [],
   "source": [
    "print(\"improvement above random quantum vs classical\")\n",
    "for i in range(4):\n",
    "    print(\"D =\", 2+i, qaoavals[i] * (2+i)**-0.5, \"vs\", diff_thresholds[i] * (2+i)**-0.5)"
   ]
  },
  {
   "cell_type": "markdown",
   "metadata": {},
   "source": [
    "### Reproducing the 1-step local classical algorithms"
   ]
  },
  {
   "cell_type": "code",
   "execution_count": null,
   "metadata": {},
   "outputs": [],
   "source": [
    "def local_1(c, n1, n2, s1, s2):\n",
    "    \"\"\"Implements a 1-step local linear algorithm given the description in Hastings 2019.\"\"\"\n",
    "    v1 = n1 - c*s1 - c*n2\n",
    "    v2 = n2 - c*s2 - c*n1\n",
    "\n",
    "    # if any of (v1, v2) is 0 it (correctly) gives a 1/2 chance of success\n",
    "    return 0.5 - 0.5*np.sign(v1)*np.sign(v2)"
   ]
  },
  {
   "cell_type": "markdown",
   "metadata": {},
   "source": [
    "Hastings describes the improvement over random of $D=3$ at $c=0.599$ with initial values $[-1, -1/3, 1/3, 1]$, noting that it was at least better than QAOA$_1$'s value of 0.1925 but not as good as a uniform distribution at 0.1980."
   ]
  },
  {
   "cell_type": "code",
   "execution_count": null,
   "metadata": {},
   "outputs": [],
   "source": [
    "c = 0.599\n",
    "d = 3\n",
    "poss = np.array([-1, -1/3, 1/3, 1])\n",
    "nbriter = list(itertools.product(*[poss,]*(d-1)))\n",
    "nbrsums = np.sum(nbriter, axis=1)\n",
    "\n",
    "def t(args):\n",
    "    return local_1(c, *args)\n",
    "\n",
    "ct = np.sum ( t(np.meshgrid(poss, poss, nbrsums, nbrsums)) )\n",
    "improvement = ct / len(poss)**(2*d) - 0.5\n",
    "print(\"poss = \", poss, \"c = \", c, \"success = \", improvement)\n",
    "assert improvement > 0.1925, \"should be better than QAOA1\"\n",
    "assert improvement < 0.1980, \"should be less than uniform dist\""
   ]
  },
  {
   "cell_type": "markdown",
   "metadata": {},
   "source": [
    "### Implementing the 2-step local classical algorithm"
   ]
  },
  {
   "cell_type": "markdown",
   "metadata": {},
   "source": [
    "The code that searches is extremely optimized. Initially, it would have taken 1.5s for D=3; now it takes 5ms for D=3. It groups different possibilities and multiplies them by their occurrence probability, greatly reducing the $O(m^{D^2})$ runtime given $m$ initial values."
   ]
  },
  {
   "cell_type": "code",
   "execution_count": null,
   "metadata": {},
   "outputs": [],
   "source": [
    "# # Code profiling\n",
    "# %lprun -f local_2 run(0.6, 1.1, 3, [-1, 0, 1])\n",
    "# %timeit run(0.6, 1.1, 3, [-1,1])\n",
    "# %prun run(0.6, 1.1, 3, [-1,-1/3,1/3,1])"
   ]
  },
  {
   "cell_type": "code",
   "execution_count": null,
   "metadata": {},
   "outputs": [],
   "source": [
    "def local_2(d, c, c2, n1, n2,  s1, s2, nbr_nbrsum1, nbr_nbrsum2):\n",
    "    \"\"\"\n",
    "    Implements a 2-step local linear algorithm given the description in Hastings 2019.\n",
    "    This has been optimized greatly.\n",
    "    A few notation changes: (c0, c1) are now (c, c2).\n",
    "    The s1, s2 correspond to sums of the neighbors of the nodes connected to the edge.\n",
    "    The nbr_nbrsum1, nbr_nbrsum2 values correspond to sums of the neighbors of the neighbors of the nodes connected to the edge.\n",
    "    \"\"\"\n",
    "#     v1 = n1 - c*s1 - c*n2\n",
    "#     v2 = n2 - c*s2 - c*n1\n",
    "#     x1 = s1 - c*nbr_nbrsum1 - (d-1)*c*n1\n",
    "#     x2 = s2 - c*nbr_nbrsum2 - (d-1)*c*n2\n",
    "#     z1 = v1 - c2*x1 - c2*v2 \n",
    "#     z2 = v2 - c2*x2 - c2*v1\n",
    "    \n",
    "    cc2 = c*c2\n",
    "    cpc2 = c+c2\n",
    "    cc2dp1 = 1+cc2*d\n",
    "    z1 = n1*cc2dp1 - (s1+n2)*cpc2 + cc2*(s2 + nbr_nbrsum1)\n",
    "    z2 = n2*cc2dp1 - (s2+n1)*cpc2 + cc2*(s1 + nbr_nbrsum2)\n",
    "    \n",
    "    # if any of (v1, v2) is 0 it (correctly) gives a 1/2 chance of success\n",
    "    return 0.5 - 0.5* np.sign(z1)*np.sign(z2)"
   ]
  },
  {
   "cell_type": "code",
   "execution_count": null,
   "metadata": {},
   "outputs": [],
   "source": [
    "def get_iters(*poss, d):\n",
    "    nbriter = np.array(list(itertools.product(*[list(poss),]*(d-1))))\n",
    "    nbr_nbriter = list(itertools.product(*[nbriter,]*(d-1)))\n",
    "    nbrsums = np.sum(nbriter, axis=1)\n",
    "    nbr_nbrsums = np.sum(nbr_nbriter, axis=(1, 2))\n",
    "    return nbrsums, nbr_nbrsums"
   ]
  },
  {
   "cell_type": "code",
   "execution_count": null,
   "metadata": {},
   "outputs": [],
   "source": [
    "def run(c, c2, d, poss):\n",
    "    \"\"\"\n",
    "    Note that the runtime is extremely poor: len(poss) ** (2*d(d-1) + 2)\n",
    "    Fortunately, using np.unique helps significantly.\n",
    "    \"\"\"\n",
    "    \n",
    "    nbrsums, nbr_nbrsums = get_iters(*poss, d=d)\n",
    "    \n",
    "    poss_u = np.unique(poss, return_counts=True)\n",
    "    nbr_u = np.unique(nbrsums, return_counts=True)\n",
    "    nbr_nbr_u = np.unique(nbr_nbrsums, return_counts=True)\n",
    "    \n",
    "    mgs = list(zip(poss_u, poss_u, nbr_u, nbr_u, nbr_nbr_u, nbr_nbr_u))\n",
    "    \n",
    "    ct = np.sum ( local_2(d, c, c2, *np.meshgrid(*mgs[0])) *  functools.reduce(np.multiply, np.meshgrid(*mgs[1])) )\n",
    "    perf = ct / len(poss)**(2*(1 + d-1 + (d-1)**2)) - 0.5\n",
    "    \n",
    "    return perf"
   ]
  },
  {
   "cell_type": "markdown",
   "metadata": {},
   "source": [
    "Here's an example grid-based search for $D=3$:"
   ]
  },
  {
   "cell_type": "code",
   "execution_count": null,
   "metadata": {},
   "outputs": [],
   "source": [
    "d=3\n",
    "poss2 = np.array([1, -1])\n",
    "\n",
    "maxx = 0\n",
    "data = (0,0)\n",
    "for c in np.linspace(0, 1.5, 100):\n",
    "    for c2 in np.linspace(0, 1, 100):\n",
    "        val = run(c, c2, d, poss2)\n",
    "        if val > maxx:\n",
    "            maxx = val\n",
    "            data = (c, c2)\n",
    "            print(\"best:\", maxx, data)"
   ]
  },
  {
   "cell_type": "markdown",
   "metadata": {},
   "source": [
    "This searches until it finds a value greater than the associated QAOA$_2$ value."
   ]
  },
  {
   "cell_type": "code",
   "execution_count": null,
   "metadata": {},
   "outputs": [],
   "source": [
    "qaoa2_best = {\n",
    "    3: 0.2559,\n",
    "    4: .2161,\n",
    "    5:.1907\n",
    "}\n",
    "\n",
    "maxx = {3: 0, 4:0, 5:0}\n",
    "data = {}\n",
    "for d in range(3, 6):\n",
    "    vals = [1, -1]\n",
    "    f = lambda x: -run(*x, d, vals)\n",
    "    i = 0\n",
    "    while maxx[d] < qaoa2_best[d] and i < 100:\n",
    "        i += 1\n",
    "        st = (random(), random())\n",
    "        out = minimize(f, st, method='Powell')\n",
    "        if -out.fun > qaoa2_best[d]:\n",
    "            maxx[d] = -out.fun\n",
    "            data[d] = (out, st)\n",
    "            print(d, maxx[d], data[d][0].x)\n",
    "            break"
   ]
  },
  {
   "cell_type": "markdown",
   "metadata": {},
   "source": [
    "Let's check the success with rounded $(c_0, c_1)$. I'm using values from when I first ran the code, which may be different than the output above."
   ]
  },
  {
   "cell_type": "code",
   "execution_count": null,
   "metadata": {},
   "outputs": [],
   "source": [
    "print(\"D=3\", run(7.22, 0.58, 3, [-1, 1]) )\n",
    "print(\"D=4\", run(0.38, 11.20, 4, [-1, 1]) )\n",
    "print(\"D=5\", run(5.44, 0.33, 5, [-1, 1]) )"
   ]
  },
  {
   "cell_type": "markdown",
   "metadata": {},
   "source": [
    "### For D=2"
   ]
  },
  {
   "cell_type": "markdown",
   "metadata": {},
   "source": [
    "The above strategy did not work for D=2!"
   ]
  },
  {
   "cell_type": "markdown",
   "metadata": {},
   "source": [
    "Look at the distribution of performance across various $(c_0, c_1)$:"
   ]
  },
  {
   "cell_type": "code",
   "execution_count": null,
   "metadata": {},
   "outputs": [],
   "source": [
    "# why does it peak at 2?\n",
    "poss = [1, -1]\n",
    "g = np.linspace(0, 5, 100)\n",
    "plt.figure(figsize=(10, 6))\n",
    "plt.plot(g, [1/3]*len(g), 'gray', linewidth=5, label='cutoff')\n",
    "for x in np.linspace(0, 5, 10):\n",
    "    plt.plot(g, [run(x, i, 2,  poss) for i in g], label=str(x))\n",
    "plt.grid()\n",
    "plt.legend()"
   ]
  },
  {
   "cell_type": "markdown",
   "metadata": {},
   "source": [
    "It gets close to 1/3, but doesn't reach it. But consider the same plot for a different set of initial values:"
   ]
  },
  {
   "cell_type": "code",
   "execution_count": null,
   "metadata": {},
   "outputs": [],
   "source": [
    "# why does it peak at 2?\n",
    "poss = [1, -0.7, -0.3, 0.3, 0.7, 1]\n",
    "g = np.linspace(0, 5, 100)\n",
    "plt.figure(figsize=(10, 6))\n",
    "plt.plot(g, [1/3]*len(g), 'gray', linewidth=5, label='cutoff')\n",
    "for x in np.linspace(0, 5, 10):\n",
    "    plt.plot(g, [run(x, i, 2,  poss) for i in g], label=str(x))\n",
    "plt.grid()\n",
    "plt.legend()"
   ]
  },
  {
   "cell_type": "markdown",
   "metadata": {},
   "source": [
    "It seems like the peak performance is around 1/3 ! This is really strange!"
   ]
  },
  {
   "cell_type": "markdown",
   "metadata": {},
   "source": [
    "I tried many possible input values, eventually trying random samples from the triangular distribution, and focusing on the $(c_0, c_1)$ combinations that typically had peak performance."
   ]
  },
  {
   "cell_type": "code",
   "execution_count": null,
   "metadata": {},
   "outputs": [],
   "source": [
    "maxx = 0\n",
    "data = 0\n",
    "for _ in range(3000):\n",
    "#     s = np.random.normal(size=10)\n",
    "    s = np.random.triangular(-1, 0, 1, size=6)\n",
    "    out = run(100, 0.57, 2, s)\n",
    "    if out > maxx:\n",
    "        maxx = out\n",
    "        data = s\n",
    "        print(maxx)\n",
    "print(data, maxx)"
   ]
  },
  {
   "cell_type": "markdown",
   "metadata": {},
   "source": [
    "This did eventually find something! This is approximately what I got when I first ran the code:"
   ]
  },
  {
   "cell_type": "code",
   "execution_count": null,
   "metadata": {},
   "outputs": [],
   "source": [
    "run(10, 0.58, 2, [0.85, 0.29, 0.03, 0.01, -0.49, -0.45])"
   ]
  },
  {
   "cell_type": "markdown",
   "metadata": {},
   "source": [
    "Optimizing with this set of initial values:"
   ]
  },
  {
   "cell_type": "code",
   "execution_count": null,
   "metadata": {},
   "outputs": [],
   "source": [
    "%%time\n",
    "best = None\n",
    "poss = [0.85, 0.29, 0.03, 0.01, -0.49, -0.45]\n",
    "\n",
    "for _ in range(100):\n",
    "    f = lambda x: 0-run(*x, 2, poss)\n",
    "    o = minimize(f, [random()*2 for i in range(2)], method='Nelder-Mead')\n",
    "    if not best or -best.fun < -o.fun:\n",
    "        best = o\n",
    "        print(-best.fun)\n",
    "print(best.x, -best.fun)"
   ]
  },
  {
   "cell_type": "code",
   "execution_count": null,
   "metadata": {},
   "outputs": [],
   "source": [
    "run(17.96, 0.56, 2, [0.85, 0.29, 0.03, 0.01, -0.49, -0.45])"
   ]
  },
  {
   "cell_type": "markdown",
   "metadata": {},
   "source": [
    "Weird! There's something special about this 1/3 value (i.e. 5/6 cut fraction on a ring) for local classical algorithms."
   ]
  },
  {
   "cell_type": "markdown",
   "metadata": {},
   "source": [
    "### Exploring this 2-regular algorithm"
   ]
  },
  {
   "cell_type": "markdown",
   "metadata": {},
   "source": [
    "I did a less \"optimized\" analysis of the 2-regular algorithm:\n",
    "1. Take numbers in 6 slots from a list of options or (preferably discrete) distribution.\n",
    "2. For each of the inner 4, compute a new number.\n",
    "3. For each of the inner 2, compute a new number."
   ]
  },
  {
   "cell_type": "code",
   "execution_count": null,
   "metadata": {},
   "outputs": [],
   "source": [
    "def step(inps, c, size):\n",
    "    outs = []\n",
    "    for x in inps:\n",
    "        out = []\n",
    "        for i in range(1, size-1):\n",
    "            y = x[i] - c*(x[i-1] + x[i+1])\n",
    "            out.append(y)\n",
    "        outs.append(out)\n",
    "    return outs"
   ]
  },
  {
   "cell_type": "markdown",
   "metadata": {},
   "source": [
    "I used this to verify the previous result."
   ]
  },
  {
   "cell_type": "code",
   "execution_count": null,
   "metadata": {},
   "outputs": [],
   "source": [
    "opts = [0.85, 0.29, 0.03, 0.01, -0.49, -0.45]\n",
    "cases = list(itertools.product(*[opts,]*6))"
   ]
  },
  {
   "cell_type": "code",
   "execution_count": null,
   "metadata": {},
   "outputs": [],
   "source": [
    "dones = step(step(cases, 17.96, 6), 0.56, 4)\n",
    "\n",
    "res = sum([(np.sign(d[0]) != np.sign(d[1]) and d[0] != 0 and d[1] != 0) for d in dones]) / len(dones)\n",
    "print(res)\n",
    "print(res > 5/6)"
   ]
  },
  {
   "cell_type": "markdown",
   "metadata": {},
   "source": [
    "It's possible there is something more fundamental going on..."
   ]
  }
 ],
 "metadata": {
  "kernelspec": {
   "display_name": "Python 3",
   "language": "python",
   "name": "python3"
  },
  "language_info": {
   "codemirror_mode": {
    "name": "ipython",
    "version": 3
   },
   "file_extension": ".py",
   "mimetype": "text/x-python",
   "name": "python",
   "nbconvert_exporter": "python",
   "pygments_lexer": "ipython3",
   "version": "3.7.4"
  }
 },
 "nbformat": 4,
 "nbformat_minor": 4
}
