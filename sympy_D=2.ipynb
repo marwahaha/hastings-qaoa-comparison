{
 "cells": [
  {
   "cell_type": "code",
   "execution_count": 6,
   "metadata": {},
   "outputs": [],
   "source": [
    "from sympy import symbols, simplify, collect, expand, expand_trig, cos, sin"
   ]
  },
  {
   "cell_type": "code",
   "execution_count": 7,
   "metadata": {},
   "outputs": [],
   "source": [
    "def f2(beta_1, gamma_1, beta_2, gamma_2):\n",
    "    c = cos(2*beta_2)\n",
    "    s = sin(2*beta_2)\n",
    "    m = cos(gamma_2)\n",
    "    n = sin(gamma_2)\n",
    "    r = cos(2*beta_1)\n",
    "    t = sin(2*beta_1)\n",
    "    G = cos(gamma_1)\n",
    "    H = sin(gamma_1)\n",
    "    \n",
    "    pt1 = c*c*r*t*G*H\n",
    "    pt2 = -s*c*m*n*(r*r*H*H - G*G)\n",
    "    pt3 = -s*c*G*H*(t*t - r*r)*(m*m - n*n)\n",
    "    pt4 = -s*s*t*H*m*r*(m*G - n*H)\n",
    "    return 0.5 + pt1 + pt2 + pt3 + pt4"
   ]
  },
  {
   "cell_type": "code",
   "execution_count": 8,
   "metadata": {},
   "outputs": [],
   "source": [
    "def ring(beta_1, gamma_1_input, beta_2, gamma_2_input):\n",
    "    gamma_1 = -gamma_1_input/2\n",
    "    gamma_2 = -gamma_2_input/2\n",
    "    \n",
    "    Fbyn = 1/64 * (\n",
    "        -7*cos(4*beta_1 + 4*beta_2 + 4*gamma_1 + 4*gamma_2)\n",
    "        -6*cos(4*beta_1 + 4*beta_2 + 4*gamma_1)\n",
    "                   \n",
    "        +3*cos(4*beta_1 + 4*beta_2 - 4*gamma_1 + 4*gamma_2)\n",
    "        +4*cos(4*beta_1 + 4*beta_2 + 4*gamma_2)\n",
    "                   \n",
    "        +3*cos(4*beta_1 - 4*beta_2 + 4*gamma_1 + 4*gamma_2)\n",
    "        -6*cos(4*beta_1 - 4*beta_2 + 4*gamma_1)\n",
    "                   \n",
    "        -3*cos(4*beta_1 - 4*beta_2 - 4*gamma_1 + 4*gamma_2)\n",
    "        +4*cos(4*beta_1 + 4*gamma_1 + 4*gamma_2)\n",
    "                   \n",
    "        -4*cos(4*beta_1 + 4*gamma_1)\n",
    "        -4*cos(4*beta_1 + 4*gamma_2)\n",
    "        -3*cos(-4*beta_1 + 4*beta_2 + 4*gamma_1 + 4*gamma_2)\n",
    "                   \n",
    "        +6*cos(-4*beta_1 + 4*beta_2 + 4*gamma_1)\n",
    "        +3*cos(-4*beta_1 + 4*beta_2 - 4*gamma_1 + 4*gamma_2)\n",
    "                   \n",
    "        +7*cos(-4*beta_1 - 4*beta_2 + 4*gamma_1 + 4*gamma_2)\n",
    "        +6*cos(-4*beta_1 - 4*beta_2 + 4*gamma_1)\n",
    "                   \n",
    "        -3*cos(-4*beta_1 - 4*beta_2 - 4*gamma_1 + 4*gamma_2)\n",
    "        -4*cos(-4*beta_1 - 4*beta_2 + 4*gamma_2)\n",
    "                   \n",
    "        -4*cos(-4*beta_1 + 4*gamma_1 + 4*gamma_2)\n",
    "        +4*cos(-4*beta_1 + 4*gamma_1)\n",
    "        +4*cos(-4*beta_1 + 4*gamma_2)\n",
    "                   \n",
    "        -6*cos(4*beta_2 + 4*gamma_1 + 4*gamma_2)\n",
    "        -6*cos(4*beta_2 - 4*gamma_1 + 4*gamma_2)\n",
    "        -4*cos(4*beta_2 + 4*gamma_2)\n",
    "                   \n",
    "        +6*cos(-4*beta_2 + 4*gamma_1 + 4*gamma_2)\n",
    "        +6*cos(-4*beta_2 - 4*gamma_1 + 4*gamma_2)\n",
    "        +4*cos(-4*beta_2 + 4*gamma_2)\n",
    "    )\n",
    "    return 0.5 * (1 - Fbyn)"
   ]
  },
  {
   "cell_type": "code",
   "execution_count": 9,
   "metadata": {},
   "outputs": [],
   "source": [
    "b1, g1, b2, g2 = symbols('b1 g1 b2 g2')"
   ]
  },
  {
   "cell_type": "code",
   "execution_count": 10,
   "metadata": {},
   "outputs": [
    {
     "name": "stdout",
     "output_type": "stream",
     "text": [
      "0\n"
     ]
    }
   ],
   "source": [
    "print(simplify(\n",
    "    collect(\n",
    "        expand(expand_trig(f2(b1, g1, b2, g2))) - expand(expand_trig(ring(b1, g1, b2, g2)))\n",
    "    , cos(b1))\n",
    "))"
   ]
  }
 ],
 "metadata": {
  "history": [
   {
    "code": "        from IPython.core.display import display, HTML\n        display(HTML(\"\"\"\n        <style>\n        #notebook-container {\n            width: 100%\n        }\n\n        .code_cell {\n           flex-direction: row !important;\n        }\n\n        .code_cell .input {\n            width: 50%\n        }\n\n        .code_cell .output_wrapper {\n            width: 50%\n        }\n        </style>\n        \"\"\"))\n",
    "id": "5cb26a051da340f096407b265c4d5adc",
    "idx": 0,
    "time": "2020-12-09T22:56:04.199Z",
    "type": "execution"
   },
   {
    "id": "5cb26a051da340f096407b265c4d5adc",
    "time": "2020-12-09T22:56:04.301Z",
    "type": "completion"
   },
   {
    "code": "from sympy import symbols, simplify, collect, expand, expand_trig, cos, sin",
    "id": "edd02134b27e425f86f8e8dc0cfa8a34",
    "idx": 1,
    "time": "2020-12-09T22:56:04.921Z",
    "type": "execution"
   },
   {
    "code": "def f2(beta_1, gamma_1, beta_2, gamma_2):\n    c = cos(2*beta_2)\n    s = sin(2*beta_2)\n    m = cos(gamma_2)\n    n = sin(gamma_2)\n    r = cos(2*beta_1)\n    t = sin(2*beta_1)\n    G = cos(gamma_1)\n    H = sin(gamma_1)\n    \n    pt1 = c*c*r*t*G*H\n    pt2 = -s*c*m*n*(r*r*H*H - G*G)\n    pt3 = -s*c*G*H*(t*t - r*r)*(m*m - n*n)\n    pt4 = -s*s*t*H*m*r*(m*G - n*H)\n    return 0.5 + pt1 + pt2 + pt3 + pt4",
    "id": "8995e121a29841568f6667b80f4302ba",
    "idx": 2,
    "time": "2020-12-09T22:56:05.232Z",
    "type": "execution"
   },
   {
    "id": "edd02134b27e425f86f8e8dc0cfa8a34",
    "time": "2020-12-09T22:56:05.336Z",
    "type": "completion"
   },
   {
    "id": "8995e121a29841568f6667b80f4302ba",
    "time": "2020-12-09T22:56:05.351Z",
    "type": "completion"
   },
   {
    "code": "def ring(beta_1, gamma_1_input, beta_2, gamma_2_input):\n    gamma_1 = -gamma_1_input/2\n    gamma_2 = -gamma_2_input/2\n    \n    Fbyn = 1/64 * (\n        -7*cos(4*beta_1 + 4*beta_2 + 4*gamma_1 + 4*gamma_2)\n        -6*cos(4*beta_1 + 4*beta_2 + 4*gamma_1)\n                   \n        +3*cos(4*beta_1 + 4*beta_2 - 4*gamma_1 + 4*gamma_2)\n        +4*cos(4*beta_1 + 4*beta_2 + 4*gamma_2)\n                   \n        +3*cos(4*beta_1 - 4*beta_2 + 4*gamma_1 + 4*gamma_2)\n        -6*cos(4*beta_1 - 4*beta_2 + 4*gamma_1)\n                   \n        -3*cos(4*beta_1 - 4*beta_2 - 4*gamma_1 + 4*gamma_2)\n        +4*cos(4*beta_1 + 4*gamma_1 + 4*gamma_2)\n                   \n        -4*cos(4*beta_1 + 4*gamma_1)\n        -4*cos(4*beta_1 + 4*gamma_2)\n        -3*cos(-4*beta_1 + 4*beta_2 + 4*gamma_1 + 4*gamma_2)\n                   \n        +6*cos(-4*beta_1 + 4*beta_2 + 4*gamma_1)\n        +3*cos(-4*beta_1 + 4*beta_2 - 4*gamma_1 + 4*gamma_2)\n                   \n        +7*cos(-4*beta_1 - 4*beta_2 + 4*gamma_1 + 4*gamma_2)\n        +6*cos(-4*beta_1 - 4*beta_2 + 4*gamma_1)\n                   \n        -3*cos(-4*beta_1 - 4*beta_2 - 4*gamma_1 + 4*gamma_2)\n        -4*cos(-4*beta_1 - 4*beta_2 + 4*gamma_2)\n                   \n        -4*cos(-4*beta_1 + 4*gamma_1 + 4*gamma_2)\n        +4*cos(-4*beta_1 + 4*gamma_1)\n        +4*cos(-4*beta_1 + 4*gamma_2)\n                   \n        -6*cos(4*beta_2 + 4*gamma_1 + 4*gamma_2)\n        -6*cos(4*beta_2 - 4*gamma_1 + 4*gamma_2)\n        -4*cos(4*beta_2 + 4*gamma_2)\n                   \n        +6*cos(-4*beta_2 + 4*gamma_1 + 4*gamma_2)\n        +6*cos(-4*beta_2 - 4*gamma_1 + 4*gamma_2)\n        +4*cos(-4*beta_2 + 4*gamma_2)\n    )\n    return 0.5 * (1 - Fbyn)",
    "id": "4f8bc612b7f341a39c93ae2584a9a382",
    "idx": 3,
    "time": "2020-12-09T22:56:05.640Z",
    "type": "execution"
   },
   {
    "id": "4f8bc612b7f341a39c93ae2584a9a382",
    "time": "2020-12-09T22:56:05.695Z",
    "type": "completion"
   },
   {
    "code": "b1, g1, b2, g2 = symbols('b1 g1 b2 g2')",
    "id": "930c9a9ab0b046b1ad1e2b4a90de150e",
    "idx": 4,
    "time": "2020-12-09T22:56:06.041Z",
    "type": "execution"
   },
   {
    "id": "930c9a9ab0b046b1ad1e2b4a90de150e",
    "time": "2020-12-09T22:56:06.099Z",
    "type": "completion"
   },
   {
    "code": "print(simplify(\n    collect(\n        expand(expand_trig(f2(b1, g1, b2, g2))) - expand(expand_trig(ring(b1, g1, b2, g2)))\n    , cos(b1))\n))",
    "id": "8c7f7f7a27bd429d8b66cda58ea23a93",
    "idx": 5,
    "time": "2020-12-09T22:56:06.423Z",
    "type": "execution"
   },
   {
    "id": "8c7f7f7a27bd429d8b66cda58ea23a93",
    "time": "2020-12-09T22:56:13.991Z",
    "type": "completion"
   },
   {
    "code": "        from IPython.core.display import display, HTML\n        display(HTML(\"\"\"\n        <style>\n        #notebook-container {\n            width: 100%\n        }\n\n        .code_cell {\n           flex-direction: row !important;\n        }\n\n        .code_cell .input {\n            width: 50%\n        }\n\n        .code_cell .output_wrapper {\n            width: 50%\n        }\n        </style>\n        \"\"\"))\n",
    "id": "5cb26a051da340f096407b265c4d5adc",
    "idx": 0,
    "time": "2020-12-09T22:56:18.174Z",
    "type": "execution"
   },
   {
    "id": "5cb26a051da340f096407b265c4d5adc",
    "time": "2020-12-09T22:56:18.238Z",
    "type": "completion"
   },
   {
    "code": "from sympy import symbols, simplify, collect, expand, expand_trig, cos, sin",
    "id": "edd02134b27e425f86f8e8dc0cfa8a34",
    "idx": 1,
    "time": "2020-12-09T22:56:18.577Z",
    "type": "execution"
   },
   {
    "id": "edd02134b27e425f86f8e8dc0cfa8a34",
    "time": "2020-12-09T22:56:18.637Z",
    "type": "completion"
   },
   {
    "code": "def f2(beta_1, gamma_1, beta_2, gamma_2):\n    c = cos(2*beta_2)\n    s = sin(2*beta_2)\n    m = cos(gamma_2)\n    n = sin(gamma_2)\n    r = cos(2*beta_1)\n    t = sin(2*beta_1)\n    G = cos(gamma_1)\n    H = sin(gamma_1)\n    \n    pt1 = c*c*r*t*G*H\n    pt2 = -s*c*m*n*(r*r*H*H - G*G)\n    pt3 = -s*c*G*H*(t*t - r*r)*(m*m - n*n)\n    pt4 = -s*s*t*H*m*r*(m*G - n*H)\n    return 0.5 + pt1 + pt2 + pt3 + pt4",
    "id": "8995e121a29841568f6667b80f4302ba",
    "idx": 2,
    "time": "2020-12-09T22:56:18.840Z",
    "type": "execution"
   },
   {
    "id": "8995e121a29841568f6667b80f4302ba",
    "time": "2020-12-09T22:56:18.900Z",
    "type": "completion"
   },
   {
    "code": "def ring(beta_1, gamma_1_input, beta_2, gamma_2_input):\n    gamma_1 = -gamma_1_input/2\n    gamma_2 = -gamma_2_input/2\n    \n    Fbyn = 1/64 * (\n        -7*cos(4*beta_1 + 4*beta_2 + 4*gamma_1 + 4*gamma_2)\n        -6*cos(4*beta_1 + 4*beta_2 + 4*gamma_1)\n                   \n        +3*cos(4*beta_1 + 4*beta_2 - 4*gamma_1 + 4*gamma_2)\n        +4*cos(4*beta_1 + 4*beta_2 + 4*gamma_2)\n                   \n        +3*cos(4*beta_1 - 4*beta_2 + 4*gamma_1 + 4*gamma_2)\n        -6*cos(4*beta_1 - 4*beta_2 + 4*gamma_1)\n                   \n        -3*cos(4*beta_1 - 4*beta_2 - 4*gamma_1 + 4*gamma_2)\n        +4*cos(4*beta_1 + 4*gamma_1 + 4*gamma_2)\n                   \n        -4*cos(4*beta_1 + 4*gamma_1)\n        -4*cos(4*beta_1 + 4*gamma_2)\n        -3*cos(-4*beta_1 + 4*beta_2 + 4*gamma_1 + 4*gamma_2)\n                   \n        +6*cos(-4*beta_1 + 4*beta_2 + 4*gamma_1)\n        +3*cos(-4*beta_1 + 4*beta_2 - 4*gamma_1 + 4*gamma_2)\n                   \n        +7*cos(-4*beta_1 - 4*beta_2 + 4*gamma_1 + 4*gamma_2)\n        +6*cos(-4*beta_1 - 4*beta_2 + 4*gamma_1)\n                   \n        -3*cos(-4*beta_1 - 4*beta_2 - 4*gamma_1 + 4*gamma_2)\n        -4*cos(-4*beta_1 - 4*beta_2 + 4*gamma_2)\n                   \n        -4*cos(-4*beta_1 + 4*gamma_1 + 4*gamma_2)\n        +4*cos(-4*beta_1 + 4*gamma_1)\n        +4*cos(-4*beta_1 + 4*gamma_2)\n                   \n        -6*cos(4*beta_2 + 4*gamma_1 + 4*gamma_2)\n        -6*cos(4*beta_2 - 4*gamma_1 + 4*gamma_2)\n        -4*cos(4*beta_2 + 4*gamma_2)\n                   \n        +6*cos(-4*beta_2 + 4*gamma_1 + 4*gamma_2)\n        +6*cos(-4*beta_2 - 4*gamma_1 + 4*gamma_2)\n        +4*cos(-4*beta_2 + 4*gamma_2)\n    )\n    return 0.5 * (1 - Fbyn)",
    "id": "4f8bc612b7f341a39c93ae2584a9a382",
    "idx": 3,
    "time": "2020-12-09T22:56:19.048Z",
    "type": "execution"
   },
   {
    "id": "4f8bc612b7f341a39c93ae2584a9a382",
    "time": "2020-12-09T22:56:19.100Z",
    "type": "completion"
   },
   {
    "code": "b1, g1, b2, g2 = symbols('b1 g1 b2 g2')",
    "id": "930c9a9ab0b046b1ad1e2b4a90de150e",
    "idx": 4,
    "time": "2020-12-09T22:56:19.282Z",
    "type": "execution"
   },
   {
    "id": "930c9a9ab0b046b1ad1e2b4a90de150e",
    "time": "2020-12-09T22:56:19.330Z",
    "type": "completion"
   },
   {
    "code": "print(simplify(\n    collect(\n        expand(expand_trig(f2(b1, g1, b2, g2))) - expand(expand_trig(ring(b1, g1, b2, g2)))\n    , cos(b1))\n))",
    "id": "8c7f7f7a27bd429d8b66cda58ea23a93",
    "idx": 5,
    "time": "2020-12-09T22:56:19.537Z",
    "type": "execution"
   },
   {
    "id": "8c7f7f7a27bd429d8b66cda58ea23a93",
    "time": "2020-12-09T22:56:26.563Z",
    "type": "completion"
   },
   {
    "code": "        from IPython.core.display import display, HTML\n        display(HTML(\"\"\"\n        <style>\n        #notebook-container {\n            width: 100%\n        }\n\n        .code_cell {\n           flex-direction: row !important;\n        }\n\n        .code_cell .input {\n            width: 50%\n        }\n\n        .code_cell .output_wrapper {\n            width: 50%\n        }\n        </style>\n        \"\"\"))\n",
    "id": "45254d90e95442cd9204d8f1794d6610",
    "idx": 0,
    "time": "2020-12-09T22:59:53.130Z",
    "type": "execution"
   },
   {
    "id": "45254d90e95442cd9204d8f1794d6610",
    "time": "2020-12-09T22:59:53.218Z",
    "type": "completion"
   },
   {
    "code": "from sympy import symbols, simplify, collect, expand, expand_trig, cos, sin",
    "id": "47e09d360b0f4e438c1ba63c2b80c419",
    "idx": 1,
    "time": "2020-12-09T22:59:54.034Z",
    "type": "execution"
   },
   {
    "code": "def f2(beta_1, gamma_1, beta_2, gamma_2):\n    c = cos(2*beta_2)\n    s = sin(2*beta_2)\n    m = cos(gamma_2)\n    n = sin(gamma_2)\n    r = cos(2*beta_1)\n    t = sin(2*beta_1)\n    G = cos(gamma_1)\n    H = sin(gamma_1)\n    \n    pt1 = c*c*r*t*G*H\n    pt2 = -s*c*m*n*(r*r*H*H - G*G)\n    pt3 = -s*c*G*H*(t*t - r*r)*(m*m - n*n)\n    pt4 = -s*s*t*H*m*r*(m*G - n*H)\n    return 0.5 + pt1 + pt2 + pt3 + pt4",
    "id": "542418bf7ecb4ca09fbd355a417a7102",
    "idx": 2,
    "time": "2020-12-09T22:59:54.371Z",
    "type": "execution"
   },
   {
    "id": "47e09d360b0f4e438c1ba63c2b80c419",
    "time": "2020-12-09T22:59:54.418Z",
    "type": "completion"
   },
   {
    "id": "542418bf7ecb4ca09fbd355a417a7102",
    "time": "2020-12-09T22:59:54.430Z",
    "type": "completion"
   },
   {
    "code": "from IPython.core.display import display, HTML\ndisplay(HTML(\"\"\"\n<style>\n#notebook-container {\n    width: 100%\n}\n\n.code_cell {\n   flex-direction: row !important;\n}\n\n.code_cell .input {\n    width: 50%\n}\n\n.code_cell .output_wrapper {\n    width: 50%\n}\n</style>\n\"\"\"))\n",
    "id": "45254d90e95442cd9204d8f1794d6610",
    "idx": 0,
    "time": "2020-12-09T23:00:00.725Z",
    "type": "execution"
   },
   {
    "id": "45254d90e95442cd9204d8f1794d6610",
    "time": "2020-12-09T23:00:00.813Z",
    "type": "completion"
   },
   {
    "code": "from sympy import symbols, simplify, collect, expand, expand_trig, cos, sin",
    "id": "47e09d360b0f4e438c1ba63c2b80c419",
    "idx": 1,
    "time": "2020-12-09T23:00:01.109Z",
    "type": "execution"
   },
   {
    "id": "47e09d360b0f4e438c1ba63c2b80c419",
    "time": "2020-12-09T23:00:01.151Z",
    "type": "completion"
   },
   {
    "code": "from sympy import symbols, simplify, collect, expand, expand_trig, cos, sin",
    "id": "47e09d360b0f4e438c1ba63c2b80c419",
    "idx": 0,
    "time": "2020-12-09T23:00:02.983Z",
    "type": "execution"
   },
   {
    "id": "47e09d360b0f4e438c1ba63c2b80c419",
    "time": "2020-12-09T23:00:03.053Z",
    "type": "completion"
   },
   {
    "code": "def f2(beta_1, gamma_1, beta_2, gamma_2):\n    c = cos(2*beta_2)\n    s = sin(2*beta_2)\n    m = cos(gamma_2)\n    n = sin(gamma_2)\n    r = cos(2*beta_1)\n    t = sin(2*beta_1)\n    G = cos(gamma_1)\n    H = sin(gamma_1)\n    \n    pt1 = c*c*r*t*G*H\n    pt2 = -s*c*m*n*(r*r*H*H - G*G)\n    pt3 = -s*c*G*H*(t*t - r*r)*(m*m - n*n)\n    pt4 = -s*s*t*H*m*r*(m*G - n*H)\n    return 0.5 + pt1 + pt2 + pt3 + pt4",
    "id": "542418bf7ecb4ca09fbd355a417a7102",
    "idx": 1,
    "time": "2020-12-09T23:00:03.294Z",
    "type": "execution"
   },
   {
    "id": "542418bf7ecb4ca09fbd355a417a7102",
    "time": "2020-12-09T23:00:03.375Z",
    "type": "completion"
   },
   {
    "code": "def ring(beta_1, gamma_1_input, beta_2, gamma_2_input):\n    gamma_1 = -gamma_1_input/2\n    gamma_2 = -gamma_2_input/2\n    \n    Fbyn = 1/64 * (\n        -7*cos(4*beta_1 + 4*beta_2 + 4*gamma_1 + 4*gamma_2)\n        -6*cos(4*beta_1 + 4*beta_2 + 4*gamma_1)\n                   \n        +3*cos(4*beta_1 + 4*beta_2 - 4*gamma_1 + 4*gamma_2)\n        +4*cos(4*beta_1 + 4*beta_2 + 4*gamma_2)\n                   \n        +3*cos(4*beta_1 - 4*beta_2 + 4*gamma_1 + 4*gamma_2)\n        -6*cos(4*beta_1 - 4*beta_2 + 4*gamma_1)\n                   \n        -3*cos(4*beta_1 - 4*beta_2 - 4*gamma_1 + 4*gamma_2)\n        +4*cos(4*beta_1 + 4*gamma_1 + 4*gamma_2)\n                   \n        -4*cos(4*beta_1 + 4*gamma_1)\n        -4*cos(4*beta_1 + 4*gamma_2)\n        -3*cos(-4*beta_1 + 4*beta_2 + 4*gamma_1 + 4*gamma_2)\n                   \n        +6*cos(-4*beta_1 + 4*beta_2 + 4*gamma_1)\n        +3*cos(-4*beta_1 + 4*beta_2 - 4*gamma_1 + 4*gamma_2)\n                   \n        +7*cos(-4*beta_1 - 4*beta_2 + 4*gamma_1 + 4*gamma_2)\n        +6*cos(-4*beta_1 - 4*beta_2 + 4*gamma_1)\n                   \n        -3*cos(-4*beta_1 - 4*beta_2 - 4*gamma_1 + 4*gamma_2)\n        -4*cos(-4*beta_1 - 4*beta_2 + 4*gamma_2)\n                   \n        -4*cos(-4*beta_1 + 4*gamma_1 + 4*gamma_2)\n        +4*cos(-4*beta_1 + 4*gamma_1)\n        +4*cos(-4*beta_1 + 4*gamma_2)\n                   \n        -6*cos(4*beta_2 + 4*gamma_1 + 4*gamma_2)\n        -6*cos(4*beta_2 - 4*gamma_1 + 4*gamma_2)\n        -4*cos(4*beta_2 + 4*gamma_2)\n                   \n        +6*cos(-4*beta_2 + 4*gamma_1 + 4*gamma_2)\n        +6*cos(-4*beta_2 - 4*gamma_1 + 4*gamma_2)\n        +4*cos(-4*beta_2 + 4*gamma_2)\n    )\n    return 0.5 * (1 - Fbyn)",
    "id": "9e4c11a1e75b4303a45a0f91f66120d0",
    "idx": 2,
    "time": "2020-12-09T23:00:03.582Z",
    "type": "execution"
   },
   {
    "id": "9e4c11a1e75b4303a45a0f91f66120d0",
    "time": "2020-12-09T23:00:03.633Z",
    "type": "completion"
   },
   {
    "code": "b1, g1, b2, g2 = symbols('b1 g1 b2 g2')",
    "id": "6b1e10f223b8477688068e6b1246d7e6",
    "idx": 3,
    "time": "2020-12-09T23:00:04.024Z",
    "type": "execution"
   },
   {
    "id": "6b1e10f223b8477688068e6b1246d7e6",
    "time": "2020-12-09T23:00:04.076Z",
    "type": "completion"
   },
   {
    "code": "print(simplify(\n    collect(\n        expand(expand_trig(f2(b1, g1, b2, g2))) - expand(expand_trig(ring(b1, g1, b2, g2)))\n    , cos(b1))\n))",
    "id": "6a9f3c7d27da4b2e8031e57edc145ec1",
    "idx": 4,
    "time": "2020-12-09T23:00:05.205Z",
    "type": "execution"
   },
   {
    "id": "6a9f3c7d27da4b2e8031e57edc145ec1",
    "time": "2020-12-09T23:00:12.878Z",
    "type": "completion"
   }
  ],
  "kernelspec": {
   "display_name": "Python 3",
   "language": "python",
   "name": "python3"
  },
  "language_info": {
   "codemirror_mode": {
    "name": "ipython",
    "version": 3
   },
   "file_extension": ".py",
   "mimetype": "text/x-python",
   "name": "python",
   "nbconvert_exporter": "python",
   "pygments_lexer": "ipython3",
   "version": "3.7.4"
  }
 },
 "nbformat": 4,
 "nbformat_minor": 4
}
