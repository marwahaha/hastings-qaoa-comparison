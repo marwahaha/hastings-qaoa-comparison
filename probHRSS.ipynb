{
 "cells": [
  {
   "cell_type": "code",
   "execution_count": 1,
   "metadata": {},
   "outputs": [],
   "source": [
    "import numpy as np"
   ]
  },
  {
   "cell_type": "markdown",
   "metadata": {},
   "source": [
    "Let's let threshold = 1/2, and vary probability p"
   ]
  },
  {
   "cell_type": "markdown",
   "metadata": {},
   "source": [
    "lets use D odd to avoid edge cases here"
   ]
  },
  {
   "cell_type": "markdown",
   "metadata": {},
   "source": [
    "with probability $p^2$, it's HRSS t=1/2, = random (flip if *above* 1/2, random choose if = 1/2), might be edge case"
   ]
  },
  {
   "cell_type": "markdown",
   "metadata": {},
   "source": [
    "with probability $(1-p)^2$, it's random (no flips)"
   ]
  },
  {
   "cell_type": "markdown",
   "metadata": {},
   "source": [
    "with probability $2p(1-p)$, one of them flips. this should improve.\n",
    "* if = initially (1/2 chance), then will +1 when num_same > T-1\n",
    "* if not = initially (1/2 chance), then will -1 when num_same > T"
   ]
  },
  {
   "cell_type": "markdown",
   "metadata": {},
   "source": [
    "Let's use T = D/2, and we're deciding among D-1 edges in triangle-free case"
   ]
  },
  {
   "cell_type": "markdown",
   "metadata": {},
   "source": [
    "* Then first case is chance of binomial (D-1, 1/2)  > D/2 - 1\n",
    "* Then second case is chance of binomail (D-1, 1/2) > D/2"
   ]
  },
  {
   "cell_type": "markdown",
   "metadata": {},
   "source": [
    "assuming D odd"
   ]
  },
  {
   "cell_type": "markdown",
   "metadata": {},
   "source": [
    "D-1 even, so (D-1)/2 is the only option that is in only one case"
   ]
  },
  {
   "cell_type": "markdown",
   "metadata": {},
   "source": [
    "This happens with probability ((D-1) choose (D-1)/2) / 2^(D-1)"
   ]
  },
  {
   "cell_type": "markdown",
   "metadata": {},
   "source": [
    "So the cut fraction is 1/2 + p(1-p) ((D-1) choose (D-1)/2) / 2^(D-1)"
   ]
  },
  {
   "cell_type": "markdown",
   "metadata": {},
   "source": [
    "at large D, this approximates $1/\\sqrt{\\pi (D-1)/2}$"
   ]
  },
  {
   "cell_type": "markdown",
   "metadata": {},
   "source": [
    "so cut fraction = $1/2 + p(1-p)\\sqrt{\\pi(D-1)/2}$"
   ]
  },
  {
   "cell_type": "markdown",
   "metadata": {},
   "source": [
    "maximized at p = 1/2, so it's $1/2 + \\frac{1}{4 \\sqrt{\\pi(D-1)/2}}$"
   ]
  },
  {
   "cell_type": "markdown",
   "metadata": {},
   "source": [
    "$1/2 + 1/\\sqrt{8\\pi(D-1)}$\n"
   ]
  },
  {
   "cell_type": "code",
   "execution_count": 2,
   "metadata": {},
   "outputs": [],
   "source": [
    "from numpy import pi"
   ]
  },
  {
   "cell_type": "code",
   "execution_count": 3,
   "metadata": {},
   "outputs": [
    {
     "data": {
      "text/plain": [
       "0.19947114020071635"
      ]
     },
     "execution_count": 3,
     "metadata": {},
     "output_type": "execute_result"
    }
   ],
   "source": [
    "(8*pi)**-0.5"
   ]
  },
  {
   "cell_type": "markdown",
   "metadata": {},
   "source": [
    ".19947 is not far from .33649 (1.5x I guess)"
   ]
  },
  {
   "cell_type": "code",
   "execution_count": 4,
   "metadata": {},
   "outputs": [
    {
     "data": {
      "text/plain": [
       "0.04425"
      ]
     },
     "execution_count": 4,
     "metadata": {},
     "output_type": "execute_result"
    }
   ],
   "source": [
    ".177/4"
   ]
  },
  {
   "cell_type": "code",
   "execution_count": 5,
   "metadata": {},
   "outputs": [
    {
     "data": {
      "text/plain": [
       "0.24372"
      ]
     },
     "execution_count": 5,
     "metadata": {},
     "output_type": "execute_result"
    }
   ],
   "source": [
    ".19947+.04425"
   ]
  },
  {
   "cell_type": "markdown",
   "metadata": {},
   "source": [
    "This is okay (better than Shearer), but not great."
   ]
  },
  {
   "cell_type": "markdown",
   "metadata": {},
   "source": [
    "What about with a better choice of threshold?"
   ]
  },
  {
   "cell_type": "markdown",
   "metadata": {},
   "source": [
    "T = D/2 + k\\sqrt{D}"
   ]
  },
  {
   "cell_type": "markdown",
   "metadata": {},
   "source": [
    "Then, with (1-p)^2, no change (random)"
   ]
  },
  {
   "cell_type": "markdown",
   "metadata": {},
   "source": [
    "With p^2, it's HRSS (with advantage given by D and T), which is $\\sqrt{2/(D\\pi)}e^{-2k^2}erf(k\\sqrt{2})$"
   ]
  },
  {
   "cell_type": "markdown",
   "metadata": {},
   "source": [
    "With 2p(1-p), it's the same as above"
   ]
  },
  {
   "cell_type": "markdown",
   "metadata": {},
   "source": [
    "This will have advantage $p(1-p) 1/\\sqrt{\\pi (D-1)/2} e^{-(2k)^2 D / 2(D-1)}$\n",
    "\n",
    "$\\approx p(1-p) 1/\\sqrt{\\pi (D-1)/2} e^{-2k^2} + p^2 \\sqrt{2/(D\\pi)}e^{-2k^2}erf(k\\sqrt{2})$"
   ]
  },
  {
   "cell_type": "markdown",
   "metadata": {},
   "source": [
    "$\\sqrt{2/(D\\pi)} e^{-2k^2} (p - p^2 + p^2 erf(k\\sqrt{2}))$"
   ]
  },
  {
   "cell_type": "markdown",
   "metadata": {},
   "source": [
    "given k, i saw earlier that this is maximized at $p =0.5/(1 - erf(k\\sqrt{2}))$, of course check 0<=p<=1\n",
    "\n",
    "then, advantage is\n",
    "$\\sqrt{2/(D\\pi)} e^{-2k^2} 0.25 / (1 - erf(k\\sqrt{2}))$"
   ]
  },
  {
   "cell_type": "code",
   "execution_count": null,
   "metadata": {},
   "outputs": [],
   "source": []
  },
  {
   "cell_type": "code",
   "execution_count": null,
   "metadata": {},
   "outputs": [],
   "source": []
  },
  {
   "cell_type": "markdown",
   "metadata": {},
   "source": [
    "## different approach"
   ]
  },
  {
   "cell_type": "code",
   "execution_count": 6,
   "metadata": {},
   "outputs": [],
   "source": [
    "from math import erf, e"
   ]
  },
  {
   "cell_type": "code",
   "execution_count": 7,
   "metadata": {},
   "outputs": [],
   "source": [
    "import matplotlib.pyplot as plt"
   ]
  },
  {
   "cell_type": "code",
   "execution_count": 8,
   "metadata": {},
   "outputs": [],
   "source": [
    "inps = np.linspace(-1, 1, 1000)"
   ]
  },
  {
   "cell_type": "code",
   "execution_count": 9,
   "metadata": {},
   "outputs": [],
   "source": [
    "def valid(k):\n",
    "    return erf(k*2**0.5) <= 0.5"
   ]
  },
  {
   "cell_type": "code",
   "execution_count": 10,
   "metadata": {},
   "outputs": [
    {
     "data": {
      "image/png": "[encoded data removed]",
      "text/plain": [
       "<Figure size 432x288 with 1 Axes>"
      ]
     },
     "metadata": {
      "needs_background": "light"
     },
     "output_type": "display_data"
    }
   ],
   "source": [
    "inps = np.linspace(0.001, 1, 1000)\n",
    "plt.plot(inps, [(2/pi)**0.5*e**(-2*x*x)/(1-erf(x*2**0.5))/4 if valid(x) else None for x in inps], label=\"prob HRSS\")\n",
    "plt.plot(inps, [(2/pi)**0.5*e**(-2*x*x)*erf(x*2**0.5) for x in inps], label=\"HRSS\")\n",
    "plt.xlabel(\"k (such that threshold $= 1/2 + k\\sqrt{D}$)\")\n",
    "plt.ylabel(\"$\\sqrt{D}$*(cut fraction - 1/2)\")\n",
    "plt.grid()\n",
    "plt.legend()\n",
    "plt.savefig('probHRSS.png')"
   ]
  },
  {
   "cell_type": "markdown",
   "metadata": {},
   "source": [
    "## complete graph"
   ]
  },
  {
   "cell_type": "markdown",
   "metadata": {},
   "source": [
    "N = 4.. 6 edges... cut 4 of them... E* (1/2 + 1/(2*3)) -> 6 * (1/2 + 1/6) = 4 :-)"
   ]
  },
  {
   "cell_type": "markdown",
   "metadata": {},
   "source": [
    "N nodes, D = N-1... N(N-1)/2 edges = D(D+1)/2 edges\n",
    "\n",
    "Cut (N/2)(N/2) edges if N even... N^2 / 4...\n",
    "\n",
    "N^2/4 vs N^2/4 - N/4 ...\n",
    "\n",
    "So 1/2 + N/4 / (N^2 - N)/2 ...\n",
    "1/2 + 1/2  /  (N - 1)\n",
    "1/2 + 1/2 / D"
   ]
  },
  {
   "cell_type": "code",
   "execution_count": 11,
   "metadata": {},
   "outputs": [],
   "source": [
    "def g(D, k):\n",
    "    num = 0.25 * 2/(pi*D) * e**(-4*k*k)\n",
    "    den = (2/pi/D)**0.5 * e**(-2*k*k) + 0.5 - 0.5*erf(k*2**0.5)\n",
    "    return num/den"
   ]
  },
  {
   "cell_type": "code",
   "execution_count": 12,
   "metadata": {},
   "outputs": [],
   "source": [
    "inps = np.linspace(0, 2, 100)"
   ]
  },
  {
   "cell_type": "code",
   "execution_count": 13,
   "metadata": {},
   "outputs": [
    {
     "data": {
      "text/plain": [
       "Text(0, 0.5, 'advantage*D')"
      ]
     },
     "execution_count": 13,
     "metadata": {},
     "output_type": "execute_result"
    },
    {
     "data": {
      "image/png": "[encoded data removed]",
      "text/plain": [
       "<Figure size 432x288 with 1 Axes>"
      ]
     },
     "metadata": {
      "needs_background": "light"
     },
     "output_type": "display_data"
    }
   ],
   "source": [
    "for D in range(1, 150, 20):\n",
    "    plt.plot(inps, [D*g(D, i) for i in inps], label=\"D=\" + str(D))\n",
    "plt.grid()\n",
    "plt.legend()\n",
    "plt.xlabel(\"k\")\n",
    "plt.ylabel(\"advantage*D\")"
   ]
  },
  {
   "cell_type": "code",
   "execution_count": 14,
   "metadata": {},
   "outputs": [
    {
     "name": "stdout",
     "output_type": "stream",
     "text": [
      "D=111\n",
      "num edges: 6216.0\n",
      "50%      : 3108.0\n",
      "k=0.25   : 3126.4915881044303\n",
      "max cut  : 3135.9999999999995\n"
     ]
    }
   ],
   "source": [
    "D = 111\n",
    "assert D % 2 == 1\n",
    "print(\"D=\" + str(D))\n",
    "print(\"num edges: \" + str(0.5*D*(D+1)))\n",
    "print(\"50%      : \" + str(0.25*D*(D+1)))\n",
    "print(\"k=0.25   : \" + str(0.5*D*(D+1)*(0.5 + g(D, 0.25))))\n",
    "print(\"max cut  : \" + str(0.5*D*(D+1)*(0.5 + 0.5/D)))\n"
   ]
  },
  {
   "cell_type": "code",
   "execution_count": null,
   "metadata": {},
   "outputs": [],
   "source": []
  },
  {
   "cell_type": "code",
   "execution_count": 15,
   "metadata": {},
   "outputs": [
    {
     "ename": "NameError",
     "evalue": "name 'h' is not defined",
     "output_type": "error",
     "traceback": [
      "\u001b[0;31m---------------------------------------------------------------------------\u001b[0m",
      "\u001b[0;31mNameError\u001b[0m                                 Traceback (most recent call last)",
      "\u001b[0;32m<ipython-input-15-c69cb018ec0e>\u001b[0m in \u001b[0;36m<module>\u001b[0;34m\u001b[0m\n\u001b[1;32m      1\u001b[0m \u001b[0;32mfor\u001b[0m \u001b[0mD\u001b[0m \u001b[0;32min\u001b[0m \u001b[0;34m[\u001b[0m\u001b[0;36m10\u001b[0m\u001b[0;34m,\u001b[0m \u001b[0;36m100\u001b[0m\u001b[0;34m,\u001b[0m \u001b[0;36m1000\u001b[0m\u001b[0;34m,\u001b[0m \u001b[0;36m10000\u001b[0m\u001b[0;34m,\u001b[0m \u001b[0;36m100000\u001b[0m\u001b[0;34m]\u001b[0m\u001b[0;34m:\u001b[0m\u001b[0;34m\u001b[0m\u001b[0;34m\u001b[0m\u001b[0m\n\u001b[1;32m      2\u001b[0m     \u001b[0minps\u001b[0m \u001b[0;34m=\u001b[0m \u001b[0mnp\u001b[0m\u001b[0;34m.\u001b[0m\u001b[0mlinspace\u001b[0m\u001b[0;34m(\u001b[0m\u001b[0;36m0\u001b[0m\u001b[0;34m,\u001b[0m \u001b[0;36m2\u001b[0m\u001b[0;34m,\u001b[0m \u001b[0;36m1000\u001b[0m\u001b[0;34m)\u001b[0m\u001b[0;34m\u001b[0m\u001b[0;34m\u001b[0m\u001b[0m\n\u001b[0;32m----> 3\u001b[0;31m     \u001b[0mplt\u001b[0m\u001b[0;34m.\u001b[0m\u001b[0mplot\u001b[0m\u001b[0;34m(\u001b[0m\u001b[0minps\u001b[0m\u001b[0;34m,\u001b[0m \u001b[0;34m[\u001b[0m\u001b[0mD\u001b[0m\u001b[0;34m*\u001b[0m\u001b[0mh\u001b[0m\u001b[0;34m(\u001b[0m\u001b[0mi\u001b[0m\u001b[0;34m,\u001b[0m \u001b[0mD\u001b[0m\u001b[0;34m)\u001b[0m \u001b[0;32mfor\u001b[0m \u001b[0mi\u001b[0m \u001b[0;32min\u001b[0m \u001b[0minps\u001b[0m\u001b[0;34m]\u001b[0m\u001b[0;34m,\u001b[0m \u001b[0mlabel\u001b[0m\u001b[0;34m=\u001b[0m\u001b[0;34m\"D=\"\u001b[0m \u001b[0;34m+\u001b[0m \u001b[0mstr\u001b[0m\u001b[0;34m(\u001b[0m\u001b[0mD\u001b[0m\u001b[0;34m)\u001b[0m\u001b[0;34m)\u001b[0m\u001b[0;34m\u001b[0m\u001b[0;34m\u001b[0m\u001b[0m\n\u001b[0m\u001b[1;32m      4\u001b[0m \u001b[0mplt\u001b[0m\u001b[0;34m.\u001b[0m\u001b[0mxlabel\u001b[0m\u001b[0;34m(\u001b[0m\u001b[0;34m\"k (such that threshold $= 1/2 + k\\sqrt{D}$)\"\u001b[0m\u001b[0;34m)\u001b[0m\u001b[0;34m\u001b[0m\u001b[0;34m\u001b[0m\u001b[0m\n\u001b[1;32m      5\u001b[0m \u001b[0mplt\u001b[0m\u001b[0;34m.\u001b[0m\u001b[0mylabel\u001b[0m\u001b[0;34m(\u001b[0m\u001b[0;34m\"D*(cut fraction - 1/2)\"\u001b[0m\u001b[0;34m)\u001b[0m\u001b[0;34m\u001b[0m\u001b[0;34m\u001b[0m\u001b[0m\n",
      "\u001b[0;32m<ipython-input-15-c69cb018ec0e>\u001b[0m in \u001b[0;36m<listcomp>\u001b[0;34m(.0)\u001b[0m\n\u001b[1;32m      1\u001b[0m \u001b[0;32mfor\u001b[0m \u001b[0mD\u001b[0m \u001b[0;32min\u001b[0m \u001b[0;34m[\u001b[0m\u001b[0;36m10\u001b[0m\u001b[0;34m,\u001b[0m \u001b[0;36m100\u001b[0m\u001b[0;34m,\u001b[0m \u001b[0;36m1000\u001b[0m\u001b[0;34m,\u001b[0m \u001b[0;36m10000\u001b[0m\u001b[0;34m,\u001b[0m \u001b[0;36m100000\u001b[0m\u001b[0;34m]\u001b[0m\u001b[0;34m:\u001b[0m\u001b[0;34m\u001b[0m\u001b[0;34m\u001b[0m\u001b[0m\n\u001b[1;32m      2\u001b[0m     \u001b[0minps\u001b[0m \u001b[0;34m=\u001b[0m \u001b[0mnp\u001b[0m\u001b[0;34m.\u001b[0m\u001b[0mlinspace\u001b[0m\u001b[0;34m(\u001b[0m\u001b[0;36m0\u001b[0m\u001b[0;34m,\u001b[0m \u001b[0;36m2\u001b[0m\u001b[0;34m,\u001b[0m \u001b[0;36m1000\u001b[0m\u001b[0;34m)\u001b[0m\u001b[0;34m\u001b[0m\u001b[0;34m\u001b[0m\u001b[0m\n\u001b[0;32m----> 3\u001b[0;31m     \u001b[0mplt\u001b[0m\u001b[0;34m.\u001b[0m\u001b[0mplot\u001b[0m\u001b[0;34m(\u001b[0m\u001b[0minps\u001b[0m\u001b[0;34m,\u001b[0m \u001b[0;34m[\u001b[0m\u001b[0mD\u001b[0m\u001b[0;34m*\u001b[0m\u001b[0mh\u001b[0m\u001b[0;34m(\u001b[0m\u001b[0mi\u001b[0m\u001b[0;34m,\u001b[0m \u001b[0mD\u001b[0m\u001b[0;34m)\u001b[0m \u001b[0;32mfor\u001b[0m \u001b[0mi\u001b[0m \u001b[0;32min\u001b[0m \u001b[0minps\u001b[0m\u001b[0;34m]\u001b[0m\u001b[0;34m,\u001b[0m \u001b[0mlabel\u001b[0m\u001b[0;34m=\u001b[0m\u001b[0;34m\"D=\"\u001b[0m \u001b[0;34m+\u001b[0m \u001b[0mstr\u001b[0m\u001b[0;34m(\u001b[0m\u001b[0mD\u001b[0m\u001b[0;34m)\u001b[0m\u001b[0;34m)\u001b[0m\u001b[0;34m\u001b[0m\u001b[0;34m\u001b[0m\u001b[0m\n\u001b[0m\u001b[1;32m      4\u001b[0m \u001b[0mplt\u001b[0m\u001b[0;34m.\u001b[0m\u001b[0mxlabel\u001b[0m\u001b[0;34m(\u001b[0m\u001b[0;34m\"k (such that threshold $= 1/2 + k\\sqrt{D}$)\"\u001b[0m\u001b[0;34m)\u001b[0m\u001b[0;34m\u001b[0m\u001b[0;34m\u001b[0m\u001b[0m\n\u001b[1;32m      5\u001b[0m \u001b[0mplt\u001b[0m\u001b[0;34m.\u001b[0m\u001b[0mylabel\u001b[0m\u001b[0;34m(\u001b[0m\u001b[0;34m\"D*(cut fraction - 1/2)\"\u001b[0m\u001b[0;34m)\u001b[0m\u001b[0;34m\u001b[0m\u001b[0;34m\u001b[0m\u001b[0m\n",
      "\u001b[0;31mNameError\u001b[0m: name 'h' is not defined"
     ]
    }
   ],
   "source": [
    "for D in [10, 100, 1000, 10000, 100000]:\n",
    "    inps = np.linspace(0, 2, 1000)\n",
    "    plt.plot(inps, [D*h(i, D) for i in inps], label=\"D=\" + str(D))\n",
    "plt.xlabel(\"k (such that threshold $= 1/2 + k\\sqrt{D}$)\")\n",
    "plt.ylabel(\"D*(cut fraction - 1/2)\")\n",
    "plt.legend()\n",
    "plt.grid()\n",
    "plt.savefig('probcomplete.png')"
   ]
  },
  {
   "cell_type": "markdown",
   "metadata": {},
   "source": [
    "just for fun; you can use minimize to get a more accurate reading"
   ]
  },
  {
   "cell_type": "code",
   "execution_count": null,
   "metadata": {},
   "outputs": [],
   "source": [
    "def h2(k):\n",
    "    return e**(-4*k*k) / (pi*(1 - erf(k*2**0.5)))\n",
    "\n",
    "inps = np.linspace(0, 2, 1000)\n",
    "plt.plot(inps, [h2(i) for i in inps])\n",
    "plt.grid()"
   ]
  },
  {
   "cell_type": "markdown",
   "metadata": {},
   "source": [
    "## what about hastings for general Y"
   ]
  },
  {
   "cell_type": "markdown",
   "metadata": {},
   "source": [
    "thinking about Y >> \\sqrt{D}"
   ]
  },
  {
   "cell_type": "code",
   "execution_count": null,
   "metadata": {},
   "outputs": [],
   "source": [
    "def cdf(x):\n",
    "    return 0.5 + 0.5*erf(x*2**-0.5)"
   ]
  },
  {
   "cell_type": "code",
   "execution_count": null,
   "metadata": {},
   "outputs": [],
   "source": [
    "inps = np.linspace(-0.2, 0.2, 100)\n",
    "plt.plot(inps, [cdf(x)**2-0.25 for x in inps])\n",
    "plt.grid()"
   ]
  },
  {
   "cell_type": "markdown",
   "metadata": {},
   "source": [
    "cdf(x)^2 average is 0.25 + 0.25*erf^2 average .. erf propto z at small values."
   ]
  },
  {
   "cell_type": "code",
   "execution_count": null,
   "metadata": {},
   "outputs": [],
   "source": [
    "inps = np.linspace(27, 1000,1000)\n",
    "plt.plot(inps, inps**(2/3)/(inps - inps**(2/3)) - (inps**(2/3)/(inps - inps**(2/3)))**2)\n",
    "plt.plot(inps, inps**(-1/3))\n",
    "plt.grid()"
   ]
  },
  {
   "cell_type": "code",
   "execution_count": null,
   "metadata": {},
   "outputs": [],
   "source": [
    "inps = np.linspace(-2,2, 1000)\n",
    "plt.plot(inps, [erf(x) for x in inps])\n",
    "plt.plot(inps, [x*2*pi**-0.5 for x in inps])\n",
    "plt.plot(inps, [(x-x**3/3)*2*pi**-0.5 for x in inps])\n",
    "plt.plot(inps, [(x-x**3/3+x**5/10)*2*pi**-0.5 for x in inps])\n",
    "\n",
    "plt.grid()"
   ]
  },
  {
   "cell_type": "code",
   "execution_count": 16,
   "metadata": {},
   "outputs": [],
   "source": [
    "from numpy.random import normal"
   ]
  },
  {
   "cell_type": "code",
   "execution_count": null,
   "metadata": {},
   "outputs": [],
   "source": []
  },
  {
   "cell_type": "code",
   "execution_count": 17,
   "metadata": {},
   "outputs": [],
   "source": [
    "from scipy.special import erf"
   ]
  },
  {
   "cell_type": "code",
   "execution_count": 18,
   "metadata": {},
   "outputs": [],
   "source": [
    "D = 1000000\n",
    "pts = 10000\n",
    "erf2 = lambda i: erf(i)*erf(i)"
   ]
  },
  {
   "cell_type": "code",
   "execution_count": 19,
   "metadata": {},
   "outputs": [
    {
     "data": {
      "image/png": "[encoded data removed]",
      "text/plain": [
       "<Figure size 432x288 with 1 Axes>"
      ]
     },
     "metadata": {
      "needs_background": "light"
     },
     "output_type": "display_data"
    }
   ],
   "source": [
    "inps = np.arange(1, D, 100)\n",
    "plt.plot(inps/D, [np.average(0.5*erf2( (Y/(D-Y))**0.5 * 2**-0.5  * normal(size=pts) )) for Y in inps], label=\"HRSS\")\n",
    "plt.plot(inps/D, inps/pi/D, label=\"1/$\\pi$\")\n",
    "plt.plot(inps/D, inps/2/D, label=\"1/2\")\n",
    "\n",
    "plt.xlabel(\"Y/D\")\n",
    "plt.ylabel(\"$-\\delta(D, Y, 0)$\")\n",
    "plt.legend()\n",
    "plt.grid()\n",
    "plt.savefig('HRSS_YthetaD.png')"
   ]
  },
  {
   "cell_type": "markdown",
   "metadata": {},
   "source": [
    "At small Y/D, the cut advantage is -Y/(pi D), but eventually grows to -Y/(2D)."
   ]
  },
  {
   "cell_type": "markdown",
   "metadata": {},
   "source": [
    "At larger Y/D, the cut advantage drops further"
   ]
  },
  {
   "cell_type": "markdown",
   "metadata": {},
   "source": [
    "# qaoa complete"
   ]
  },
  {
   "cell_type": "code",
   "execution_count": 20,
   "metadata": {},
   "outputs": [],
   "source": [
    "def q(c, D):\n",
    "    pt1 = c**(D-1) - 1\n",
    "    pt2 = (1 - c**(D-1))**2\n",
    "    pt3 = 16*(1-c)/2 * ((1+c)/2)**(D-1)\n",
    "    return 0.25 * (pt1 + (pt2 + pt3)**0.5)"
   ]
  },
  {
   "cell_type": "code",
   "execution_count": 21,
   "metadata": {},
   "outputs": [
    {
     "data": {
      "image/png": "[encoded data removed]",
      "text/plain": [
       "<Figure size 432x288 with 1 Axes>"
      ]
     },
     "metadata": {
      "needs_background": "light"
     },
     "output_type": "display_data"
    }
   ],
   "source": [
    "inps = range(100, 10000, 100)\n",
    "plt.plot(inps, [D*q(1-2*(D-1)**-(4/3), D) for D in inps])\n",
    "plt.grid()"
   ]
  },
  {
   "cell_type": "code",
   "execution_count": 22,
   "metadata": {},
   "outputs": [
    {
     "data": {
      "text/plain": [
       "(0.999999569113062, 1.000000215443469)"
      ]
     },
     "execution_count": 22,
     "metadata": {},
     "output_type": "execute_result"
    },
    {
     "data": {
      "image/png": "[encoded data removed]",
      "text/plain": [
       "<Figure size 432x288 with 1 Axes>"
      ]
     },
     "metadata": {
      "needs_background": "light"
     },
     "output_type": "display_data"
    }
   ],
   "source": [
    "D = 100000\n",
    "eps = D**(-4/3)\n",
    "inps = np.linspace(1-eps, 1, 10000)\n",
    "outs = [D*q(i, D) for i in inps]\n",
    "plt.scatter(inps, outs, s=1)\n",
    "plt.grid()\n",
    "plt.xlim(1-2*eps, 1+eps)"
   ]
  },
  {
   "cell_type": "markdown",
   "metadata": {},
   "source": [
    "question: does this match 1/D? "
   ]
  },
  {
   "cell_type": "code",
   "execution_count": 23,
   "metadata": {},
   "outputs": [
    {
     "data": {
      "text/plain": [
       "0.06738252456006677"
      ]
     },
     "execution_count": 23,
     "metadata": {},
     "output_type": "execute_result"
    }
   ],
   "source": [
    "q(.9999999, 1e8)*1e8"
   ]
  },
  {
   "cell_type": "code",
   "execution_count": 24,
   "metadata": {},
   "outputs": [
    {
     "data": {
      "text/plain": [
       "0.999999784556531"
      ]
     },
     "execution_count": 24,
     "metadata": {},
     "output_type": "execute_result"
    }
   ],
   "source": [
    "inps[np.argmax(outs)]"
   ]
  },
  {
   "cell_type": "code",
   "execution_count": 25,
   "metadata": {},
   "outputs": [
    {
     "data": {
      "text/plain": [
       "0.9990539652137732"
      ]
     },
     "execution_count": 25,
     "metadata": {},
     "output_type": "execute_result"
    }
   ],
   "source": [
    "np.max(outs)"
   ]
  },
  {
   "cell_type": "markdown",
   "metadata": {},
   "source": [
    "# max qaoa a approx b"
   ]
  },
  {
   "cell_type": "code",
   "execution_count": 26,
   "metadata": {},
   "outputs": [],
   "source": [
    "def efn(k):\n",
    "    return k*((1 + k*k/4)**0.5 - k/2)"
   ]
  },
  {
   "cell_type": "code",
   "execution_count": 27,
   "metadata": {},
   "outputs": [
    {
     "data": {
      "image/png": "[encoded data removed]",
      "text/plain": [
       "<Figure size 432x288 with 1 Axes>"
      ]
     },
     "metadata": {
      "needs_background": "light"
     },
     "output_type": "display_data"
    }
   ],
   "source": [
    "inps = np.linspace(0, 10,1000)\n",
    "plt.plot(inps, efn(inps))\n",
    "plt.grid()"
   ]
  },
  {
   "cell_type": "markdown",
   "metadata": {},
   "source": [
    "for the sqrt D region"
   ]
  },
  {
   "cell_type": "code",
   "execution_count": 28,
   "metadata": {},
   "outputs": [],
   "source": [
    "def maybe(k):\n",
    "    return k*e**(-k*k/2)"
   ]
  },
  {
   "cell_type": "code",
   "execution_count": 29,
   "metadata": {},
   "outputs": [
    {
     "data": {
      "image/png": "[encoded data removed]",
      "text/plain": [
       "<Figure size 432x288 with 1 Axes>"
      ]
     },
     "metadata": {
      "needs_background": "light"
     },
     "output_type": "display_data"
    }
   ],
   "source": [
    "inps = np.linspace(0, 5, 1000)\n",
    "plt.plot(inps, maybe(inps))\n",
    "plt.grid()"
   ]
  },
  {
   "cell_type": "markdown",
   "metadata": {},
   "source": [
    "compare sqrt D for prob HRSS and QAOA"
   ]
  },
  {
   "cell_type": "markdown",
   "metadata": {},
   "source": [
    "looks like QAOA wins, but it's not necessarily optimal for prob HRSS"
   ]
  },
  {
   "cell_type": "code",
   "execution_count": 30,
   "metadata": {},
   "outputs": [
    {
     "data": {
      "text/plain": [
       "0.36787944117144233"
      ]
     },
     "execution_count": 30,
     "metadata": {},
     "output_type": "execute_result"
    }
   ],
   "source": [
    "e**(-4*0.5*0.5)"
   ]
  },
  {
   "cell_type": "code",
   "execution_count": 31,
   "metadata": {},
   "outputs": [
    {
     "data": {
      "text/plain": [
       "(-1, 1)"
      ]
     },
     "execution_count": 31,
     "metadata": {},
     "output_type": "execute_result"
    },
    {
     "data": {
      "image/png": "[encoded data removed]",
      "text/plain": [
       "<Figure size 432x288 with 1 Axes>"
      ]
     },
     "metadata": {
      "needs_background": "light"
     },
     "output_type": "display_data"
    }
   ],
   "source": [
    "inps = np.arange(1, 10)\n",
    "for k in np.linspace(0.4, 1, 5):\n",
    "# plt.plot(inps, -inps, label=\"regular\")\n",
    "    plt.plot(e**(-4*k*k)*erf(2*k) - e**(-8*k*k)*inps, label=\"k=\" + str(k))\n",
    "plt.grid()\n",
    "plt.legend()\n",
    "plt.ylim(-1, 1)"
   ]
  },
  {
   "cell_type": "code",
   "execution_count": null,
   "metadata": {},
   "outputs": [],
   "source": []
  },
  {
   "cell_type": "code",
   "execution_count": 32,
   "metadata": {},
   "outputs": [
    {
     "data": {
      "text/plain": [
       "Text(0, 0.5, 'v; $2\\\\delta = v/Y$')"
      ]
     },
     "execution_count": 32,
     "metadata": {},
     "output_type": "execute_result"
    },
    {
     "data": {
      "image/png": "[encoded data removed]",
      "text/plain": [
       "<Figure size 432x288 with 1 Axes>"
      ]
     },
     "metadata": {
      "needs_background": "light"
     },
     "output_type": "display_data"
    }
   ],
   "source": [
    "k=0\n",
    "inps = np.linspace(0, 20,1000)\n",
    "plt.plot(inps, efn(inps*e**-0.5), label='qaoa E')\n",
    "plt.plot(inps, 2*inps/(e**(2*k*k)*(8*pi)**0.5 * (1 - erf(k*2**0.5)) + 2*(inps)), label='corrected prob hrss 2*delta')\n",
    "# plt.plot(inps, 2*((2/pi)**0.5 * e**(-2*k*k)*erf(k*2**0.5) - e**(-4*k*k)*inps/pi) * 1/inps, label='hrss')\n",
    "# plt.plot(inps, (8*pi)**-0.5*inps)\n",
    "plt.grid()\n",
    "plt.legend()\n",
    "plt.xlabel('c; $Y= c\\sqrt{D}$')\n",
    "plt.ylabel('v; $2\\delta = v/Y$')"
   ]
  },
  {
   "cell_type": "code",
   "execution_count": 33,
   "metadata": {},
   "outputs": [
    {
     "data": {
      "text/plain": [
       "[<matplotlib.lines.Line2D at 0x7fc185467310>]"
      ]
     },
     "execution_count": 33,
     "metadata": {},
     "output_type": "execute_result"
    },
    {
     "data": {
      "image/png": "[encoded data removed]",
      "text/plain": [
       "<Figure size 432x288 with 1 Axes>"
      ]
     },
     "metadata": {
      "needs_background": "light"
     },
     "output_type": "display_data"
    }
   ],
   "source": [
    "inps = np.linspace(0, -2, 1000)\n",
    "plt.plot(inps, e**(2*inps*inps) * (1 - erf(inps * 2**0.5)))"
   ]
  },
  {
   "cell_type": "markdown",
   "metadata": {},
   "source": [
    "Now just lookin at Cuv"
   ]
  },
  {
   "cell_type": "code",
   "execution_count": 34,
   "metadata": {},
   "outputs": [],
   "source": [
    "def cuv(b, g, D):\n",
    "    return 0.5* sin(4*b) * sin(g) * cos(g)**(D-1)    - 0.25*sin(2*b)**2 * (1 - cos(2*g)**(D-1))"
   ]
  },
  {
   "cell_type": "code",
   "execution_count": 35,
   "metadata": {},
   "outputs": [],
   "source": [
    "import numpy as np\n",
    "from numpy import sin, cos, arctan\n",
    "import matplotlib.pyplot as plt"
   ]
  },
  {
   "cell_type": "code",
   "execution_count": 36,
   "metadata": {},
   "outputs": [],
   "source": [
    "def maxh(D):\n",
    "    inps = np.linspace(0, 2, 1000)\n",
    "    return max([h(i, D) for i in inps])"
   ]
  },
  {
   "cell_type": "code",
   "execution_count": 37,
   "metadata": {},
   "outputs": [
    {
     "ename": "NameError",
     "evalue": "name 'h' is not defined",
     "output_type": "error",
     "traceback": [
      "\u001b[0;31m---------------------------------------------------------------------------\u001b[0m",
      "\u001b[0;31mNameError\u001b[0m                                 Traceback (most recent call last)",
      "\u001b[0;32m<ipython-input-37-3572bf02e40f>\u001b[0m in \u001b[0;36m<module>\u001b[0;34m\u001b[0m\n\u001b[1;32m      2\u001b[0m \u001b[0mexp\u001b[0m \u001b[0;34m=\u001b[0m \u001b[0;36m2\u001b[0m\u001b[0;34m/\u001b[0m\u001b[0;36m3\u001b[0m\u001b[0;34m\u001b[0m\u001b[0;34m\u001b[0m\u001b[0m\n\u001b[1;32m      3\u001b[0m \u001b[0mplt\u001b[0m\u001b[0;34m.\u001b[0m\u001b[0mplot\u001b[0m\u001b[0;34m(\u001b[0m\u001b[0minps\u001b[0m\u001b[0;34m,\u001b[0m \u001b[0;34m[\u001b[0m\u001b[0mD\u001b[0m\u001b[0;34m*\u001b[0m\u001b[0mcuv\u001b[0m\u001b[0;34m(\u001b[0m\u001b[0;34m(\u001b[0m\u001b[0;36m1\u001b[0m\u001b[0;34m/\u001b[0m\u001b[0;36m2\u001b[0m\u001b[0;34m/\u001b[0m\u001b[0mD\u001b[0m\u001b[0;34m)\u001b[0m \u001b[0;34m/\u001b[0m\u001b[0mD\u001b[0m\u001b[0;34m**\u001b[0m\u001b[0;34m(\u001b[0m\u001b[0;34m-\u001b[0m\u001b[0mexp\u001b[0m\u001b[0;34m)\u001b[0m\u001b[0;34m,\u001b[0m \u001b[0mD\u001b[0m\u001b[0;34m**\u001b[0m\u001b[0;34m(\u001b[0m\u001b[0;34m-\u001b[0m\u001b[0mexp\u001b[0m\u001b[0;34m)\u001b[0m\u001b[0;34m,\u001b[0m \u001b[0mD\u001b[0m\u001b[0;34m)\u001b[0m \u001b[0;32mfor\u001b[0m \u001b[0mD\u001b[0m \u001b[0;32min\u001b[0m \u001b[0minps\u001b[0m\u001b[0;34m]\u001b[0m\u001b[0;34m,\u001b[0m \u001b[0mlabel\u001b[0m\u001b[0;34m=\u001b[0m\u001b[0;34m'qaoa'\u001b[0m\u001b[0;34m)\u001b[0m\u001b[0;34m\u001b[0m\u001b[0;34m\u001b[0m\u001b[0m\n\u001b[0;32m----> 4\u001b[0;31m \u001b[0mplt\u001b[0m\u001b[0;34m.\u001b[0m\u001b[0mplot\u001b[0m\u001b[0;34m(\u001b[0m\u001b[0minps\u001b[0m\u001b[0;34m,\u001b[0m \u001b[0;34m[\u001b[0m\u001b[0mD\u001b[0m\u001b[0;34m*\u001b[0m\u001b[0mmaxh\u001b[0m\u001b[0;34m(\u001b[0m\u001b[0mD\u001b[0m\u001b[0;34m)\u001b[0m \u001b[0;32mfor\u001b[0m \u001b[0mD\u001b[0m \u001b[0;32min\u001b[0m \u001b[0minps\u001b[0m\u001b[0;34m]\u001b[0m\u001b[0;34m,\u001b[0m \u001b[0mlabel\u001b[0m\u001b[0;34m=\u001b[0m\u001b[0;34m'prob hrss'\u001b[0m\u001b[0;34m)\u001b[0m\u001b[0;34m\u001b[0m\u001b[0;34m\u001b[0m\u001b[0m\n\u001b[0m\u001b[1;32m      5\u001b[0m \u001b[0mplt\u001b[0m\u001b[0;34m.\u001b[0m\u001b[0mgrid\u001b[0m\u001b[0;34m(\u001b[0m\u001b[0;34m)\u001b[0m\u001b[0;34m\u001b[0m\u001b[0;34m\u001b[0m\u001b[0m\n\u001b[1;32m      6\u001b[0m \u001b[0mplt\u001b[0m\u001b[0;34m.\u001b[0m\u001b[0mxlabel\u001b[0m\u001b[0;34m(\u001b[0m\u001b[0;34m\"D\"\u001b[0m\u001b[0;34m)\u001b[0m\u001b[0;34m\u001b[0m\u001b[0;34m\u001b[0m\u001b[0m\n",
      "\u001b[0;32m<ipython-input-37-3572bf02e40f>\u001b[0m in \u001b[0;36m<listcomp>\u001b[0;34m(.0)\u001b[0m\n\u001b[1;32m      2\u001b[0m \u001b[0mexp\u001b[0m \u001b[0;34m=\u001b[0m \u001b[0;36m2\u001b[0m\u001b[0;34m/\u001b[0m\u001b[0;36m3\u001b[0m\u001b[0;34m\u001b[0m\u001b[0;34m\u001b[0m\u001b[0m\n\u001b[1;32m      3\u001b[0m \u001b[0mplt\u001b[0m\u001b[0;34m.\u001b[0m\u001b[0mplot\u001b[0m\u001b[0;34m(\u001b[0m\u001b[0minps\u001b[0m\u001b[0;34m,\u001b[0m \u001b[0;34m[\u001b[0m\u001b[0mD\u001b[0m\u001b[0;34m*\u001b[0m\u001b[0mcuv\u001b[0m\u001b[0;34m(\u001b[0m\u001b[0;34m(\u001b[0m\u001b[0;36m1\u001b[0m\u001b[0;34m/\u001b[0m\u001b[0;36m2\u001b[0m\u001b[0;34m/\u001b[0m\u001b[0mD\u001b[0m\u001b[0;34m)\u001b[0m \u001b[0;34m/\u001b[0m\u001b[0mD\u001b[0m\u001b[0;34m**\u001b[0m\u001b[0;34m(\u001b[0m\u001b[0;34m-\u001b[0m\u001b[0mexp\u001b[0m\u001b[0;34m)\u001b[0m\u001b[0;34m,\u001b[0m \u001b[0mD\u001b[0m\u001b[0;34m**\u001b[0m\u001b[0;34m(\u001b[0m\u001b[0;34m-\u001b[0m\u001b[0mexp\u001b[0m\u001b[0;34m)\u001b[0m\u001b[0;34m,\u001b[0m \u001b[0mD\u001b[0m\u001b[0;34m)\u001b[0m \u001b[0;32mfor\u001b[0m \u001b[0mD\u001b[0m \u001b[0;32min\u001b[0m \u001b[0minps\u001b[0m\u001b[0;34m]\u001b[0m\u001b[0;34m,\u001b[0m \u001b[0mlabel\u001b[0m\u001b[0;34m=\u001b[0m\u001b[0;34m'qaoa'\u001b[0m\u001b[0;34m)\u001b[0m\u001b[0;34m\u001b[0m\u001b[0;34m\u001b[0m\u001b[0m\n\u001b[0;32m----> 4\u001b[0;31m \u001b[0mplt\u001b[0m\u001b[0;34m.\u001b[0m\u001b[0mplot\u001b[0m\u001b[0;34m(\u001b[0m\u001b[0minps\u001b[0m\u001b[0;34m,\u001b[0m \u001b[0;34m[\u001b[0m\u001b[0mD\u001b[0m\u001b[0;34m*\u001b[0m\u001b[0mmaxh\u001b[0m\u001b[0;34m(\u001b[0m\u001b[0mD\u001b[0m\u001b[0;34m)\u001b[0m \u001b[0;32mfor\u001b[0m \u001b[0mD\u001b[0m \u001b[0;32min\u001b[0m \u001b[0minps\u001b[0m\u001b[0;34m]\u001b[0m\u001b[0;34m,\u001b[0m \u001b[0mlabel\u001b[0m\u001b[0;34m=\u001b[0m\u001b[0;34m'prob hrss'\u001b[0m\u001b[0;34m)\u001b[0m\u001b[0;34m\u001b[0m\u001b[0;34m\u001b[0m\u001b[0m\n\u001b[0m\u001b[1;32m      5\u001b[0m \u001b[0mplt\u001b[0m\u001b[0;34m.\u001b[0m\u001b[0mgrid\u001b[0m\u001b[0;34m(\u001b[0m\u001b[0;34m)\u001b[0m\u001b[0;34m\u001b[0m\u001b[0;34m\u001b[0m\u001b[0m\n\u001b[1;32m      6\u001b[0m \u001b[0mplt\u001b[0m\u001b[0;34m.\u001b[0m\u001b[0mxlabel\u001b[0m\u001b[0;34m(\u001b[0m\u001b[0;34m\"D\"\u001b[0m\u001b[0;34m)\u001b[0m\u001b[0;34m\u001b[0m\u001b[0;34m\u001b[0m\u001b[0m\n",
      "\u001b[0;32m<ipython-input-36-ca741f55d2d3>\u001b[0m in \u001b[0;36mmaxh\u001b[0;34m(D)\u001b[0m\n\u001b[1;32m      1\u001b[0m \u001b[0;32mdef\u001b[0m \u001b[0mmaxh\u001b[0m\u001b[0;34m(\u001b[0m\u001b[0mD\u001b[0m\u001b[0;34m)\u001b[0m\u001b[0;34m:\u001b[0m\u001b[0;34m\u001b[0m\u001b[0;34m\u001b[0m\u001b[0m\n\u001b[1;32m      2\u001b[0m     \u001b[0minps\u001b[0m \u001b[0;34m=\u001b[0m \u001b[0mnp\u001b[0m\u001b[0;34m.\u001b[0m\u001b[0mlinspace\u001b[0m\u001b[0;34m(\u001b[0m\u001b[0;36m0\u001b[0m\u001b[0;34m,\u001b[0m \u001b[0;36m2\u001b[0m\u001b[0;34m,\u001b[0m \u001b[0;36m1000\u001b[0m\u001b[0;34m)\u001b[0m\u001b[0;34m\u001b[0m\u001b[0;34m\u001b[0m\u001b[0m\n\u001b[0;32m----> 3\u001b[0;31m     \u001b[0;32mreturn\u001b[0m \u001b[0mmax\u001b[0m\u001b[0;34m(\u001b[0m\u001b[0;34m[\u001b[0m\u001b[0mh\u001b[0m\u001b[0;34m(\u001b[0m\u001b[0mi\u001b[0m\u001b[0;34m,\u001b[0m \u001b[0mD\u001b[0m\u001b[0;34m)\u001b[0m \u001b[0;32mfor\u001b[0m \u001b[0mi\u001b[0m \u001b[0;32min\u001b[0m \u001b[0minps\u001b[0m\u001b[0;34m]\u001b[0m\u001b[0;34m)\u001b[0m\u001b[0;34m\u001b[0m\u001b[0;34m\u001b[0m\u001b[0m\n\u001b[0m",
      "\u001b[0;32m<ipython-input-36-ca741f55d2d3>\u001b[0m in \u001b[0;36m<listcomp>\u001b[0;34m(.0)\u001b[0m\n\u001b[1;32m      1\u001b[0m \u001b[0;32mdef\u001b[0m \u001b[0mmaxh\u001b[0m\u001b[0;34m(\u001b[0m\u001b[0mD\u001b[0m\u001b[0;34m)\u001b[0m\u001b[0;34m:\u001b[0m\u001b[0;34m\u001b[0m\u001b[0;34m\u001b[0m\u001b[0m\n\u001b[1;32m      2\u001b[0m     \u001b[0minps\u001b[0m \u001b[0;34m=\u001b[0m \u001b[0mnp\u001b[0m\u001b[0;34m.\u001b[0m\u001b[0mlinspace\u001b[0m\u001b[0;34m(\u001b[0m\u001b[0;36m0\u001b[0m\u001b[0;34m,\u001b[0m \u001b[0;36m2\u001b[0m\u001b[0;34m,\u001b[0m \u001b[0;36m1000\u001b[0m\u001b[0;34m)\u001b[0m\u001b[0;34m\u001b[0m\u001b[0;34m\u001b[0m\u001b[0m\n\u001b[0;32m----> 3\u001b[0;31m     \u001b[0;32mreturn\u001b[0m \u001b[0mmax\u001b[0m\u001b[0;34m(\u001b[0m\u001b[0;34m[\u001b[0m\u001b[0mh\u001b[0m\u001b[0;34m(\u001b[0m\u001b[0mi\u001b[0m\u001b[0;34m,\u001b[0m \u001b[0mD\u001b[0m\u001b[0;34m)\u001b[0m \u001b[0;32mfor\u001b[0m \u001b[0mi\u001b[0m \u001b[0;32min\u001b[0m \u001b[0minps\u001b[0m\u001b[0;34m]\u001b[0m\u001b[0;34m)\u001b[0m\u001b[0;34m\u001b[0m\u001b[0;34m\u001b[0m\u001b[0m\n\u001b[0m",
      "\u001b[0;31mNameError\u001b[0m: name 'h' is not defined"
     ]
    },
    {
     "data": {
      "image/png": "[encoded data removed]",
      "text/plain": [
       "<Figure size 432x288 with 1 Axes>"
      ]
     },
     "metadata": {
      "needs_background": "light"
     },
     "output_type": "display_data"
    }
   ],
   "source": [
    "inps = np.arange(1, 100000, 100)\n",
    "exp = 2/3\n",
    "plt.plot(inps, [D*cuv((1/2/D) /D**(-exp), D**(-exp), D) for D in inps], label='qaoa')\n",
    "plt.plot(inps, [D*maxh(D) for D in inps], label='prob hrss')\n",
    "plt.grid()\n",
    "plt.xlabel(\"D\")\n",
    "plt.ylabel(\"k\")\n",
    "plt.title(\"max cut on complete graph, 1/2 + k/D\")\n",
    "plt.legend()\n",
    "plt.savefig('completegraph2.png')"
   ]
  },
  {
   "cell_type": "code",
   "execution_count": null,
   "metadata": {},
   "outputs": [],
   "source": []
  },
  {
   "cell_type": "code",
   "execution_count": null,
   "metadata": {},
   "outputs": [],
   "source": []
  },
  {
   "cell_type": "markdown",
   "metadata": {},
   "source": [
    "# testing modified taylor approx erf"
   ]
  },
  {
   "cell_type": "code",
   "execution_count": null,
   "metadata": {},
   "outputs": [],
   "source": [
    "def fn(a, eps):\n",
    "    return erf(a) + 2*pi**-0.5*e**(-a*a) * (eps + a*eps*eps/2)"
   ]
  },
  {
   "cell_type": "code",
   "execution_count": null,
   "metadata": {},
   "outputs": [],
   "source": [
    "a = 1\n",
    "dist = 3\n",
    "inps = np.linspace(a-dist, a+dist, 1000)\n",
    "plt.plot(inps, erf(inps))\n",
    "plt.plot(inps, [fn(a, i-a) for i in inps])"
   ]
  },
  {
   "cell_type": "markdown",
   "metadata": {},
   "source": [
    "test"
   ]
  },
  {
   "cell_type": "code",
   "execution_count": null,
   "metadata": {},
   "outputs": [],
   "source": [
    "D=100000\n",
    "pts=10000"
   ]
  },
  {
   "cell_type": "code",
   "execution_count": null,
   "metadata": {},
   "outputs": [],
   "source": [
    "k=0.25\n",
    "inps = np.arange(1, D, 10)\n",
    "outs = []\n",
    "for Y in inps:\n",
    "    samples = normal(size=pts)\n",
    "    s=(D-Y)**0.5\n",
    "    pt1 = erf(2*k + 2**-0.5/s  * ( 1 + Y**0.5* samples ))\n",
    "    pt2 = erf(2*k + 2**-0.5/s  * ( 1 - Y**0.5* samples ))\n",
    "    pt3 = erf(2*k + 2**-0.5/s  * (-1 - Y**0.5* samples ))\n",
    "    outs.append(-0.25*np.average(pt1*pt2 - pt3**2))\n",
    "plt.plot(inps/D, outs, label=\"HRSS\")\n",
    "plt.plot(inps/D, inps/pi/D, label=\"1/$\\pi$\")\n",
    "plt.plot(inps/D, inps/2/D, label=\"1/2\")\n",
    "\n",
    "plt.xlabel(\"Y/D\")\n",
    "plt.ylabel(\"$-\\delta(D, Y, 0)$\")\n",
    "plt.legend()\n",
    "plt.grid()\n"
   ]
  },
  {
   "cell_type": "code",
   "execution_count": null,
   "metadata": {},
   "outputs": [],
   "source": [
    "# prob hrss\n",
    "# k=0 isn't bad, because when you adjust it you have to beat it by e^4k^2 ... \n",
    "#  looks like k!=0 can win where k=0 can't... up to around 40-50%...\n",
    "k=0.15\n",
    "inps = np.arange(1, D, 10)\n",
    "outs = []\n",
    "for Y in inps:\n",
    "    samples = normal(size=pts)\n",
    "    s=(D-Y)**0.5\n",
    "    pt1 = erf(-2*k + 2**-0.5/s  * ( 1 + Y**0.5* samples ))\n",
    "    pt2 = erf(-2*k + 2**-0.5/s  * ( 1 - Y**0.5* samples ))\n",
    "    pt3 = erf(-2*k + 2**-0.5/s  * (-1 - Y**0.5* samples ))\n",
    "    outs.append(2*pi*D*-0.25*np.average(pt1*pt2 - pt3**2) * e**(4*k*k))\n",
    "plt.plot(inps/D, inps/np.array(outs), label=\"prob HRSS\")\n",
    "plt.plot(inps/D, [0.5]*len(inps), label='0.5')\n",
    "# plt.plot(inps/D, inps/pi/D, label=\"1/$\\pi$\")\n",
    "# plt.plot(inps/D, inps/2/D, label=\"1/2\")\n",
    "\n",
    "plt.ylim(0, 1)\n",
    "plt.xlabel(\"Y/D\")\n",
    "# plt.ylabel(\"$-\\delta(D, Y, 0)$\")\n",
    "plt.legend()\n",
    "plt.grid()"
   ]
  },
  {
   "cell_type": "code",
   "execution_count": null,
   "metadata": {},
   "outputs": [],
   "source": []
  },
  {
   "cell_type": "markdown",
   "metadata": {},
   "source": [
    "another test 11.20.20"
   ]
  },
  {
   "cell_type": "code",
   "execution_count": null,
   "metadata": {},
   "outputs": [],
   "source": [
    "inps = np.linspace(-2, 2, 1000)"
   ]
  },
  {
   "cell_type": "code",
   "execution_count": null,
   "metadata": {},
   "outputs": [],
   "source": [
    "plt.plot(inps, e**(-inps**2)*erf(inps))"
   ]
  },
  {
   "cell_type": "code",
   "execution_count": null,
   "metadata": {},
   "outputs": [],
   "source": [
    "0.4*2**0.5/pi**0.5"
   ]
  },
  {
   "cell_type": "code",
   "execution_count": null,
   "metadata": {},
   "outputs": [],
   "source": [
    "1/pi"
   ]
  },
  {
   "cell_type": "code",
   "execution_count": null,
   "metadata": {},
   "outputs": [],
   "source": [
    "0.41*(2/pi)**0.5"
   ]
  },
  {
   "cell_type": "code",
   "execution_count": null,
   "metadata": {},
   "outputs": [],
   "source": [
    "a = np.array([1,2,3])\n",
    "b = np.array([4,5])"
   ]
  },
  {
   "cell_type": "code",
   "execution_count": null,
   "metadata": {},
   "outputs": [],
   "source": [
    "c = np.linspace(0, 40, 1000)\n",
    "for k in np.append ( np.linspace(0.4, 1, 100), np.linspace(1, 1.4, 100)):\n",
    "    plt.plot(c, 2*c * (e**(-2*k*k) * erf(k*2**0.5) * (2/pi)**0.5 - e**(-4*k*k) * c/pi), label='k=' + str(k))\n",
    "    plt.xlabel('c, $Y=c \\sqrt{D}$')\n",
    "    plt.ylabel('hrss $2 \\delta Y$')\n",
    "plt.plot(c, efn(c*e**-0.5), label='qaoa E')\n",
    "k=0\n",
    "plt.plot(c, 2*c/(e**(2*k*k)*(8*pi)**0.5 * (1 - erf(k*2**0.5)) + 2*(c)), label='corrected prob hrss 2*delta')\n",
    "k=1\n",
    "# plt.plot(c, 2*c/(e**(2*k*k)*(8*pi)**0.5 * (1 - erf(k*2**0.5)) + 2*(c)), label='corrected prob hrss 2*delta')\n",
    "\n",
    "# plt.legend()\n",
    "plt.grid()\n",
    "plt.ylim(0, 1)"
   ]
  },
  {
   "cell_type": "markdown",
   "metadata": {},
   "source": [
    "when does prob hrss beat hrss?\n",
    "when d < e/2"
   ]
  },
  {
   "cell_type": "markdown",
   "metadata": {},
   "source": [
    "matches when c = (erf(k sqrt2) - 1/2) / (e^(-2k^2) sqrt(2/pi))"
   ]
  },
  {
   "cell_type": "code",
   "execution_count": null,
   "metadata": {},
   "outputs": [],
   "source": [
    "inps = np.linspace(0, 1.3, 1000)\n",
    "c = (erf(inps*2**0.5) - 0.5) / (e**(-2*inps*inps) * (2/pi)**0.5)\n",
    "plt.plot(c, inps, label='maximum k value')\n",
    "\n",
    "\n",
    "plt.plot(c, 2*c/(e**(2*inps**2)*(8*pi)**0.5 * (1 - erf(inps*2**0.5)) + 2*(c)), label='corrected prob hrss 2*delta')\n",
    "plt.plot(c, efn(c*e**-0.5), label='qaoa E')\n",
    "\n",
    "for k in np.append ( np.linspace(0.2, 1, 300), np.linspace(1, 1.8, 300)):\n",
    "    plt.plot(c, 2*c * (e**(-2*k*k) * erf(k*2**0.5) * (2/pi)**0.5 - e**(-4*k*k) * c/pi), label='k=' + str(k))\n",
    "    plt.xlabel('c, $Y=c \\sqrt{D}$')\n",
    "    plt.ylabel('hrss $2 \\delta Y$')\n",
    "    \n",
    "plt.grid()\n",
    "plt.xlabel('choice of c')\n",
    "# plt.legend()\n",
    "plt.ylim(0, 1)"
   ]
  },
  {
   "cell_type": "markdown",
   "metadata": {},
   "source": [
    "prob hrss starts winning around c=0.5.. but the advantage is so tiny! 2-3%?"
   ]
  },
  {
   "cell_type": "markdown",
   "metadata": {},
   "source": [
    "advantage?\n"
   ]
  },
  {
   "cell_type": "code",
   "execution_count": null,
   "metadata": {},
   "outputs": [],
   "source": [
    "inps = np.linspace(0, 1.4, 1000)\n",
    "c = (erf(inps*2**0.5) - 0.5) / (e**(-2*inps*inps) * (2/pi)**0.5)\n",
    "# plt.plot(c, inps, label='maximum k value')\n",
    "phrss = 2*c/(e**(2*inps**2)*(8*pi)**0.5 * (1 - erf(inps*2**0.5)) + 2*(c))\n",
    "qaoa = efn(c*e**-0.5)\n",
    "\n",
    "# plt.plot(c, phrss, label='corrected prob hrss 2*delta')\n",
    "# plt.plot(c,qaoa, label='qaoa E')\n",
    "plt.plot(c, qaoa/phrss)\n",
    "plt.grid()\n",
    "plt.xlim(0)\n",
    "plt.ylim(None,1.07)"
   ]
  },
  {
   "cell_type": "code",
   "execution_count": null,
   "metadata": {},
   "outputs": [],
   "source": [
    "max((qaoa/phrss)[c > 0])"
   ]
  },
  {
   "cell_type": "code",
   "execution_count": null,
   "metadata": {},
   "outputs": [],
   "source": [
    "c = 100\n",
    "inps = np.linspace(0, 2, 1000)\n",
    "plt.plot(inps, erf(inps*2**0.5) - c*e**(-2*inps**2)*(2*pi)**-0.5)\n",
    "plt.plot(inps, [0.5,]*len(inps))\n",
    "plt.title(\"valid below the line\")\n",
    "plt.xlabel(\"k\")\n",
    "plt.ylabel('$\\delta / \\epsilon$')\n",
    "plt.grid()\n",
    "plt.ylim(0, 1)"
   ]
  },
  {
   "cell_type": "code",
   "execution_count": null,
   "metadata": {},
   "outputs": [],
   "source": []
  },
  {
   "cell_type": "markdown",
   "metadata": {},
   "source": [
    "from wolfram"
   ]
  },
  {
   "cell_type": "code",
   "execution_count": null,
   "metadata": {},
   "outputs": [],
   "source": [
    "inps = np.linspace(0, 1.2, 1000)\n",
    "plt.plot(-1/2 + e**(2* inps**2) *(pi/2)**0.5 * inps * erf(inps*2**0.5), inps)\n",
    "plt.xlabel('choice of c')\n",
    "plt.ylabel('optimal choice of k')\n",
    "plt.grid()"
   ]
  },
  {
   "cell_type": "code",
   "execution_count": null,
   "metadata": {},
   "outputs": [],
   "source": []
  },
  {
   "cell_type": "code",
   "execution_count": null,
   "metadata": {},
   "outputs": [],
   "source": [
    "c = 100\n",
    "inps = np.linspace(0.1, 2, 1000)\n",
    "plt.plot(inps, e**(inps**2 * (-2)) * (2*c + 1/ inps))\n",
    "plt.plot(inps, erf(inps*2**0.5))\n",
    "plt.grid()"
   ]
  },
  {
   "cell_type": "code",
   "execution_count": null,
   "metadata": {},
   "outputs": [],
   "source": [
    "inps = np.linspace(0, 2, 1000)\n",
    "plt.plot(inps, (pi/2)**0.5 * e**(2*inps) * erf(inps*2**0.5) - inps/2)\n",
    "plt.xlabel('k')\n",
    "plt.ylabel('c')\n",
    "plt.grid()"
   ]
  },
  {
   "cell_type": "code",
   "execution_count": null,
   "metadata": {},
   "outputs": [],
   "source": [
    "fig, axs = plt.subplots(2, 1, figsize=(7, 5))\n",
    "\n",
    "inps = np.linspace(0.4, 1.5, 10000)\n",
    "c = 0.5 * e**(2*inps**2)*erf(inps*2**0.5)*(2*pi)**0.5 - 1/(2*inps)\n",
    "delta = erf(inps*2**0.5)*e**(-2*inps**2)*(2*pi)**-0.5 + e**(-4*inps**2)/(2*pi*inps)\n",
    "barrier = (2*pi)**-0.5 * e**(-2*inps**2)\n",
    "\n",
    "axs[0].plot(c,  delta*c, label='optimal HRSS')\n",
    "axs[0].plot(c, 0.5*efn(c*e**-0.5), label='optimal QAOA$_1$')\n",
    "axs[0].grid()\n",
    "axs[0].set_ylabel('$Y *$(cut fraction $- 1/2$)')\n",
    "axs[0].legend()\n",
    "axs[0].set_xlim(0)\n",
    "axs[0].set_ylim(0)\n",
    "\n",
    "\n",
    "axs[1].plot(c, 0.5*efn(c*e**-0.5) / (delta*c), label='QAOA$_1$ advantage / $\\delta$', color='black')\n",
    "axs[1].grid()\n",
    "axs[1].set_ylabel('ratio of cut advantage')\n",
    "axs[1].legend()\n",
    "axs[1].set_xlim(0)\n",
    "axs[1].set_ylim(0.8, 1.1)\n",
    "\n",
    "plt.xlabel('c (such that $Y = c \\sqrt{D} $)')\n",
    "\n",
    "plt.savefig('HRSSvQAOA_Ytheta_rtD.png')"
   ]
  },
  {
   "cell_type": "code",
   "execution_count": null,
   "metadata": {},
   "outputs": [],
   "source": [
    "0.95"
   ]
  },
  {
   "cell_type": "code",
   "execution_count": null,
   "metadata": {},
   "outputs": [],
   "source": [
    "inps = np.linspace(0.575, 0.576, 10000)\n",
    "c = 0.5 * e**(2*inps**2)*erf(inps*2**0.5)*(2*pi)**0.5 - 1/(2*inps)\n",
    "delta = erf(inps*2**0.5)*e**(-2*inps**2)*(2*pi)**-0.5 + e**(-4*inps**2)/(2*pi*inps)\n",
    "barrier = (2*pi)**-0.5 * e**(-2*inps**2)\n",
    "plt.plot(c,  0.5*efn(c*e**-0.5) / (delta*c) - 1)\n",
    "plt.grid()"
   ]
  },
  {
   "cell_type": "code",
   "execution_count": null,
   "metadata": {},
   "outputs": [],
   "source": [
    "def get_outs(c, inps):\n",
    "    outs = (2/pi)**0.5 * e**(-2*inps**2) * erf(inps*2**0.5) - e**(-4*inps**2)*c/pi\n",
    "    return outs"
   ]
  },
  {
   "cell_type": "code",
   "execution_count": null,
   "metadata": {},
   "outputs": [],
   "source": [
    "# this is the best delta given Y = c rt D\n",
    "c = 40\n",
    "plt.xlabel('k')\n",
    "plt.ylabel('delta rt D')\n",
    "inps = np.linspace(0, 3, 1000)\n",
    "plt.plot(inps, get_outs(c, inps))\n",
    "plt.grid()\n",
    "plt.ylim(-0.1, 0.5)"
   ]
  },
  {
   "cell_type": "code",
   "execution_count": null,
   "metadata": {},
   "outputs": [],
   "source": [
    "cs = np.linspace(0.4, 10, 1000)\n",
    "inps = np.linspace(0, 3, 1000)\n",
    "plt.plot(cs, [max(get_outs(c, inps))/c for c in cs], label='hrss')\n",
    "plt.plot(cs, 0.5*efn(cs*e**-0.5), label='qaoa', linewidth=5)\n",
    "for k in np.linspace(0, 10, 6):\n",
    "    plt.plot(cs, cs/((8*pi)**0.5 * e**(2*k**2) * (1 - erf(k*2**0.5)) + 2*cs), label='prob hrss at k=' + str(k)[:4])\n",
    "plt.grid()\n",
    "plt.legend()\n",
    "plt.xlabel('c')\n",
    "plt.ylabel('delta rt D')"
   ]
  },
  {
   "cell_type": "code",
   "execution_count": null,
   "metadata": {},
   "outputs": [],
   "source": [
    "inps = np.linspace(0.8, 1.5, 1000)\n",
    "c=0.5 * e**(2*inps**2)*erf(inps*2**0.5)*(2*pi)**0.5 - 1/(2*inps)\n",
    "delta =(erf(inps*2**0.5)*e**(-2*inps**2)*(2*pi)**-0.5 + e**(-4*inps**2)/(2*pi*inps))\n",
    "for k in np.linspace(0, 2, 4):\n",
    "    plt.plot(c, c/((e**(2*k**2) * (8*pi)**0.5 * (1 - erf(k*2**0.5))) + 2*c),  label='prob hrss at k='+ str(k))\n",
    "plt.plot(c, 0.5*efn(c*e**-0.5), label='qaoa')\n",
    "plt.plot(c, c*delta, label='optimal hrss', color='black', linewidth=2)\n",
    "\n",
    "plt.xlabel('c')\n",
    "plt.ylabel('delta * Y')\n",
    "plt.grid()\n",
    "plt.legend()\n",
    "plt.xlim(0)\n",
    "# plt.ylim(0)"
   ]
  },
  {
   "cell_type": "code",
   "execution_count": null,
   "metadata": {},
   "outputs": [],
   "source": [
    "cs = np.linspace(0, 25, 1000)\n",
    "plt.plot(cs, c\n",
    "plt.grid()"
   ]
  },
  {
   "cell_type": "code",
   "execution_count": null,
   "metadata": {},
   "outputs": [],
   "source": []
  },
  {
   "cell_type": "markdown",
   "metadata": {},
   "source": [
    "Give D, c then plot delta per k"
   ]
  },
  {
   "cell_type": "code",
   "execution_count": null,
   "metadata": {},
   "outputs": [],
   "source": []
  },
  {
   "cell_type": "code",
   "execution_count": null,
   "metadata": {},
   "outputs": [],
   "source": [
    "c = 2\n",
    "inps = np.linspace(0, 1.5, 10000)\n",
    "delta = (2/pi)**0.5 * e**(-2*inps**2) * erf(inps*2**0.5) - c*e**(-4*inps**2)/pi\n",
    "plt.plot(inps, delta, label='HRSS')\n",
    "# plt.plot(inps, [0 if ok(delta[idx], k) else 1 for idx, k in enumerate(inps)], label='prob formula ok')\n",
    "plt.plot(inps, [ 1/((8*pi)**0.5 * e**(2*k**2) * (1 - erf(k*2**0.5)) + 2*c)  \\\n",
    "                if ok(delta[idx], k) else None  \\\n",
    "                for idx, k in enumerate(inps)], label='prob HRSS')\n",
    "\n",
    "plt.plot(inps, [ 1/((8*pi)**0.5 * e**(2*k**2) * (1 - erf(k*2**0.5)) + 2*c)  \\\n",
    "                if not ok(delta[idx], k) else None  \\\n",
    "                for idx, k in enumerate(inps)], 'r--', label='invalid prob HRSS')\n",
    "plt.grid()\n",
    "plt.xlabel('k (such that threshold $= 1/2 + k \\sqrt{D} $)')\n",
    "plt.ylabel('$\\sqrt{D} *$ (cut fraction $- 1/2$)')\n",
    "plt.title(\"$Y = c \\sqrt{D}$; c = \" + str(c))\n",
    "plt.legend()\n",
    "plt.ylim(0, 1.5*max(delta))\n",
    "plt.savefig('HRSSvsprobHRSS_theta_rtD.png')"
   ]
  },
  {
   "cell_type": "code",
   "execution_count": null,
   "metadata": {},
   "outputs": [],
   "source": [
    "# when is prob hrss valid?\n",
    "def ok(deltartD, k):\n",
    "    return deltartD < e**(-2*k*k) * (2*pi)**-0.5"
   ]
  },
  {
   "cell_type": "code",
   "execution_count": null,
   "metadata": {},
   "outputs": [],
   "source": [
    "inps = np.linspace(0, 2, 1000)\n",
    "plt.plot(inps, e**(2*inps**2) * (1 - erf(inps*2**0.5)))"
   ]
  },
  {
   "cell_type": "code",
   "execution_count": null,
   "metadata": {},
   "outputs": [],
   "source": []
  },
  {
   "cell_type": "code",
   "execution_count": null,
   "metadata": {},
   "outputs": [],
   "source": []
  },
  {
   "cell_type": "code",
   "execution_count": null,
   "metadata": {},
   "outputs": [],
   "source": []
  },
  {
   "cell_type": "markdown",
   "metadata": {},
   "source": [
    "testing above 1"
   ]
  },
  {
   "cell_type": "code",
   "execution_count": 54,
   "metadata": {},
   "outputs": [
    {
     "data": {
      "text/plain": [
       "1.0"
      ]
     },
     "execution_count": 54,
     "metadata": {},
     "output_type": "execute_result"
    }
   ],
   "source": [
    "min(outs)"
   ]
  },
  {
   "cell_type": "code",
   "execution_count": 88,
   "metadata": {},
   "outputs": [
    {
     "data": {
      "text/plain": [
       "Text(0, 0.5, '$erf( k\\\\sqrt{2}) + e^{-2k^2} / k\\\\sqrt{2\\\\pi}$')"
      ]
     },
     "execution_count": 88,
     "metadata": {},
     "output_type": "execute_result"
    },
    {
     "data": {
      "image/png": "[encoded data removed]",
      "text/plain": [
       "<Figure size 432x288 with 1 Axes>"
      ]
     },
     "metadata": {
      "needs_background": "light"
     },
     "output_type": "display_data"
    }
   ],
   "source": [
    "inps = np.linspace(0.001, 3, 10000)\n",
    "c=0.5 * e**(2*inps**2)*erf(inps*2**0.5)*(2*pi)**0.5 - 1/(2*inps)\n",
    "outs = erf(inps*2**0.5) + e**(-2*inps**2)/inps * (2*pi)**-0.5 \n",
    "plt.loglog(c,outs - 1)\n",
    "plt.grid()\n",
    "plt.xlabel('c (such that $Y = c \\sqrt{D}$)')\n",
    "plt.ylabel('$erf( k\\sqrt{2}) + e^{-2k^2} / k\\sqrt{2\\pi}$')"
   ]
  },
  {
   "cell_type": "code",
   "execution_count": null,
   "metadata": {},
   "outputs": [],
   "source": []
  },
  {
   "cell_type": "code",
   "execution_count": null,
   "metadata": {},
   "outputs": [],
   "source": []
  },
  {
   "cell_type": "code",
   "execution_count": null,
   "metadata": {},
   "outputs": [],
   "source": [
    "\n",
    "\n"
   ]
  },
  {
   "cell_type": "code",
   "execution_count": null,
   "metadata": {},
   "outputs": [],
   "source": []
  }
 ],
 "metadata": {
  "kernelspec": {
   "display_name": "Python 3",
   "language": "python",
   "name": "python3"
  },
  "language_info": {
   "codemirror_mode": {
    "name": "ipython",
    "version": 3
   },
   "file_extension": ".py",
   "mimetype": "text/x-python",
   "name": "python",
   "nbconvert_exporter": "python",
   "pygments_lexer": "ipython3",
   "version": "3.7.4"
  }
 },
 "nbformat": 4,
 "nbformat_minor": 4
}
