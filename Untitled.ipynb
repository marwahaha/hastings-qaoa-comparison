{
 "cells": [
  {
   "cell_type": "code",
   "execution_count": 15,
   "metadata": {},
   "outputs": [
    {
     "name": "stdout",
     "output_type": "stream",
     "text": [
      "SciPy optimization: Optimization terminated successfully.\n",
      "Max of p=2 QAOA on 3-regular graphs: 0.7559064584514643\n",
      "Optimal input (in degrees): [16.75219732 51.44247044 31.79363354 27.9509386 ]\n"
     ]
    }
   ],
   "source": [
    "def qaoa2(beta_2, gamma_2, beta_1, gamma_1, D):\n",
    "    \"\"\"Cut fraction with p=2 QAOA on D-regular girth > 5 graphs\"\"\"\n",
    "    c = cos(2*beta_2)\n",
    "    s = sin(2*beta_2)\n",
    "    m = cos(gamma_2)\n",
    "    n = sin(gamma_2)\n",
    "    r = cos(2*beta_1)\n",
    "    t = sin(2*beta_1)\n",
    "    G = cos(gamma_1)\n",
    "    H = sin(gamma_1)\n",
    "\n",
    "    A = -2*c*c*r*t*H*G**(D-1)\n",
    "    bpt1 = 0.5*s*c*(\n",
    "        (1 + r)*(-m*r*H - n*G)*((m*G - n*r*H)**(D-1))\n",
    "        + (1 - r)*(m*r*H - n*G)*((m*G + n*r*H)**(D-1))\n",
    "    )\n",
    "    bpt2 = 0.5*s*c*t*(\n",
    "        (m*t*(G**(D-1))*H + (1j)*n)*((m + (1j)*n*t*(G**(D-1))*H)**(D-1))\n",
    "        + (m*t*(G**(D-1))*H - (1j)*n)*((m - (1j)*n*t*(G**(D-1))*H)**(D-1))\n",
    "    )\n",
    "    Ea = s*s*t*H * 0.5 * \\\n",
    "        ((1+r)*(m*G - n*H*r)**(D-1) - (1-r)*(m*G + n*H*r)**(D-1))\n",
    "    Eb = (m + (1j)*n * G**(D-1) * H*t)**(D-1) + \\\n",
    "        (m - (1j)*n * G**(D-1) * H*t)**(D-1)\n",
    "    return 0.5 - 0.5 * (A + 2*(bpt1 + bpt2) + Ea*Eb)\n",
    "\n",
    "from scipy.optimize import minimize\n",
    "from numpy import pi\n",
    "\n",
    "qaoa2_d3_deg = lambda a: -qaoa2(a[0]*pi/180, a[1]*pi/180, a[2]*pi/180, a[3]*pi/180, 3).real\n",
    "result = minimize(qaoa2_d3_deg, (1, 1, 1, 1), method='Nelder-Mead')\n",
    "print(\"SciPy optimization:\", result.message)\n",
    "print(\"Max of p=2 QAOA on 3-regular graphs:\", -result.fun)\n",
    "print(\"Optimal input (in degrees):\", result.x)"
   ]
  },
  {
   "cell_type": "code",
   "execution_count": 14,
   "metadata": {},
   "outputs": [
    {
     "name": "stdout",
     "output_type": "stream",
     "text": [
      "[0.40771208 0.40771175 0.40771141 0.40771108 0.40771075]\n"
     ]
    }
   ],
   "source": [
    "print(qaoavals[-5:])"
   ]
  },
  {
   "cell_type": "code",
   "execution_count": null,
   "metadata": {},
   "outputs": [],
   "source": []
  }
 ],
 "metadata": {
  "kernelspec": {
   "display_name": "Python 3",
   "language": "python",
   "name": "python3"
  },
  "language_info": {
   "codemirror_mode": {
    "name": "ipython",
    "version": 3
   },
   "file_extension": ".py",
   "mimetype": "text/x-python",
   "name": "python",
   "nbconvert_exporter": "python",
   "pygments_lexer": "ipython3",
   "version": "3.7.4"
  }
 },
 "nbformat": 4,
 "nbformat_minor": 4
}
